{
 "cells": [
  {
   "cell_type": "markdown",
   "id": "160af8e1-ec54-4f32-8fb6-25b6b85c3d0a",
   "metadata": {},
   "source": [
    "# Глава 4. Множества(set) и словари(dict)"
   ]
  },
  {
   "cell_type": "markdown",
   "id": "04ae99c2-15ad-4c91-b070-7c766f14e3fa",
   "metadata": {},
   "source": [
    "### Множество - неупорядоченный набор уникальных элементов\n",
    "#### В множестве не может быть двух одинаковых элементов, так как отсутсвует понятие \"позиция элемента в множестве\"\n",
    "\n",
    "Пример множества:\n",
    "set_ = {1, 2, 3, 4}"
   ]
  },
  {
   "cell_type": "markdown",
   "id": "a9903549-e417-467b-bdcb-104a412fd101",
   "metadata": {},
   "source": [
    "## Создание множеств"
   ]
  },
  {
   "cell_type": "code",
   "execution_count": 2,
   "id": "ca95fd54-021f-4c4d-8bf3-90796c63be8e",
   "metadata": {},
   "outputs": [
    {
     "name": "stdout",
     "output_type": "stream",
     "text": [
      "a =  {50, 20, 40, 10, 60}\n",
      "b =  {2, 3, 5, 7, 9}\n",
      "c =  {'H', 'e', 'o', 'l'}\n"
     ]
    }
   ],
   "source": [
    "a = {10, 50, 20, 60, 40}\n",
    "b = set([2, 3, 5, 7, 3, 9, 5])\n",
    "c = set('Hello')\n",
    "print('a = ', a)\n",
    "print('b = ', b)\n",
    "print('c = ', c)\n"
   ]
  },
  {
   "cell_type": "code",
   "execution_count": 3,
   "id": "65b954bb-383f-4a2e-b460-9a0abb46529b",
   "metadata": {},
   "outputs": [],
   "source": [
    "# Генерирование множества случайных чисел"
   ]
  },
  {
   "cell_type": "code",
   "execution_count": 22,
   "id": "c2f800db-836d-4c4c-8c46-753617218eb2",
   "metadata": {},
   "outputs": [
    {
     "name": "stdout",
     "output_type": "stream",
     "text": [
      "{34, 99, 42, 74, 13, 82, 20, 87, 88, 93}\n"
     ]
    }
   ],
   "source": [
    "from random import *\n",
    "seed(20) # инициализация генератора случайных чисел позволяет получать одни и те же случайные числа при вызове программы\n",
    "count = 10 # количество разных случайных чисел\n",
    "nums = set() # создание пустого множества\n",
    "while len(nums) < count:\n",
    "    nums.add(randint(1, 100))\n",
    "print(nums)"
   ]
  },
  {
   "cell_type": "markdown",
   "id": "e14325fd-de17-4b19-8ed8-c2b875213a62",
   "metadata": {},
   "source": [
    "## Операции с множествами"
   ]
  },
  {
   "cell_type": "markdown",
   "id": "1c167a7a-e3eb-497f-902b-37e1df96403f",
   "metadata": {},
   "source": [
    "#### add() - добавление элементов в множество\n",
    "#### remove() - удаление элемента из множества\n",
    "#### discard() - удаление элемента из множества\n",
    "#### clean() - полная очистка множества\n",
    "### НЕ изменяют сами множества\n",
    "#### union() - объединение множеств\n",
    "#### intersection() - пересечение множеств\n",
    "#### difference() - разность множеств\n",
    "#### symmetric_difference() - симметричная разность множеств\n",
    "\n",
    "### Изменяют сами множества\n",
    "#### update() - объединение множеств\n",
    "#### intersection_update() - пересечение множеств\n",
    "#### difference_update() - разность множеств\n",
    "#### symmetric_difference_update() - симметричная разность множеств\n",
    "####\n",
    "#### a.issubset(b) - определяет является ли множество a подмнождеством множества b\n",
    "#### a.issuperset(b) - определяет является ли множество b подмнождеством множества a\n",
    "#### a.isdisjoint(b) - определяет, является пересечение множеств a и b пустым"
   ]
  },
  {
   "cell_type": "code",
   "execution_count": 37,
   "id": "5924f09d-8cd3-49ae-af7d-d021fb2c8510",
   "metadata": {},
   "outputs": [
    {
     "name": "stdout",
     "output_type": "stream",
     "text": [
      "Изначальные множества\n",
      "a =  {1, 3, 5, 7, 9}\n",
      "b =  {0, 2, 4, 6, 8}\n",
      "c =  {7, 9, 11, 13, 15}\n",
      "\n",
      "Объединение множеств\n",
      "a|b =  {0, 1, 2, 3, 4, 5, 6, 7, 8, 9}\n",
      "b|a =  {0, 1, 2, 3, 4, 5, 6, 7, 8, 9}\n",
      "\n",
      "Пересечение множеств\n",
      "a&c =  {9, 7}\n",
      "c&a =  {9, 7}\n",
      "\n",
      "Разность множеств\n",
      "a-c =  {1, 3, 5}\n",
      "c-a =  {11, 13, 15}\n",
      "\n",
      "Симметрическая разность множеств\n",
      "a^c =  {1, 3, 5, 11, 13, 15}\n",
      "c^a =  {1, 3, 5, 11, 13, 15}\n",
      "\n",
      "Изначальные множества\n",
      "a =  {1, 3, 5, 7, 9}\n",
      "b =  {0, 2, 4, 6, 8}\n",
      "c =  {7, 9, 11, 13, 15}\n"
     ]
    }
   ],
   "source": [
    "a = {2*k+1 for k in range(5)}\n",
    "b = {2*k for k in range(5)}\n",
    "c = {2*k+1 for k in range(3, 8)}\n",
    "print('Изначальные множества')\n",
    "print('a = ', a)\n",
    "print('b = ', b)\n",
    "print('c = ', c)\n",
    "print()\n",
    "print('Объединение множеств')\n",
    "print('a|b = ', a|b)\n",
    "print('b|a = ', b.union(a))\n",
    "print()\n",
    "print('Пересечение множеств')\n",
    "print('a&c = ', a&c)\n",
    "print('c&a = ', c.intersection(a))\n",
    "print()\n",
    "print('Разность множеств')\n",
    "print('a-c = ', a-c)\n",
    "print('c-a = ', c.difference(a))\n",
    "print()\n",
    "print('Симметрическая разность множеств')\n",
    "print('a^c = ', a^c)\n",
    "print('c^a = ', c.symmetric_difference(a))\n",
    "print()\n",
    "print('Изначальные множества')\n",
    "print('a = ', a)\n",
    "print('b = ', b)\n",
    "print('c = ', c)"
   ]
  },
  {
   "cell_type": "code",
   "execution_count": 50,
   "id": "6ddd7c8d-0b9c-4b07-be0f-1d909de50ed6",
   "metadata": {},
   "outputs": [
    {
     "name": "stdout",
     "output_type": "stream",
     "text": [
      "Изначальные множества\n",
      "a =  {1, 2, 3, 4, 5}\n",
      "b =  {2, 3, 5, 7, 8}\n",
      "\n",
      "Объединение множества а с множеством b \n",
      "a =  {1, 2, 3, 4, 5, 7, 8}\n",
      "\n",
      "Пересение множества а с множеством b \n",
      "a =  {2, 3, 5}\n",
      "\n",
      "Разность множеств a и b \n",
      "a =  {1, 4}\n",
      "\n",
      "Симметрическая разность множеств a и b \n",
      "a =  {1, 4, 7, 8}\n"
     ]
    }
   ],
   "source": [
    "a = {1, 2, 3, 4, 5}\n",
    "b = {2, 3, 5, 7, 8}\n",
    "\n",
    "print('Изначальные множества')\n",
    "print('a = ', a)\n",
    "print('b = ', b)\n",
    "\n",
    "print()\n",
    "print('Объединение множества а с множеством b ')\n",
    "a.update(b)\n",
    "print('a = ', a)\n",
    "print()\n",
    "a = {1, 2, 3, 4, 5}\n",
    "b = {2, 3, 5, 7, 8}\n",
    "print('Пересение множества а с множеством b ')\n",
    "a.intersection_update(b)\n",
    "print('a = ', a)\n",
    "print()\n",
    "a = {1, 2, 3, 4, 5}\n",
    "b = {2, 3, 5, 7, 8}\n",
    "print('Разность множеств a и b ')\n",
    "a.difference_update(b)\n",
    "print('a = ', a)\n",
    "print()\n",
    "a = {1, 2, 3, 4, 5}\n",
    "b = {2, 3, 5, 7, 8}\n",
    "print('Симметрическая разность множеств a и b ')\n",
    "a.symmetric_difference_update(b)\n",
    "print('a = ', a)\n",
    "\n"
   ]
  },
  {
   "cell_type": "markdown",
   "id": "47d0079d-6b04-48b2-8090-94f8a95c92ae",
   "metadata": {},
   "source": [
    "## Примеры использования множеств"
   ]
  },
  {
   "cell_type": "code",
   "execution_count": null,
   "id": "40ce1294-ae82-4def-8987-5c84d18cf3e6",
   "metadata": {},
   "outputs": [],
   "source": []
  }
 ],
 "metadata": {
  "kernelspec": {
   "display_name": "Python 3 (ipykernel)",
   "language": "python",
   "name": "python3"
  },
  "language_info": {
   "codemirror_mode": {
    "name": "ipython",
    "version": 3
   },
   "file_extension": ".py",
   "mimetype": "text/x-python",
   "name": "python",
   "nbconvert_exporter": "python",
   "pygments_lexer": "ipython3",
   "version": "3.11.2"
  }
 },
 "nbformat": 4,
 "nbformat_minor": 5
}
