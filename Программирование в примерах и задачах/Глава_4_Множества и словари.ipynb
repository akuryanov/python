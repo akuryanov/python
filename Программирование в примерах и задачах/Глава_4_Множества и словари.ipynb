{
 "cells": [
  {
   "cell_type": "markdown",
   "id": "160af8e1-ec54-4f32-8fb6-25b6b85c3d0a",
   "metadata": {},
   "source": [
    "# Глава 4. Множества(set) и словари(dict)"
   ]
  },
  {
   "cell_type": "markdown",
   "id": "04ae99c2-15ad-4c91-b070-7c766f14e3fa",
   "metadata": {},
   "source": [
    "### Множество - неупорядоченный набор уникальных элементов\n",
    "#### В множестве не может быть двух одинаковых элементов, так как отсутсвует понятие \"позиция элемента в множестве\"\n",
    "\n",
    "Пример множества:\n",
    "set_ = {1, 2, 3, 4}"
   ]
  },
  {
   "cell_type": "markdown",
   "id": "a9903549-e417-467b-bdcb-104a412fd101",
   "metadata": {},
   "source": [
    "## Создание множеств"
   ]
  },
  {
   "cell_type": "code",
   "execution_count": 1,
   "id": "ca95fd54-021f-4c4d-8bf3-90796c63be8e",
   "metadata": {},
   "outputs": [
    {
     "name": "stdout",
     "output_type": "stream",
     "text": [
      "a =  {50, 20, 40, 10, 60}\n",
      "b =  {2, 3, 5, 7, 9}\n",
      "c =  {'o', 'e', 'l', 'H'}\n"
     ]
    }
   ],
   "source": [
    "a = {10, 50, 20, 60, 40}\n",
    "b = set([2, 3, 5, 7, 3, 9, 5])\n",
    "c = set('Hello')\n",
    "print('a = ', a)\n",
    "print('b = ', b)\n",
    "print('c = ', c)\n"
   ]
  },
  {
   "cell_type": "code",
   "execution_count": 2,
   "id": "65b954bb-383f-4a2e-b460-9a0abb46529b",
   "metadata": {},
   "outputs": [],
   "source": [
    "# Генерирование множества случайных чисел"
   ]
  },
  {
   "cell_type": "code",
   "execution_count": 79,
   "id": "c2f800db-836d-4c4c-8c46-753617218eb2",
   "metadata": {},
   "outputs": [
    {
     "name": "stdout",
     "output_type": "stream",
     "text": [
      "{34, 99, 42, 74, 13, 82, 20, 87, 88, 93}\n"
     ]
    }
   ],
   "source": [
    "from random import *\n",
    "seed(20) # инициализация генератора случайных чисел позволяет получать одни и те же случайные числа при вызове программы\n",
    "count = 10 # количество разных случайных чисел\n",
    "nums = set() # создание пустого множества\n",
    "while len(nums) < count:\n",
    "    nums.add(randint(1, 100))\n",
    "print(nums)"
   ]
  },
  {
   "cell_type": "markdown",
   "id": "e14325fd-de17-4b19-8ed8-c2b875213a62",
   "metadata": {},
   "source": [
    "## Операции с множествами"
   ]
  },
  {
   "cell_type": "markdown",
   "id": "1c167a7a-e3eb-497f-902b-37e1df96403f",
   "metadata": {},
   "source": [
    "#### add() - добавление элементов в множество\n",
    "#### remove() - удаление элемента из множества\n",
    "#### discard() - удаление элемента из множества\n",
    "#### clean() - полная очистка множества\n",
    "### НЕ изменяют сами множества\n",
    "#### union() - объединение множеств\n",
    "#### intersection() - пересечение множеств\n",
    "#### difference() - разность множеств\n",
    "#### symmetric_difference() - симметричная разность множеств\n",
    "\n",
    "### Изменяют сами множества\n",
    "#### update() - объединение множеств\n",
    "#### intersection_update() - пересечение множеств\n",
    "#### difference_update() - разность множеств\n",
    "#### symmetric_difference_update() - симметричная разность множеств\n",
    "####\n",
    "#### a.issubset(b) - определяет является ли множество a подмнождеством множества b\n",
    "#### a.issuperset(b) - определяет является ли множество b подмнождеством множества a\n",
    "#### a.isdisjoint(b) - определяет, является пересечение множеств a и b пустым"
   ]
  },
  {
   "cell_type": "code",
   "execution_count": 4,
   "id": "5924f09d-8cd3-49ae-af7d-d021fb2c8510",
   "metadata": {},
   "outputs": [
    {
     "name": "stdout",
     "output_type": "stream",
     "text": [
      "Изначальные множества\n",
      "a =  {1, 3, 5, 7, 9}\n",
      "b =  {0, 2, 4, 6, 8}\n",
      "c =  {7, 9, 11, 13, 15}\n",
      "\n",
      "Объединение множеств\n",
      "a|b =  {0, 1, 2, 3, 4, 5, 6, 7, 8, 9}\n",
      "b|a =  {0, 1, 2, 3, 4, 5, 6, 7, 8, 9}\n",
      "\n",
      "Пересечение множеств\n",
      "a&c =  {9, 7}\n",
      "c&a =  {9, 7}\n",
      "\n",
      "Разность множеств\n",
      "a-c =  {1, 3, 5}\n",
      "c-a =  {11, 13, 15}\n",
      "\n",
      "Симметрическая разность множеств\n",
      "a^c =  {1, 3, 5, 11, 13, 15}\n",
      "c^a =  {1, 3, 5, 11, 13, 15}\n",
      "\n",
      "Изначальные множества\n",
      "a =  {1, 3, 5, 7, 9}\n",
      "b =  {0, 2, 4, 6, 8}\n",
      "c =  {7, 9, 11, 13, 15}\n"
     ]
    }
   ],
   "source": [
    "a = {2*k+1 for k in range(5)}\n",
    "b = {2*k for k in range(5)}\n",
    "c = {2*k+1 for k in range(3, 8)}\n",
    "print('Изначальные множества')\n",
    "print('a = ', a)\n",
    "print('b = ', b)\n",
    "print('c = ', c)\n",
    "print()\n",
    "print('Объединение множеств')\n",
    "print('a|b = ', a|b)\n",
    "print('b|a = ', b.union(a))\n",
    "print()\n",
    "print('Пересечение множеств')\n",
    "print('a&c = ', a&c)\n",
    "print('c&a = ', c.intersection(a))\n",
    "print()\n",
    "print('Разность множеств')\n",
    "print('a-c = ', a-c)\n",
    "print('c-a = ', c.difference(a))\n",
    "print()\n",
    "print('Симметрическая разность множеств')\n",
    "print('a^c = ', a^c)\n",
    "print('c^a = ', c.symmetric_difference(a))\n",
    "print()\n",
    "print('Изначальные множества')\n",
    "print('a = ', a)\n",
    "print('b = ', b)\n",
    "print('c = ', c)"
   ]
  },
  {
   "cell_type": "code",
   "execution_count": 5,
   "id": "6ddd7c8d-0b9c-4b07-be0f-1d909de50ed6",
   "metadata": {},
   "outputs": [
    {
     "name": "stdout",
     "output_type": "stream",
     "text": [
      "Изначальные множества\n",
      "a =  {1, 2, 3, 4, 5}\n",
      "b =  {2, 3, 5, 7, 8}\n",
      "\n",
      "Объединение множества а с множеством b \n",
      "a =  {1, 2, 3, 4, 5, 7, 8}\n",
      "\n",
      "Пересение множества а с множеством b \n",
      "a =  {2, 3, 5}\n",
      "\n",
      "Разность множеств a и b \n",
      "a =  {1, 4}\n",
      "\n",
      "Симметрическая разность множеств a и b \n",
      "a =  {1, 4, 7, 8}\n"
     ]
    }
   ],
   "source": [
    "a = {1, 2, 3, 4, 5}\n",
    "b = {2, 3, 5, 7, 8}\n",
    "\n",
    "print('Изначальные множества')\n",
    "print('a = ', a)\n",
    "print('b = ', b)\n",
    "\n",
    "print()\n",
    "print('Объединение множества а с множеством b ')\n",
    "a.update(b)\n",
    "print('a = ', a)\n",
    "print()\n",
    "a = {1, 2, 3, 4, 5}\n",
    "b = {2, 3, 5, 7, 8}\n",
    "print('Пересение множества а с множеством b ')\n",
    "a.intersection_update(b)\n",
    "print('a = ', a)\n",
    "print()\n",
    "a = {1, 2, 3, 4, 5}\n",
    "b = {2, 3, 5, 7, 8}\n",
    "print('Разность множеств a и b ')\n",
    "a.difference_update(b)\n",
    "print('a = ', a)\n",
    "print()\n",
    "a = {1, 2, 3, 4, 5}\n",
    "b = {2, 3, 5, 7, 8}\n",
    "print('Симметрическая разность множеств a и b ')\n",
    "a.symmetric_difference_update(b)\n",
    "print('a = ', a)\n",
    "\n"
   ]
  },
  {
   "cell_type": "markdown",
   "id": "47d0079d-6b04-48b2-8090-94f8a95c92ae",
   "metadata": {},
   "source": [
    "## Примеры использования множеств"
   ]
  },
  {
   "cell_type": "markdown",
   "id": "96b70f7b-fa21-4434-b0ae-2159bcdd91ed",
   "metadata": {},
   "source": [
    "#### Состав числа"
   ]
  },
  {
   "cell_type": "code",
   "execution_count": 6,
   "id": "ff2c88ff-7642-44e4-a494-40e0c210d454",
   "metadata": {},
   "outputs": [
    {
     "name": "stdin",
     "output_type": "stream",
     "text": [
      "Введите число:  15354651\n"
     ]
    },
    {
     "name": "stdout",
     "output_type": "stream",
     "text": [
      "Число 15354651 состоит из таких цифр:\n",
      "1 3 4 5 6 \n"
     ]
    }
   ],
   "source": [
    "num = int(input('Введите число: '))\n",
    "a = num\n",
    "if num < 0: # Если число отрицательное\n",
    "    num *= -1 # Умножаем его на -1\n",
    "\n",
    "digits = set() # Создается пустое множество\n",
    "\n",
    "if num == 0:\n",
    "    digits.add(0)\n",
    "\n",
    "else:\n",
    "    while num != 0:\n",
    "        digits.add(num%10)\n",
    "        num //= 10\n",
    "\n",
    "# Вывод состава числа\n",
    "print(f'Число {a} состоит из таких цифр:')\n",
    "for i in digits:\n",
    "    print(i, end=' ')\n",
    "print()"
   ]
  },
  {
   "cell_type": "markdown",
   "id": "0183e991-9d07-44e2-aa2c-e0c1db454579",
   "metadata": {},
   "source": [
    "#### Общие буквы в тексте"
   ]
  },
  {
   "cell_type": "code",
   "execution_count": 7,
   "id": "8521055b-0bc1-4d71-9288-d69d137826af",
   "metadata": {},
   "outputs": [
    {
     "name": "stdin",
     "output_type": "stream",
     "text": [
      "Первый текст:  m'adiojv;saoifd\n",
      "Второй текст:  jas;ogijjA\n"
     ]
    },
    {
     "name": "stdout",
     "output_type": "stream",
     "text": [
      "Буквы в первом тексте {'o', \"'\", 'd', 's', 'i', 'a', 'f', 'v', ';', 'j', 'm'}\n",
      "Буквы во втором тексте {'o', 's', 'A', 'i', 'a', 'g', ';', 'j'}\n",
      "Общие буквы {'o', 's', 'i', 'a', ';', 'j'}\n",
      "\n",
      "Буквы в первом тексте {'o', \"'\", 'd', 's', 'i', 'a', 'f', 'v', ';', 'j', 'm'}\n",
      "Буквы во втором тексте {'o', 's', 'A', 'i', 'a', 'g', ';', 'j'}\n",
      "Общие буквы {'o', 's', 'i', 'a', ';', 'j'}\n"
     ]
    }
   ],
   "source": [
    "text = input('Первый текст: ')\n",
    "a = set(text) # Преобразуем ввведенный текст в множество a\n",
    "text = input('Второй текст: ')\n",
    "b = set(text) # Преобразуем ввведенный текст в множество b\n",
    "\n",
    "c = a & b\n",
    "\n",
    "print('Буквы в первом тексте', a)\n",
    "print('Буквы во втором тексте', b)\n",
    "print('Общие буквы', c)\n",
    "print()\n",
    "c = a.intersection(b)\n",
    "print('Буквы в первом тексте', a)\n",
    "print('Буквы во втором тексте', b)\n",
    "print('Общие буквы', c)\n"
   ]
  },
  {
   "cell_type": "markdown",
   "id": "2887a1c2-e866-4c9e-877e-b218857bc54d",
   "metadata": {},
   "source": [
    "#### Числа с заданными свойствами"
   ]
  },
  {
   "cell_type": "code",
   "execution_count": 10,
   "id": "2a8ec4da-b77b-4de0-8522-cd76a706c84f",
   "metadata": {},
   "outputs": [
    {
     "name": "stdout",
     "output_type": "stream",
     "text": [
      "{1, 2, 3, 4, 5, 6, 7, 8, 9, 10, 11, 12, 13, 14, 15, 16, 17, 18, 19, 20, 21, 22, 23, 24, 25, 26, 27, 28, 29, 30, 31, 32, 33, 34, 35, 36, 37, 38, 39, 40, 41, 42, 43, 44, 45, 46, 47, 48, 49, 50}\n",
      "a =  {33, 3, 36, 6, 39, 9, 42, 12, 45, 15, 48, 18, 21, 24, 27, 30}\n",
      "b =  {33, 11, 44, 22}\n",
      "c =  {35, 5, 40, 10, 45, 15, 50, 20, 25, 30}\n",
      "d =  {35, 7, 42, 14, 49, 21, 28}\n",
      "\n",
      "a|b =  {3, 6, 9, 11, 12, 15, 18, 21, 22, 24, 27, 30, 33, 36, 39, 42, 44, 45, 48}\n",
      "c|d =  {35, 5, 7, 40, 10, 42, 45, 14, 15, 49, 50, 20, 21, 25, 28, 30}\n",
      "(a|b) - (c|d) =  {33, 3, 36, 6, 39, 9, 11, 12, 44, 48, 18, 22, 24, 27}\n"
     ]
    }
   ],
   "source": [
    "n = 50 # Верхняя граница числа\n",
    "e = set(range(1, n+1)) # Множество натуральных чисел\n",
    "print(e)\n",
    "a = {s for s in e if s%3==0} # Множество чисел делящихся на 3 без остатка\n",
    "b = {s for s in e if s%11==0}# Множество чисел делящихся на 11 без остатка\n",
    "c = {s for s in e if s%5==0} # Множество чисел делящихся на 5 без остатка\n",
    "d = {s for s in e if s%7==0} # Множество чисел делящихся на 7 без остатка\n",
    "\n",
    "# Множество чисел, которые делятся на 3 и на 11\n",
    "# но не делятся на 5 и 7\n",
    "result = (a|b) - (c|d)\n",
    "print('a = ', a)\n",
    "print('b = ', b)\n",
    "print('c = ', c)\n",
    "print('d = ', d)\n",
    "print()\n",
    "print('a|b = ', a|b)\n",
    "print('c|d = ', c|d)\n",
    "print('(a|b) - (c|d) = ',result)"
   ]
  },
  {
   "cell_type": "markdown",
   "id": "f4f3dd3b-cfd4-4411-bc49-0cec820a4268",
   "metadata": {},
   "source": [
    "## Знакомство со словарями"
   ]
  },
  {
   "cell_type": "code",
   "execution_count": 25,
   "id": "137ea68c-3daa-4207-a2e5-df6285c46d3c",
   "metadata": {},
   "outputs": [
    {
     "name": "stdout",
     "output_type": "stream",
     "text": [
      "nums =  {100: 'Сотня', 1: 'Единица', 10: 'Десяток'}\n",
      "1 =  Единица\n",
      "10 =  Десяток\n",
      "100 =  Сотня\n",
      "\n"
     ]
    }
   ],
   "source": [
    "nums = {100:'Сотня', 1:'Единица', 10:'Десяток'} # Создание словаря\n",
    "print('nums = ', nums)\n",
    "print('1 = ', nums[1])\n",
    "print('10 = ', nums[10])\n",
    "print('100 = ', nums[100])\n",
    "print()"
   ]
  },
  {
   "cell_type": "code",
   "execution_count": 24,
   "id": "2d198d89-7e06-4f18-b7a9-005e5282b718",
   "metadata": {},
   "outputs": [
    {
     "name": "stdout",
     "output_type": "stream",
     "text": [
      "order =  {'Первый': 1, 'Третий': 3, 'Последний': 10}\n",
      "Первый =  1\n",
      "Третий =  3\n",
      "Последний =  10\n",
      "\n"
     ]
    }
   ],
   "source": [
    "order = dict(Первый=1, Третий=3, Последний=10) # Создание словаря\n",
    "print('order = ', order)\n",
    "print('Первый = ', order['Первый'])\n",
    "print('Третий = ', order['Третий'])\n",
    "print('Последний = ', order['Последний'])\n",
    "print()"
   ]
  },
  {
   "cell_type": "code",
   "execution_count": 26,
   "id": "e5f8f208-c128-44d3-b593-66b88c8cbb60",
   "metadata": {},
   "outputs": [
    {
     "name": "stdout",
     "output_type": "stream",
     "text": [
      "age =  {'Кот Матроскин': 5, 'Пёс Шарик': 7, 'Дядя Федор': 12}\n",
      "Кот Матроскин : 5\n",
      "Пёс Шарик : 7\n",
      "Дядя Федор : 12\n",
      "5 7 12 "
     ]
    }
   ],
   "source": [
    "age = dict([['Кот Матроскин', 5], ['Пёс Шарик', 7], ['Дядя Федор', 12]])\n",
    "print('age = ', age)\n",
    "for i in age.keys(): # Перебор словаря по ключу\n",
    "    print(f'{i} : {age[i]}') # Вывод значений словаря с ключами\n",
    "\n",
    "for j in age.values(): # Перебор словаря по значению\n",
    "    print(j, end=' ') # Вывод значений словаря в одну строку через пробел"
   ]
  },
  {
   "cell_type": "code",
   "execution_count": 38,
   "id": "453e8457-388d-43f0-b602-30502902f8fb",
   "metadata": {},
   "outputs": [
    {
     "name": "stdout",
     "output_type": "stream",
     "text": [
      "color =  {(255, 0, 0): 'Красный', (0, 255, 0): 'Зеленый', (0, 0, 255): 'Синий'}\n",
      "(255, 0, 0) - Красный\n",
      "(0, 255, 0) - Зеленый\n",
      "(0, 0, 255) - Синий\n",
      "\n",
      "(255, 255, 0) - желтый\n",
      "(0, 0, 255) - Синий\n",
      "(0, 0, 255) - Синий\n",
      "(255, 255, 255) - Белый\n"
     ]
    }
   ],
   "source": [
    "color = dict([[(255, 0, 0), 'Красный'], [(0, 255, 0), 'Зеленый'], [(0, 0, 255), 'Синий']])\n",
    "print('color = ', color)\n",
    "print(f'(255, 0, 0) - {color[(255, 0, 0)]}')\n",
    "print(f'(0, 255, 0) - {color[(0, 255, 0)]}')\n",
    "print(f'(0, 0, 255) - {color[(0, 0, 255)]}')\n",
    "print()\n",
    "color[(255, 255, 0)] = 'желтый'\n",
    "print(f'(255, 255, 0) - {color[(255, 255, 0)]}')\n",
    "print(f'(0, 0, 255) - {color.get((0, 0, 255))}')\n",
    "print(f'(0, 0, 255) - {color.get((0, 0, 255), \"Белый\")}')\n",
    "print(f'(255, 255, 255) - {color.get((255, 255, 255), \"Белый\")}')\n"
   ]
  },
  {
   "cell_type": "markdown",
   "id": "c33353b9-eed9-42a8-a1cd-6ffcdac7f529",
   "metadata": {},
   "source": [
    "#### Генераторы словарей"
   ]
  },
  {
   "cell_type": "code",
   "execution_count": 56,
   "id": "c3f6cae2-bdc2-48e7-823e-3adddf5ecf5d",
   "metadata": {},
   "outputs": [
    {
     "name": "stdout",
     "output_type": "stream",
     "text": [
      "{'Пн': 1, 'Вт': 2, 'Ср': 3, 'Чт': 4, 'Пт': 5, 'Сб': 6, 'Вс': 7}\n",
      "\n",
      "{'Пн': 1, 'Вт': 2, 'Ср': 3, 'Чт': 4, 'Пт': 5, 'Сб': 6, 'Вс': 7}\n",
      "\n",
      "{2: 4, 4: 16, 6: 36, 8: 64, 10: 100}\n"
     ]
    }
   ],
   "source": [
    "days = ['Пн', 'Вт', 'Ср', 'Чт', 'Пт', 'Сб', 'Вс']\n",
    "week = {days[i]: i+1 for i in range(len(days))}\n",
    "print(week)\n",
    "print()\n",
    "myweek = {i: days.index(i)+1 for i in days}\n",
    "print(myweek)\n",
    "print()\n",
    "sqrs = {k: k**2 for k in range(1,11) if k%2==0}\n",
    "print(sqrs)\n"
   ]
  },
  {
   "cell_type": "code",
   "execution_count": 77,
   "id": "ac1ac90e-ebc8-4d59-9dac-6746651d539d",
   "metadata": {},
   "outputs": [
    {
     "name": "stdout",
     "output_type": "stream",
     "text": [
      "a -  {'Начальный': 1, 'Средний': 2, 'Последний': 3}\n",
      "b -  {'Начальный': 1, 'Средний': 2, 'Последний': 3}\n",
      "c -  {'Начальный': 1, 'Средний': 2, 'Последний': 3}\n",
      "d -  {'Начальный': 10, 'Средний': 20, 'Последний': 30}\n",
      "\n",
      "После изменения оригинала\n",
      "a -  {'Начальный': 100, 'Средний': 200, 'Последний': 300}\n",
      "b -  {'Начальный': 1, 'Средний': 2, 'Последний': 3}\n",
      "c -  {'Начальный': 1, 'Средний': 2, 'Последний': 3}\n",
      "d -  {'Начальный': 10, 'Средний': 20, 'Последний': 30}\n"
     ]
    }
   ],
   "source": [
    "a = {'Начальный':1, 'Средний':2,'Последний':3}\n",
    "b = dict(a)\n",
    "c = a.copy()\n",
    "print('a - ', a)\n",
    "print('b - ', b)\n",
    "print('c - ', c)\n",
    "\n",
    "d = {k:v*10 for k,v in a.items()} # Создание словаря на основе словаря\n",
    "print('d - ', d)\n",
    "print()\n",
    "\n",
    "for i in a:\n",
    "    a[i] *= 100\n",
    "print('После изменения оригинала')\n",
    "print('a - ', a)\n",
    "print('b - ', b)\n",
    "print('c - ', c)\n",
    "print('d - ', d)\n"
   ]
  },
  {
   "cell_type": "markdown",
   "id": "9ea1e02d-fdd2-4398-9d1f-10b45e16f97f",
   "metadata": {},
   "source": [
    "## Задания для самостоятельной работы"
   ]
  },
  {
   "cell_type": "markdown",
   "id": "a7992a8b-bbef-469e-9b76-eee1c2f336b6",
   "metadata": {},
   "source": [
    "#### № 1"
   ]
  },
  {
   "cell_type": "raw",
   "id": "c5f9ccc7-eafc-4931-9b77-93d743c98763",
   "metadata": {},
   "source": [
    "Напишите программу, в которой генерируется 15 случайных целых чисел: 5 чисел попадают в диапазон значений от 1 до 10, и 10 чисел попадают в диапазон от 10 до 30"
   ]
  },
  {
   "cell_type": "code",
   "execution_count": 98,
   "id": "d997e8ff-eab7-4471-9c45-17fb1244c5f2",
   "metadata": {},
   "outputs": [
    {
     "name": "stdout",
     "output_type": "stream",
     "text": [
      "{2, 3, 5, 6, 10}\n",
      "{11, 13, 14, 15, 16, 21, 24, 25, 26, 29}\n",
      "{2, 3, 5, 6, 10, 11, 13, 14, 15, 16, 21, 24, 25, 26, 29}\n"
     ]
    }
   ],
   "source": [
    "from random import *\n",
    "seed(20) # инициализация генератора случайных чисел позволяет получать одни и те же случайные числа при вызове программы\n",
    "count_1 = 5 # количество разных случайных чисел\n",
    "count_2 = 10 # количество разных случайных чисел\n",
    "nums_1 = set() # создание пустого множества\n",
    "nums_2 = set()\n",
    "while len(nums_1) < count_1:\n",
    "    nums_1.add(randint(1, 10))\n",
    "\n",
    "while len(nums_2) < count_2:\n",
    "    nums_2.add(randint(11, 30))\n",
    "# nums_1 = list(nums_1)    \n",
    "# nums_2 = list(nums_2)\n",
    "print(nums_1)\n",
    "print(nums_2)\n",
    "nums = nums_1 | nums_2\n",
    "print(nums)"
   ]
  },
  {
   "cell_type": "markdown",
   "id": "c37988ef-428e-4d8d-bcb4-c943076fb673",
   "metadata": {},
   "source": [
    "#### № 2"
   ]
  },
  {
   "cell_type": "raw",
   "id": "09fc9570-411e-487e-bd72-091e9c83837a",
   "metadata": {},
   "source": [
    "Напишите программу, в которой пользовательвводит два целых числа, а прграммой определяются цифры , которые есть в представлении обоих чисел"
   ]
  },
  {
   "cell_type": "code",
   "execution_count": 107,
   "id": "ff0f9dd2-b62c-4cd8-9787-c62f49de458a",
   "metadata": {},
   "outputs": [
    {
     "name": "stdin",
     "output_type": "stream",
     "text": [
      "Введите первое целое число:  1325468\n",
      "Введите второе целое число:  46846\n"
     ]
    },
    {
     "name": "stdout",
     "output_type": "stream",
     "text": [
      "В представлении чисел обоих 1325468 и 46846 есть цифры: \n",
      "4 8 6 "
     ]
    }
   ],
   "source": [
    "a = int(input('Введите первое целое число: '))\n",
    "b = int(input('Введите второе целое число: '))\n",
    "\n",
    "set_a = set(str(a))\n",
    "set_b = set(str(b))\n",
    "digits =  set_a & set_b\n",
    "\n",
    "print(f'В представлении чисел обоих {a} и {b} есть цифры: ')\n",
    "for i in digits:\n",
    "    print(i, end=' ')\n"
   ]
  },
  {
   "cell_type": "markdown",
   "id": "e1a8a406-280f-4d8c-b735-62b6f0eab253",
   "metadata": {},
   "source": [
    "#### № 3"
   ]
  },
  {
   "cell_type": "raw",
   "id": "2044844c-b3e4-4348-93d6-638850593c02",
   "metadata": {},
   "source": [
    "Напишите программу, в которой пользователь вводит текстовое значение и для этого текстового значения определяются глассные буквы, преставленные во введённом тексте"
   ]
  },
  {
   "cell_type": "code",
   "execution_count": 111,
   "id": "29920447-79ac-4cc1-a04e-651f322cc1ab",
   "metadata": {},
   "outputs": [
    {
     "name": "stdin",
     "output_type": "stream",
     "text": [
      "Введите текстовую строку : ожшаот жвылоа уцйгуцжту\n"
     ]
    },
    {
     "name": "stdout",
     "output_type": "stream",
     "text": [
      "В тексте \"ожшаот жвылоа уцйгуцжту\" содержатся гласные буквы: \n",
      "ы у а о "
     ]
    }
   ],
   "source": [
    "vowel_letters = {\"а\", \"е\", \"и\", \"о\", \"у\", \"я\", \"ю\", \"э\", \"ы\", \"ё\" }\n",
    "string = input('Введите текстовую строку :')\n",
    "set_str = set(string)\n",
    "set_vowel_letters = set_str & vowel_letters\n",
    "print(f'В тексте \"{string}\" содержатся гласные буквы: ')\n",
    "for i in set_vowel_letters:\n",
    "    print(i, end=' ')\n",
    "        "
   ]
  },
  {
   "cell_type": "markdown",
   "id": "9d6142ed-718c-4bfc-9d58-04200d96fdc9",
   "metadata": {},
   "source": [
    "#### № 4"
   ]
  },
  {
   "cell_type": "raw",
   "id": "71de3278-323f-4ca8-865b-2cfa9c976505",
   "metadata": {},
   "source": [
    "Напишите программу для вычисления множества чисел (в пределах первой полусотни), которые делятся или на 3 или на 4, но при этом не делятся одновременно на 3 и на 4"
   ]
  },
  {
   "cell_type": "code",
   "execution_count": 121,
   "id": "4eebd1ec-9d51-445b-bb67-6cf743461b6a",
   "metadata": {},
   "outputs": [
    {
     "name": "stdout",
     "output_type": "stream",
     "text": [
      "{0, 33, 3, 36, 6, 39, 9, 42, 12, 45, 15, 48, 18, 21, 24, 27, 30}\n",
      "{0, 32, 4, 36, 8, 40, 12, 44, 16, 48, 20, 24, 28}\n",
      "{3, 4, 6, 8, 9, 15, 16, 18, 20, 21, 27, 28, 30, 32, 33, 39, 40, 42, 44, 45}\n"
     ]
    }
   ],
   "source": [
    "a = {i for i in range(50) if i%3==0}\n",
    "print(a)\n",
    "b = {i for i in range(50) if i%4==0}\n",
    "print(b)\n",
    "c = a|b\n",
    "d = a&b\n",
    "print(c - d)"
   ]
  },
  {
   "cell_type": "markdown",
   "id": "b3caa08d-ed5b-451d-b6f8-274901ca1526",
   "metadata": {},
   "source": [
    "#### № 5"
   ]
  },
  {
   "cell_type": "raw",
   "id": "0771b6fe-bb0c-48aa-8070-95a7819283f7",
   "metadata": {},
   "source": [
    "Напишите программу для создания множества, элементами которого являются кортежи (по два элемента в каждом) с нечетными числами, (1, 3), (3, 5), (5, 7) и т.д."
   ]
  },
  {
   "cell_type": "code",
   "execution_count": 17,
   "id": "90668593-ca99-43b5-91a0-4c41807ce222",
   "metadata": {},
   "outputs": [
    {
     "name": "stdout",
     "output_type": "stream",
     "text": [
      "{(11, 13), (5, 7), (7, 9), (9, 11), (13, 15), (1, 3), (3, 5)}\n"
     ]
    }
   ],
   "source": [
    "set_ = set()\n",
    "for i in range(1, 15, 2):\n",
    "    a = (i, i+2)\n",
    "    set_.add(a)\n",
    "print(set_)"
   ]
  },
  {
   "cell_type": "markdown",
   "id": "1e574933-8265-4a8f-bd45-42b2fd173914",
   "metadata": {},
   "source": [
    "#### № 6"
   ]
  },
  {
   "cell_type": "raw",
   "id": "b4780da4-5d6c-4cf6-a891-08fe30b68eba",
   "metadata": {},
   "source": [
    "Напишите программу, которая выполняется следующим образом. \n",
    "Пользователь вводит целое неотрицательное число. На основе этого числа создается список из натуральных чисел от 1 до этого числа. Затем на основе этого списка сохдается словарь. Элемненты списка служат ключами для этого словаря. Значения элементов словаря определяются на основе значений элементов списка, но взяьых в обратном порядке.\n",
    "Например, если пользователь вводит число 3, то получится словарь {1:3, 2:2, 3:1}"
   ]
  },
  {
   "cell_type": "code",
   "execution_count": 37,
   "id": "6b04b3e9-ad60-4165-ade2-e798c860a250",
   "metadata": {},
   "outputs": [
    {
     "name": "stdin",
     "output_type": "stream",
     "text": [
      "Введите целое неотрицательное число 8\n"
     ]
    },
    {
     "name": "stdout",
     "output_type": "stream",
     "text": [
      "{1: 8, 2: 7, 3: 6, 4: 5, 5: 4, 6: 3, 7: 2, 8: 1}\n"
     ]
    }
   ],
   "source": [
    "from copy import deepcopy\n",
    "n = int(input('Введите целое неотрицательное число'))\n",
    "list_ = list()\n",
    "for i in range(1, n+1):\n",
    "    list_.append(i)\n",
    "list_1 = deepcopy(list_)\n",
    "list_.reverse()\n",
    "\n",
    "dict_ = {list_1[i]: list_2[i] for i in range(len(list_))}\n",
    "print(dict_)"
   ]
  },
  {
   "cell_type": "markdown",
   "id": "e4ca3b02-458d-4ecb-874e-231529496c08",
   "metadata": {},
   "source": [
    "#### № 7"
   ]
  },
  {
   "cell_type": "markdown",
   "id": "639d305e-62c8-467c-a80d-6e7e2c0a15d2",
   "metadata": {},
   "source": [
    "Напишите программу, которая выполняется следующим образом.\n",
    "Пользователь вводит текст. На основе этого текста создается словарь. Ключами словаря служат символы из текста, а значениями словаря являются количества вхождений соответствующих символов в текст.\n",
    "Например пользовательвводит текст \"АВССАА\"\n",
    "{'А':3, 'B':1, 'C':2}"
   ]
  },
  {
   "cell_type": "code",
   "execution_count": 47,
   "id": "8b257ce0-44dc-456e-b984-7f880ad9e3cf",
   "metadata": {},
   "outputs": [
    {
     "name": "stdin",
     "output_type": "stream",
     "text": [
      "Введите  текст:  fffeeekkdkdllld\n"
     ]
    },
    {
     "name": "stdout",
     "output_type": "stream",
     "text": [
      "{'d': 3, 'l': 3, 'f': 3, 'e': 3, 'k': 3}\n"
     ]
    }
   ],
   "source": [
    "str_ = input('Введите  текст: ')\n",
    "set_str = set(str_)\n",
    "list_str = list(set_str)\n",
    "\n",
    "dict_str = {list_str[i]: str_.count(list_str[i]) for i in range(len(list_str))}\n",
    "print(dict_str)\n"
   ]
  },
  {
   "cell_type": "markdown",
   "id": "7bbeecfa-81d4-477c-9f28-1fdfda0886cf",
   "metadata": {},
   "source": [
    "#### № 8"
   ]
  },
  {
   "cell_type": "raw",
   "id": "39fab421-bada-4e35-b92b-fcfe8d2281df",
   "metadata": {},
   "source": [
    "Напишите программу, в которой используется словарь.\n",
    "Ключами в словаре являются фамилии писателей, а значение соотвествующего элемента - название произведения, написанного автором. В программе перебираются значения всех элементов словаря, и для каждого значения пользователю предлагается указать фамилию автора. После перебора содержимого словаря программа отображает количество правильных ответов."
   ]
  },
  {
   "cell_type": "code",
   "execution_count": 73,
   "id": "4688e4cf-8011-449e-8281-1b612415773d",
   "metadata": {},
   "outputs": [
    {
     "name": "stdout",
     "output_type": "stream",
     "text": [
      "Кто написал произведение: Война и мир\n"
     ]
    },
    {
     "name": "stdin",
     "output_type": "stream",
     "text": [
      " Толстой\n"
     ]
    },
    {
     "name": "stdout",
     "output_type": "stream",
     "text": [
      "Кто написал произведение: Евгений Онегин\n"
     ]
    },
    {
     "name": "stdin",
     "output_type": "stream",
     "text": [
      " Пушкин\n"
     ]
    },
    {
     "name": "stdout",
     "output_type": "stream",
     "text": [
      "Кто написал произведение: Мцыри\n"
     ]
    },
    {
     "name": "stdin",
     "output_type": "stream",
     "text": [
      " Лермонтов\n"
     ]
    },
    {
     "name": "stdout",
     "output_type": "stream",
     "text": [
      "Кто написал произведение: Три сестры\n"
     ]
    },
    {
     "name": "stdin",
     "output_type": "stream",
     "text": [
      " Чехов\n"
     ]
    },
    {
     "name": "stdout",
     "output_type": "stream",
     "text": [
      "Кто написал произведение: Кому на Руси жить хорошо\n"
     ]
    },
    {
     "name": "stdin",
     "output_type": "stream",
     "text": [
      " Некрасов\n"
     ]
    },
    {
     "name": "stdout",
     "output_type": "stream",
     "text": [
      "Получено 5 правильных ответов\n"
     ]
    }
   ],
   "source": [
    "dict_ = {\n",
    "    'Толстой':'Война и мир',\n",
    "    'Пушкин':'Евгений Онегин',\n",
    "    'Лермонтов':'Мцыри',\n",
    "    'Чехов':'Три сестры',\n",
    "    'Некрасов':'Кому на Руси жить хорошо'   \n",
    "}\n",
    "\n",
    "k = 0\n",
    "for i in dict_.keys():\n",
    "    print(f'Кто написал произведение: {dict_[i]}')\n",
    "    n = input()\n",
    "    if n == i:\n",
    "        k += 1\n",
    "print(f'Получено {k} правильных ответов')"
   ]
  },
  {
   "cell_type": "markdown",
   "id": "ecb3d211-779f-4a1d-8eda-5c01f39a004d",
   "metadata": {},
   "source": [
    "#### № 9"
   ]
  },
  {
   "cell_type": "raw",
   "id": "51874d03-2bf3-4c3f-9a85-f47dff758487",
   "metadata": {},
   "source": [
    "Напишите программу, в которой пользователю предлагается ввести текстовое значение. На основе текста формируется словарь. Ключами словаря являются  символы из текста. Значение соответствующего элемента - это исходный текст, в котором вычеркнут тот символ, который является ключем. Если при формировании очередного элемента окажется, что такой ключ уже есть, то соответствующий символ пропускается.\n",
    "Например пользователь ввел ABCABD, то полученный словарь имеет вид:\n",
    "{'A':'BCABD', 'B':'ACABD', 'C':'ABABD', 'D':'ABCAB'}"
   ]
  },
  {
   "cell_type": "code",
   "execution_count": 2,
   "id": "3d429a47-ba6d-4de6-b013-6125fb42195d",
   "metadata": {},
   "outputs": [
    {
     "name": "stdin",
     "output_type": "stream",
     "text": [
      "Введите текст:  ABCABD\n"
     ]
    },
    {
     "name": "stdout",
     "output_type": "stream",
     "text": [
      "{'D': 'ABCAB', 'C': 'ABABD', 'A': 'BCABD', 'B': 'ACABD'}\n"
     ]
    }
   ],
   "source": [
    "str_ = input('Введите текст: ')\n",
    "\n",
    "set_ = set(str_)\n",
    "list_set = list(set_)\n",
    "dict_1 = {}\n",
    "\n",
    "for i in list_set:\n",
    "    list_str = list(str_)\n",
    "    list_str.remove(i)\n",
    "    dict_ = {i:\"\".join(list_str)}\n",
    "    dict_1.update(dict_)\n",
    "print(dict_1)"
   ]
  },
  {
   "cell_type": "markdown",
   "id": "3a6aaa91-6d2d-4c75-b067-8eb75505d398",
   "metadata": {},
   "source": [
    "#### № 10"
   ]
  },
  {
   "cell_type": "raw",
   "id": "4dbdfdb0-22fe-435c-90b6-2ee73ed673c1",
   "metadata": {},
   "source": [
    "Напишите программу в которой на основе двух словарей создается новый словарь. В этот новый словарь включаются те элементы, которые представлены в каждом из исходных словарей (имеются ввиду ключи элементов). Значениями элементов в создаваемом словаре являются множества из значений соотвествующих элементов в исходных словарях"
   ]
  },
  {
   "cell_type": "code",
   "execution_count": 133,
   "id": "72fe0e35-26eb-48af-9567-6415b8f70c3b",
   "metadata": {},
   "outputs": [
    {
     "name": "stdout",
     "output_type": "stream",
     "text": [
      "{'a': {'a2', 'a1'}, 'b': {False, 'b2'}, 'd': {True, 52}}\n"
     ]
    }
   ],
   "source": [
    "dict_1 = {'a':'a1', 'b':False, 'c':'c1', 'd':52, 'f':'f1'}\n",
    "dict_2 = {'a':'a2', 'b':'b2', 'd':True, 'e':'e1', 'h':'h1', 'k':'k1'}\n",
    "dict_3 = {}\n",
    "for i in dict_1.keys():\n",
    "    set_ = set()\n",
    "    set_.add(dict_1[i])\n",
    "    if i in dict_2.keys():\n",
    "        set_.add(dict_2[i])\n",
    "        dict_ = {i: set_}\n",
    "        dict_3.update(dict_)\n",
    "print(dict_3)\n"
   ]
  },
  {
   "cell_type": "code",
   "execution_count": null,
   "id": "24369b4b-2a33-4a9d-98d1-13252d898c79",
   "metadata": {},
   "outputs": [],
   "source": []
  }
 ],
 "metadata": {
  "kernelspec": {
   "display_name": "Python 3 (ipykernel)",
   "language": "python",
   "name": "python3"
  },
  "language_info": {
   "codemirror_mode": {
    "name": "ipython",
    "version": 3
   },
   "file_extension": ".py",
   "mimetype": "text/x-python",
   "name": "python",
   "nbconvert_exporter": "python",
   "pygments_lexer": "ipython3",
   "version": "3.11.2"
  }
 },
 "nbformat": 4,
 "nbformat_minor": 5
}
