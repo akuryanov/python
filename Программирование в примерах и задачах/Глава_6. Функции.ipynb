{
 "cells": [
  {
   "cell_type": "markdown",
   "id": "178ac0bc-658f-48e6-bb3f-53a43e3400ec",
   "metadata": {},
   "source": [
    "# Глава 6. Функции"
   ]
  },
  {
   "cell_type": "markdown",
   "id": "23fcc137-e733-4d13-b7d6-e2c6ca1a34cf",
   "metadata": {},
   "source": [
    "Фкнция может возвращать значение, а может не возвращать\n",
    "В случае если функция возвращает значение, используются инструкции ***return*** и ***yield***\n",
    "\n",
    "Выполнение инструкции ***return*** в теле функции приводит к тому, что выполнение кода функции завершиется. Если после инструкции ***return*** указано некоторое значение, то оно становится результатом функции.\n",
    "\n",
    "***yield*** - формирует результат функции-генератора"
   ]
  },
  {
   "cell_type": "markdown",
   "id": "f0d58d04-4b7f-4bb5-a8ae-a4ad7a2a0c88",
   "metadata": {},
   "source": [
    "## Создание и использование функций"
   ]
  },
  {
   "cell_type": "code",
   "execution_count": 12,
   "id": "e99f4837-5c12-42c5-99cc-477f13c2f98a",
   "metadata": {},
   "outputs": [
    {
     "name": "stdin",
     "output_type": "stream",
     "text": [
      "Какой сегодня день недели? -   пятница \n"
     ]
    },
    {
     "name": "stdout",
     "output_type": "stream",
     "text": [
      "Завтра -  Суббота\n"
     ]
    }
   ],
   "source": [
    "def next_day():\n",
    "    '''\n",
    "    Функция без аргументов и не возвращает результат\n",
    "    Выводится сообщение\n",
    "    '''\n",
    "    txt = input('Какой сегодня день недели? - ')\n",
    "    txt = txt.lower().strip() #  Делаем все буквы введенного текста маленькими и удалем все пробелы в начале и конце строки\n",
    "    \n",
    "    if txt == 'понедельник':\n",
    "        new_txt = 'Вторник'\n",
    "    elif txt == 'вторник':\n",
    "        new_txt = 'Среда'\n",
    "    elif txt == 'среда':\n",
    "        new_txt = 'Четверг'\n",
    "    elif txt == 'четверг':\n",
    "        new_txt = 'Пятница'\n",
    "    elif txt == 'пятница':\n",
    "        new_txt = 'Суббота'\n",
    "    elif txt == 'суббота':\n",
    "        new_txt = 'Воскресенье'\n",
    "    elif txt == 'воскресенье':\n",
    "        new_txt = 'Понедельник'\n",
    "    else:\n",
    "        print('Нет такогот дня недели!!!')\n",
    "        return\n",
    "    print(f'Завтра -  {new_txt}')\n",
    "\n",
    "next_day()"
   ]
  },
  {
   "cell_type": "code",
   "execution_count": 14,
   "id": "c8989e39-67a2-4a97-bced-69c775cb0c03",
   "metadata": {},
   "outputs": [
    {
     "name": "stdin",
     "output_type": "stream",
     "text": [
      "Добрый день! Как Вас зовут?  Hee\n"
     ]
    },
    {
     "name": "stdout",
     "output_type": "stream",
     "text": [
      "Приятно познакомиться Hee\n"
     ]
    }
   ],
   "source": [
    "def get_name():\n",
    "    '''Функция без аргументов возвращает результат'''\n",
    "    name = input('Добрый день! Как Вас зовут? ')\n",
    "    if name.strip(' .,:;!?_') == '':\n",
    "        name = 'Мистер Икс'\n",
    "\n",
    "    return name\n",
    "\n",
    "def hello():\n",
    "     '''Функция без аргументов и не возвращает результат'''\n",
    "    name = get_name()\n",
    "    print(f'Приятно познакомиться {name}')\n",
    "    \n",
    "\n",
    "hello()\n",
    "    \n",
    "    "
   ]
  },
  {
   "cell_type": "markdown",
   "id": "8a29fe0e-19d1-4394-80b0-c00b25f12524",
   "metadata": {},
   "source": [
    "## Механизм передачи аргументов"
   ]
  },
  {
   "cell_type": "markdown",
   "id": "4818e2ba-5fec-442a-a51c-86bd2b0344c5",
   "metadata": {},
   "source": [
    "### Функции с произвольным количеством аргументов"
   ]
  },
  {
   "cell_type": "code",
   "execution_count": 20,
   "id": "b5e12c74-475a-44ed-9a0c-023fb5d45a72",
   "metadata": {},
   "outputs": [
    {
     "name": "stdout",
     "output_type": "stream",
     "text": [
      "Сумма квадратов: 35\n",
      "Сумма квадратов: 220\n",
      "Сумма чисел: 6\n",
      "Сумма чисел: 6\n",
      "Сумма чисел: 0\n",
      "Текст: Всем привет\n",
      "Текст: A B C D\n"
     ]
    }
   ],
   "source": [
    "def sqr_sum(*num):\n",
    "    s = 0 \n",
    "    for i in num:\n",
    "        s += i*i\n",
    "    return s\n",
    "\n",
    "def get_sum(*num):\n",
    "    s = 0\n",
    "    for i in num:\n",
    "        if type(i) == int:\n",
    "            s += i\n",
    "    return s\n",
    "def get_text(*text):\n",
    "    return ' '.join(text)\n",
    "\n",
    "print(f'Сумма квадратов: {sqr_sum(1, 3, 5)}')\n",
    "print(f'Сумма квадратов: {sqr_sum(2, 4, 6, 8, 10)}')\n",
    "print(f'Сумма чисел: {get_sum(1, [3, 4], 5)}')\n",
    "print(f'Сумма чисел: {get_sum(1, \"A\", 5, \"B\")}')\n",
    "print(f'Сумма чисел: {get_sum()}')\n",
    "print(f'Текст: {get_text(\"Всем привет\")}')\n",
    "print(f'Текст: {get_text(\"A\", \"B\", \"C\", \"D\")}')\n"
   ]
  },
  {
   "cell_type": "code",
   "execution_count": 33,
   "id": "5a66bee7-0f3e-410d-a5c0-ef53771eee46",
   "metadata": {},
   "outputs": [
    {
     "name": "stdout",
     "output_type": "stream",
     "text": [
      "Сумма чисел (10, 20, 30, 40) = 100\n",
      "Сумма квадратов чисел (10, 20, 30, 40) = 3000\n"
     ]
    }
   ],
   "source": [
    "def my_sum(n, *a, txt = 'Сумма чисел'):\n",
    "    '''Функция с аргументами разных типов'''\n",
    "    s = 0\n",
    "    for i in range(len(a)):\n",
    "        s += a[i]**n\n",
    "    print(f'{txt} {a} = {s}')\n",
    "\n",
    "my_sum(1, 10, 20, 30, 40)\n",
    "my_sum(2, 10, 20, 30, 40, txt='Сумма квадратов чисел')"
   ]
  },
  {
   "cell_type": "markdown",
   "id": "b6b370ff-e598-441e-8625-34805ef195fe",
   "metadata": {},
   "source": [
    "### Лямбда функции"
   ]
  },
  {
   "cell_type": "markdown",
   "id": "3a06278e-fd66-4e9d-bd0b-6c144c75ef89",
   "metadata": {},
   "source": [
    "***Лямбда функции*** - анонимные функции\n",
    "\n",
    "*lambda <аргументы>:<результат>*"
   ]
  },
  {
   "cell_type": "code",
   "execution_count": 2,
   "id": "8e146d07-9cb7-43a6-ba62-7213223d244c",
   "metadata": {},
   "outputs": [
    {
     "name": "stdout",
     "output_type": "stream",
     "text": [
      "нечетные числа\n",
      "1 3 5 7 9 11 13 15 17 19 "
     ]
    }
   ],
   "source": [
    "num = 10\n",
    "l = lambda n: 2*n+1\n",
    "print('нечетные числа')\n",
    "for i in range(num):\n",
    "    print(l(i), end=' ')"
   ]
  },
  {
   "cell_type": "code",
   "execution_count": 9,
   "id": "3c068441-d4a1-4dcc-8bad-26aa9a99d44e",
   "metadata": {},
   "outputs": [
    {
     "name": "stdout",
     "output_type": "stream",
     "text": [
      "Вызов fun(x,y) = 4 + 5 = 9\n",
      "Вызов f(x,y) = calc = 9\n",
      "Вызов calc(x, y) = 4*5 = 20\n"
     ]
    }
   ],
   "source": [
    "def calc(x, y):\n",
    "    return x+y\n",
    "\n",
    "fun = lambda x, y: calc(x, y)\n",
    "print(f'Вызов fun(x,y) = 4 + 5 = {fun(4,5)}')\n",
    "\n",
    "f = calc\n",
    "print(f'Вызов f(x,y) = calc = {f(4,5)}')\n",
    "\n",
    "calc = lambda x, y: x*y\n",
    "print(f'Вызов calc(x, y) = 4*5 = {calc(4, 5)}')"
   ]
  },
  {
   "cell_type": "markdown",
   "id": "3068da33-2712-4330-a1f6-be1d0ec3b026",
   "metadata": {},
   "source": [
    "## Функция как аргумент и результат"
   ]
  },
  {
   "cell_type": "code",
   "execution_count": 16,
   "id": "4506639e-8009-4a1c-9185-66533ad2085c",
   "metadata": {},
   "outputs": [
    {
     "name": "stdout",
     "output_type": "stream",
     "text": [
      "x\t\t   1    2    3    4    5    6 \n",
      "x**2 \t=\t   1    4    9   16   25   36 \n",
      "x**3 \t=\t   1    8   27   64  125  216 \n",
      "4*x+1 \t=\t   5    9   13   17   21   25 \n",
      "\n",
      "func_4(5) = x*x = 25\n",
      "func_4(5) = 4*x+3 = 23\n"
     ]
    }
   ],
   "source": [
    "def display(f, a, b):\n",
    "    '''\n",
    "    f - ссылка на функцию (имя функции)\n",
    "    a, b - целые числа (интревал значений функции f)\n",
    "    '''\n",
    "    for i in range(a, b+1):\n",
    "        print('{0:4}'.format(f(i)), end=' ')\n",
    "    print()\n",
    "\n",
    "def mypow(n):\n",
    "    '''\n",
    "    n - целое число\n",
    "    результатом функции возвращиется выражение lambda x: x**n (x  в степени n)\n",
    "    '''\n",
    "    return lambda x: x**n\n",
    "\n",
    "def apply(f, h):\n",
    "    def calc(x):\n",
    "        return f(h(x))\n",
    "    return calc\n",
    "    \n",
    "func_1 = mypow(2) # Задаем степень для вычислений (возводим числа в квадрат)\n",
    "func_2 = mypow(3) # Задаем степень для вычислений (возводим числа в куб)\n",
    "func_3 = apply(lambda x: 2*x+1, lambda x: 2*x) # задается две функции в качестве аргументов\n",
    "# Сначала вычисляется функция lambda x: 2*x, а потом полученное значение передается в качестве аргумента функции lambda x: 2*x +1\n",
    "# Фактически вычисляется значение 4*x+1\n",
    "\n",
    "print('x\\t\\t', end='')\n",
    "display(lambda x: x, 1, 6)\n",
    "\n",
    "print('x**2 \\t=\\t', end='')\n",
    "display(func_1, 1, 6) # Вызываем функцию display с аргументами (f=mypow(2), 1, 5), то есть выводим в строку значения квадратов чисел от 1 до 6\n",
    "\n",
    "print('x**3 \\t=\\t', end='')\n",
    "display(func_2, 1, 6) # Вызываем функцию display с аргументами (f=mypow(3), 1, 5), то есть выводим в строку значения кубов чисел от 1 до 6\n",
    "\n",
    "print('4*x+1 \\t=\\t', end='')\n",
    "display(func_3, 1, 6) # Вызываем функцию display с аргументами (f=apply(lambda x: 2*x+1, lambda x: 2*x), 1, 6), \n",
    "# то есть выводим на экран вычисление значений 4*x+1 чисел от 1 до 6\n",
    "\n",
    "print()\n",
    "func_4 = lambda f: lambda x: f(x)\n",
    "print(f'func_4(5) = x*x = {func_4(lambda x: x*x)(5)}')\n",
    "print(f'func_4(5) = 4*x+3 = {func_4(lambda x: 4*x+3)(5)}')"
   ]
  },
  {
   "cell_type": "markdown",
   "id": "34dce335-8174-44af-a06a-b16bf8a9da87",
   "metadata": {},
   "source": [
    "## Рекурсия"
   ]
  },
  {
   "cell_type": "markdown",
   "id": "8b2defcd-f806-4ac0-85c1-aa37846cb410",
   "metadata": {},
   "source": []
  },
  {
   "cell_type": "code",
   "execution_count": 11,
   "id": "c0910b2f-ccde-4c2e-8fbb-399d330d351b",
   "metadata": {},
   "outputs": [
    {
     "name": "stdin",
     "output_type": "stream",
     "text": [
      "Введите число:  15\n"
     ]
    },
    {
     "name": "stdout",
     "output_type": "stream",
     "text": [
      "Сумма\n",
      "0 1 3 6 10 15 21 28 36 45 55 66 78 91 105 \n",
      "Числа Фибоначчи\n",
      "1 1 2 3 5 8 13 21 34 55 89 144 233 377 610 \n",
      "Инверсия текста\n",
      "|n|o|h|t|y|P| |o|l|l|e|H|\n"
     ]
    }
   ],
   "source": [
    "def mysum(n):\n",
    "    '''Сумма чисел'''\n",
    "    if n == 0:\n",
    "        return 0\n",
    "    else:\n",
    "        return n+mysum(n-1)\n",
    "\n",
    "def fib(n):\n",
    "    '''Числа Фибоначчи'''\n",
    "    if n == 1 or n == 2:\n",
    "        return 1\n",
    "    else:\n",
    "        return fib(n-1) + fib(n-2)\n",
    "\n",
    "def show(txt):\n",
    "    if len(txt) == 0:\n",
    "        print('|')\n",
    "    else:\n",
    "        print('|', txt[-1], end='', sep='')\n",
    "        show(txt[:-1])\n",
    "\n",
    "n = int(input('Введите число: '))\n",
    "print('Сумма')\n",
    "\n",
    "for i in range(n):\n",
    "    print(mysum(i), end=' ')\n",
    "\n",
    "print()\n",
    "print('Числа Фибоначчи')\n",
    "for i in range(n):\n",
    "    print(fib(i+1), end=' ')\n",
    "\n",
    "print()\n",
    "print('Инверсия текста')\n",
    "\n",
    "show('Hello Python')\n",
    "\n"
   ]
  },
  {
   "cell_type": "markdown",
   "id": "c1ee9dae-a592-4fab-a5dc-41dc4020419a",
   "metadata": {},
   "source": [
    "## Декораторы функций"
   ]
  },
  {
   "cell_type": "markdown",
   "id": "8c5db6ff-0f52-464c-bad5-6ef959953615",
   "metadata": {},
   "source": [
    "***Декораторы*** - это нектороая инструкция, которая размещается перед описанием функции и изменяет ее поведение"
   ]
  },
  {
   "cell_type": "code",
   "execution_count": 17,
   "id": "2800d51e-d7d9-437d-82da-0a30475c2e6f",
   "metadata": {},
   "outputs": [
    {
     "name": "stdout",
     "output_type": "stream",
     "text": [
      "f(3) = 35\n",
      "F(5, 7) = 48\n",
      "H(6) = 24\n"
     ]
    }
   ],
   "source": [
    "# Функции для использования с декоратором\n",
    "\n",
    "def funk_1(funk_2):\n",
    "    return lambda x: funk_2(x)*funk_2(7-x)\n",
    "\n",
    "def funk_3(funk_2):\n",
    "    return lambda x, y: funk_2(x, y) + funk_2(x, y)\n",
    "\n",
    "def funk_4(funk_2):\n",
    "    return lambda x: funk_2(x, 10-x)\n",
    "\n",
    "# Функции с декоратором\n",
    "@funk_1\n",
    "def f(x):\n",
    "    return 2*x-1\n",
    "\n",
    "@funk_3\n",
    "def F(x, y):\n",
    "    return (8-x)*(y+1)\n",
    "\n",
    "@funk_4\n",
    "def H(x, y):\n",
    "    return x*y\n",
    "\n",
    "print(f'f(3) = {f(3)}')\n",
    "print(f'F(5, 7) = {F(5, 7)}')\n",
    "print(f'H(6) = {H(6)}')\n"
   ]
  },
  {
   "cell_type": "markdown",
   "id": "8787c80b-b9d5-4e69-a351-57c5c9a420ac",
   "metadata": {},
   "source": [
    "## Функции - генераторы"
   ]
  },
  {
   "cell_type": "markdown",
   "id": "ef27cf6e-d5ab-450d-9005-724dfed91b1a",
   "metadata": {},
   "source": [
    "***Функции-генераторы*** позволяют созадвать особые итерируемые объекты, которые можно затем использовать в оперторах цикла или создавать на их основе списки и другие последовательности\n",
    "\n",
    "Главное отличие функций-генераторов от обычной функции состоит в том, что вместо ключевого слова ***return*** используется инструкция ***yield***"
   ]
  },
  {
   "cell_type": "code",
   "execution_count": 24,
   "id": "460ebb7b-480f-442e-9472-9559cc476efa",
   "metadata": {},
   "outputs": [
    {
     "name": "stdout",
     "output_type": "stream",
     "text": [
      "Простоквашино\n",
      "Дядя Федор\n",
      "Пес Шарик\n",
      "Кот Матроскин\n",
      "\n",
      "Цвета\n",
      "Красный Желтый Зеленый Синий \n",
      "\n",
      "Нечетные числа\n",
      "[1, 3, 5, 7, 9, 11, 13, 15, 17, 19, 21, 23, 25, 27, 29]\n",
      "(1, 3, 5, 7, 9, 11, 13, 15, 17, 19, 21, 23, 25, 27, 29)\n",
      "1 3 5 7 9 11 13 15 17 19 21 23 25 27 29 "
     ]
    }
   ],
   "source": [
    "def names():\n",
    "    yield 'Дядя Федор'\n",
    "    yield 'Пес Шарик'\n",
    "    yield 'Кот Матроскин'\n",
    "\n",
    "def colors():\n",
    "    list_color = ['Красный', 'Желтый', 'Зеленый', 'Синий']\n",
    "    for clr in list_color:\n",
    "        yield clr\n",
    "\n",
    "def myrange(n):\n",
    "    for i in range(n):\n",
    "        yield 2*i+1\n",
    "\n",
    "print('Простоквашино')\n",
    "for name in names():\n",
    "    print(name)\n",
    "print()\n",
    "print('Цвета')\n",
    "for color in colors():\n",
    "    print(color, end=' ')\n",
    "print()\n",
    "print()\n",
    "print('Нечетные числа')\n",
    "print(list(myrange(15)))\n",
    "print(tuple(myrange(15)))\n",
    "for i in myrange(15):\n",
    "    print(i, end=' ')\n",
    "    "
   ]
  },
  {
   "cell_type": "markdown",
   "id": "0a04cba0-4a19-4250-97c2-43ea90acf275",
   "metadata": {},
   "source": [
    "## Аннотации и документирование в функциях"
   ]
  },
  {
   "cell_type": "code",
   "execution_count": 32,
   "id": "b1923e7e-6a81-4df4-86af-7c976f1266f3",
   "metadata": {},
   "outputs": [
    {
     "name": "stdout",
     "output_type": "stream",
     "text": [
      "Единственный аргумент: Hello Python\n"
     ]
    },
    {
     "data": {
      "text/plain": [
       "'Это функция show() с одним аргументом'"
      ]
     },
     "execution_count": 32,
     "metadata": {},
     "output_type": "execute_result"
    }
   ],
   "source": [
    "def show(txt):\n",
    "    'Это функция show() с одним аргументом'\n",
    "    print(f'Единственный аргумент: {txt}')\n",
    "txt = 'Hello Python'\n",
    "\n",
    "show(txt)\n",
    "show.__doc__"
   ]
  },
  {
   "cell_type": "markdown",
   "id": "892d2566-14dd-496d-ae75-2131ac7c773b",
   "metadata": {},
   "source": [
    "***Аннотация*** для результата функции указывается через стрелку -> после круглых скобок с аргументами, но перед двоеточием\n",
    "\n",
    "**def** функция(аргументы) -> аннотация:\n",
    "\n",
    "    # Код функции"
   ]
  },
  {
   "cell_type": "code",
   "execution_count": 42,
   "id": "d7abb852-f3b0-4945-bdcf-1b7451eaf28d",
   "metadata": {},
   "outputs": [
    {
     "name": "stdout",
     "output_type": "stream",
     "text": [
      "Функция show()\n",
      "{'txt': 'Текст', 'return': 'Результат нет'}\n",
      "txt - Текст\n",
      "return - Результат нет\n"
     ]
    }
   ],
   "source": [
    "def show(txt:'Текст'='Функция show()') -> 'Результат нет':\n",
    "    print(txt)\n",
    "\n",
    "show()\n",
    "print(show.__annotations__)\n",
    "\n",
    "for i in show.__annotations__:\n",
    "    print(f'{i} - {show.__annotations__[i]}')"
   ]
  },
  {
   "cell_type": "markdown",
   "id": "cab0b9d2-8653-49e7-bdea-8cea93ee86d5",
   "metadata": {},
   "source": [
    "## Задания для самостоятельной работы"
   ]
  },
  {
   "cell_type": "markdown",
   "id": "c3b61982-9026-4ac7-b225-ea5431d9b001",
   "metadata": {},
   "source": [
    "#### № 1"
   ]
  },
  {
   "cell_type": "markdown",
   "id": "354cf9b4-dd4d-4331-8b87-52ea572dfea7",
   "metadata": {},
   "source": [
    "Напишите программу, в котрой создается функция с двумя аргументами, являющимися числовыми списками. Результатом является число, равное сумме попарных произведений элементов спиков. Если в одном из списков элементов меньше, чем в другом, то недостающие элементы получаются путем циклического повторения содержимого списка"
   ]
  },
  {
   "cell_type": "code",
   "execution_count": 47,
   "id": "0b5764c2-65f4-4b53-93b6-31276ffd96b2",
   "metadata": {},
   "outputs": [
    {
     "name": "stdout",
     "output_type": "stream",
     "text": [
      "55\n",
      "28\n",
      "28\n"
     ]
    }
   ],
   "source": [
    "def mysum(list_num_1, list_num_2):\n",
    "    s = 0\n",
    "    if len(list_num_1) > len(list_num_2):\n",
    "        n = len(list_num_1) - len(list_num_2)\n",
    "        for i in range(n):\n",
    "                list_num_2.append(list_num_2[i])\n",
    "    else:\n",
    "        n = len(list_num_2) - len(list_num_1)    \n",
    "        for i in range(n):\n",
    "            list_num_1.append(list_num_1[i])\n",
    "            \n",
    "    for i in range(len(list_num_1)):\n",
    "        s += list_num_1[i]*list_num_2[i]\n",
    "    return s\n",
    "\n",
    "list_num_1 = [1, 2, 3, 4, 5]\n",
    "list_num_2 = [1, 2, 3, 4, 5]\n",
    "print(mysum(list_num_1, list_num_2))\n",
    "\n",
    "list_num_1 = [1, 2, 3, 4, 5]\n",
    "list_num_2 = [1, 2, 3]\n",
    "print(mysum(list_num_1, list_num_2))\n",
    "\n",
    "list_num_1 = [1, 2, 3]\n",
    "list_num_2 = [1, 2, 3, 4, 5]\n",
    "print(mysum(list_num_1, list_num_2))   "
   ]
  },
  {
   "cell_type": "markdown",
   "id": "fa155765-edd3-443d-aa8b-a180b6230a76",
   "metadata": {},
   "source": [
    "#### № 2"
   ]
  },
  {
   "cell_type": "markdown",
   "id": "d683178a-fb8d-4989-9ddb-9aa1fde79bfc",
   "metadata": {},
   "source": [
    "Напишите программу с функцией, аргументом которой передается числовой список, а рузельтатом является еще один список, в которыйвключены только нечетные числа из списка аргументов"
   ]
  },
  {
   "cell_type": "code",
   "execution_count": 50,
   "id": "18b74531-43a5-48eb-ae78-fd0d2ff6b0c9",
   "metadata": {},
   "outputs": [
    {
     "name": "stdout",
     "output_type": "stream",
     "text": [
      "[11, 33, 89, 13]\n"
     ]
    }
   ],
   "source": [
    "def num(list_num):\n",
    "    new_list = []\n",
    "    for i in list_num:\n",
    "        if i%2 !=0:\n",
    "            new_list.append(i)\n",
    "    return new_list\n",
    "\n",
    "list_num = [10, 11, 24, 32, 33, 60, 76, 89, 12, 13]\n",
    "print(num(list_num))"
   ]
  },
  {
   "cell_type": "markdown",
   "id": "1fecc510-ba40-4411-90b0-64d4d15a6608",
   "metadata": {},
   "source": [
    "#### № 3"
   ]
  },
  {
   "cell_type": "markdown",
   "id": "d07c89fe-40d6-4b01-a473-17ee77c377d8",
   "metadata": {},
   "source": [
    "Напишите программу, в которой описывается функция с произвольным количеством числовых аргументов, а результатом возвращается список из трех элементов: среднее значение аргументов, максимальное и минимальное значение среди аргументов"
   ]
  },
  {
   "cell_type": "code",
   "execution_count": 61,
   "id": "a062f019-0333-4dc9-af6c-c890d4fd573b",
   "metadata": {},
   "outputs": [
    {
     "name": "stdout",
     "output_type": "stream",
     "text": [
      " Среднее значение = 4.5\n",
      " Максимальное значение = 9\n",
      " Минимальное значение = 0\n"
     ]
    }
   ],
   "source": [
    "def myfunc(*args):\n",
    "    mean_args = sum(args) / len(args)\n",
    "    max_args = max(args)\n",
    "    min_args = min(args)\n",
    "    return f' Среднее значение = {mean_args}\\n Максимальное значение = {max_args}\\n Минимальное значение = {min_args}'\n",
    "    \n",
    "print(myfunc(1, 2, 3, 4, 5, 6, 8, 3, 9, 0, 4, 9))"
   ]
  },
  {
   "cell_type": "markdown",
   "id": "d5b4b20c-2d43-428b-a71b-bff9f69b4caf",
   "metadata": {},
   "source": [
    "#### № 4"
   ]
  },
  {
   "cell_type": "markdown",
   "id": "07d0d4a7-1615-43c6-9c4b-db9cf9cfb511",
   "metadata": {},
   "source": [
    "Напишите программу, в которой создается функция с одним текстовым аргементом и произвольным количеством целочисленных аргументов. Результатом является текст, сформированный из букв первого текстового аргумента. Целочисленные аргументы определяют индексы букв, которые нужно включить в текст результат"
   ]
  },
  {
   "cell_type": "code",
   "execution_count": 9,
   "id": "72a954c9-9813-4682-9b0b-53fb474b88fc",
   "metadata": {},
   "outputs": [
    {
     "name": "stdout",
     "output_type": "stream",
     "text": [
      "bdgikm\n"
     ]
    }
   ],
   "source": [
    "def myfunc(txt, *args):\n",
    "    new_txt = ''\n",
    "    for i in args:\n",
    "        if i in range(len(txt)):\n",
    "            new_txt += txt[i]\n",
    "    return new_txt\n",
    "\n",
    "txt = 'abcdefghiklnm'\n",
    "print(myfunc(txt, 1, 3, 6, 8, 9, 12, 55))"
   ]
  },
  {
   "cell_type": "markdown",
   "id": "5c6a49ef-4857-4be7-88a6-f73810ba9bcd",
   "metadata": {},
   "source": [
    "#### № 5"
   ]
  },
  {
   "cell_type": "markdown",
   "id": "f515ba57-05ea-4159-aedc-bb3e601ea9e0",
   "metadata": {},
   "source": [
    "Напишите программу с функией, которая в качестве аргумента получает ссылку на функцию и два целых числа. Результатом функция возвращает наибольшее значение переданной первым аргументом функции в целочисленных точках диапазона (границы которого определяются вторым и третьим аргументом)"
   ]
  },
  {
   "cell_type": "code",
   "execution_count": 14,
   "id": "1408902b-09fd-4768-b3d2-ff4c9c2d62c6",
   "metadata": {},
   "outputs": [
    {
     "name": "stdout",
     "output_type": "stream",
     "text": [
      "6\n"
     ]
    }
   ],
   "source": [
    "def myfunc(func, a, b):\n",
    "    max_value = func(a)\n",
    "    for i in range(a+1, b+1):\n",
    "        current_value = func(i)\n",
    "        if current_value > max_value:\n",
    "            max_value = current_value\n",
    "    return max_value\n",
    "        \n",
    "func = lambda x: x\n",
    "print(myfunc(func, 6, 4))"
   ]
  },
  {
   "cell_type": "markdown",
   "id": "59dd63ea-826b-43e1-8c32-0fb73168c94d",
   "metadata": {},
   "source": [
    "#### № 6"
   ]
  },
  {
   "cell_type": "markdown",
   "id": "592f876d-c099-4064-900a-b85826e158f2",
   "metadata": {},
   "source": [
    "Напишите программу с функцией, которая в качестве аргумента получает ссылку на функцию (например f()) и целое число (например n). Результатом является функция, которая вычисляет результат путем п-кратного применения функции f()."
   ]
  },
  {
   "cell_type": "code",
   "execution_count": 32,
   "id": "2ab440bd-69d2-4cf2-90cb-642b5a6ad988",
   "metadata": {},
   "outputs": [
    {
     "name": "stdout",
     "output_type": "stream",
     "text": [
      "   0   2   4   6   8  10  12  14"
     ]
    }
   ],
   "source": [
    "def display(f, n):\n",
    "    for i in range(n+1):\n",
    "        print('{0:4}'.format(f(i)), end='')\n",
    "f = lambda x: x*2\n",
    "display(f, 7)"
   ]
  },
  {
   "cell_type": "markdown",
   "id": "b1279ceb-cb54-4470-9953-6339b847546f",
   "metadata": {},
   "source": [
    "#### № 7"
   ]
  },
  {
   "cell_type": "markdown",
   "id": "19ed80ee-9b9a-4057-a992-0f66ac3693b9",
   "metadata": {},
   "source": [
    "Напишите программу, в которой методом рекурсии символы из текста, переданного аргументом функции, отображаются через один, то есть отображаются 1, третий, пятый и т.д."
   ]
  },
  {
   "cell_type": "code",
   "execution_count": 50,
   "id": "b8c79d9e-a0e6-4956-a639-d18502745e1e",
   "metadata": {},
   "outputs": [
    {
     "name": "stdout",
     "output_type": "stream",
     "text": [
      "Результат через цикл\n",
      "13579\n",
      "Результат через срез\n",
      "13579\n",
      "Результат через рекурсию\n",
      "13579\n"
     ]
    }
   ],
   "source": [
    "def myfunc(txt):\n",
    "    for i in range(len(txt)):\n",
    "        if i % 2 == 0:\n",
    "            print(txt[i], end='')\n",
    "\n",
    "def show(txt):\n",
    "    if len(txt) == 0:\n",
    "        print()\n",
    "    else:\n",
    "        print(txt[0], end='')\n",
    "        show(txt[2::])\n",
    "\n",
    "txt = '123456789'\n",
    "print('Результат через цикл')\n",
    "myfunc(txt)\n",
    "print()\n",
    "print('Результат через срез')\n",
    "print(txt[::2])\n",
    "print('Результат через рекурсию')\n",
    "show(txt)\n"
   ]
  },
  {
   "cell_type": "markdown",
   "id": "660eaac9-fd7f-4e0f-beec-83df67534e1a",
   "metadata": {},
   "source": [
    "#### № 8"
   ]
  },
  {
   "cell_type": "markdown",
   "id": "c2f18ca4-5453-46d1-9414-9317c5aef34d",
   "metadata": {},
   "source": [
    "Напишите программу, в которой методом рекурсии вычисляется сумма геометрической прогресии: первое слагаемое равно единице, а каждое следующее получается из предыдущего умножением на определенное число (передаетсся в качестве аргумента функции, так же как и количество слагаемых в сумме)"
   ]
  },
  {
   "cell_type": "code",
   "execution_count": 71,
   "id": "5d353886-a438-4608-8dd2-e7c8bbf8733a",
   "metadata": {},
   "outputs": [
    {
     "name": "stdout",
     "output_type": "stream",
     "text": [
      "Результат через цикл\n",
      "- Сумма равна 37448\n",
      "Результат через рекурсию\n",
      "- Сумма равна 37448\n"
     ]
    }
   ],
   "source": [
    "def myfunc(volume, multiplier):\n",
    "    s = 0\n",
    "    num = 1\n",
    "    for i in range(volume):\n",
    "        num = num * multiplier\n",
    "        s += num\n",
    "    return s\n",
    "\n",
    "n = 1\n",
    "def summa(volume, multiplier):\n",
    "    global n\n",
    "    if volume != 0:\n",
    "        n *= multiplier\n",
    "        return n + summa(volume-1, multiplier)\n",
    "    else:\n",
    "        return 0\n",
    "\n",
    "print('Результат через цикл')\n",
    "print(f'- Сумма равна {myfunc(5, 8)}')\n",
    "print('Результат через рекурсию')\n",
    "print(f'- Сумма равна {summa(5, 8)}')"
   ]
  },
  {
   "cell_type": "markdown",
   "id": "6d7aafa7-eb74-483b-9701-b20baa014280",
   "metadata": {},
   "source": [
    "#### № 9"
   ]
  },
  {
   "cell_type": "markdown",
   "id": "6fc2abe1-2fa1-4218-9f7d-4278d16404a8",
   "metadata": {},
   "source": [
    "Напишите программу, в которой используется функция-генератор, создающая итерируемый объект с названием месяцев"
   ]
  },
  {
   "cell_type": "code",
   "execution_count": 74,
   "id": "d61b134b-e7ed-4dc3-b874-8af70d732752",
   "metadata": {},
   "outputs": [
    {
     "name": "stdout",
     "output_type": "stream",
     "text": [
      "<generator object myfunc at 0x709e2b300ee0>\n",
      "Январь\n",
      "Февраль\n",
      "Март\n",
      "Апрель\n",
      "Май\n",
      "Июнь\n",
      "Июль\n",
      "Август\n",
      "Сентябрь\n",
      "Октябрь\n",
      "Ноябрь\n",
      "Декабрь\n"
     ]
    }
   ],
   "source": [
    "def myfunc():\n",
    "    mounts = ['Январь', 'Февраль', 'Март', 'Апрель', 'Май', 'Июнь', 'Июль', 'Август', 'Сентябрь', 'Октябрь', 'Ноябрь', 'Декабрь']\n",
    "    for mount in mounts:\n",
    "        yield mount\n",
    "\n",
    "print(myfunc())\n",
    "for mount in myfunc():\n",
    "    print(mount)"
   ]
  },
  {
   "cell_type": "markdown",
   "id": "34bdb4f5-c249-4111-81c1-a3f1dc9a77ca",
   "metadata": {},
   "source": [
    "#### № 10"
   ]
  },
  {
   "cell_type": "markdown",
   "id": "8c311703-a795-4ef2-89b7-0ac35872352f",
   "metadata": {},
   "source": [
    "Напишите программу, в которой используется функция-генератор, создающая итерируемый объект со степенями двойки.\n",
    "Количество элементов определяет ся агрументом функции"
   ]
  },
  {
   "cell_type": "code",
   "execution_count": 81,
   "id": "fa40787f-0d10-4590-ac60-f72ac30bd0c0",
   "metadata": {},
   "outputs": [
    {
     "name": "stdout",
     "output_type": "stream",
     "text": [
      "1 2 4 8 16 32 64 128 256 512 1024 "
     ]
    }
   ],
   "source": [
    "def two(n):\n",
    "    for i in range(n+1):\n",
    "        yield 2**i\n",
    "n = 10\n",
    "for i in two(n):\n",
    "    print(i, end= ' ')"
   ]
  },
  {
   "cell_type": "code",
   "execution_count": null,
   "id": "0416743f-c9da-4b6d-9bc4-c7a03efb2221",
   "metadata": {},
   "outputs": [],
   "source": []
  }
 ],
 "metadata": {
  "kernelspec": {
   "display_name": "Python 3 (ipykernel)",
   "language": "python",
   "name": "python3"
  },
  "language_info": {
   "codemirror_mode": {
    "name": "ipython",
    "version": 3
   },
   "file_extension": ".py",
   "mimetype": "text/x-python",
   "name": "python",
   "nbconvert_exporter": "python",
   "pygments_lexer": "ipython3",
   "version": "3.11.2"
  }
 },
 "nbformat": 4,
 "nbformat_minor": 5
}
