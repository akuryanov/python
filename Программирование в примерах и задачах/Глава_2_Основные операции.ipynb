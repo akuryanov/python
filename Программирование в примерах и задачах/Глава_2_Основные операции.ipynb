{
 "cells": [
  {
   "cell_type": "markdown",
   "id": "8412abf5-2bea-43c4-9280-b25d7ec3bc22",
   "metadata": {},
   "source": [
    "# Глава 2"
   ]
  },
  {
   "cell_type": "markdown",
   "id": "ac266e85-d9e6-4aa0-86d8-23e0853efce3",
   "metadata": {},
   "source": [
    "## Оператор цикла while"
   ]
  },
  {
   "cell_type": "markdown",
   "id": "26041e60-fcd9-47a8-a4be-00932e6a7c14",
   "metadata": {},
   "source": [
    "##### break"
   ]
  },
  {
   "cell_type": "code",
   "execution_count": 12,
   "id": "b84cc456-bf59-47ee-b52b-27c71b7a366f",
   "metadata": {},
   "outputs": [
    {
     "name": "stdin",
     "output_type": "stream",
     "text": [
      "Введите число:  23\n"
     ]
    },
    {
     "name": "stdout",
     "output_type": "stream",
     "text": [
      "Число 23 является простым\n"
     ]
    }
   ],
   "source": [
    "'''Программа проверяет является ли введенное число простым'''\n",
    "\n",
    "number = int(input('Введите число: '))\n",
    "num = number // 2 # Верхняя граница делителя\n",
    "k = 2 # Начальное значение делителя\n",
    "\n",
    "# Поиск делитетей числа\n",
    "while k <= num:\n",
    "    if number % k == 0: # Если число делится на k без остатка\n",
    "        print(f'Число {number} не является простым')\n",
    "        break # Завершение цикла\n",
    "    # Если число делится на k увеличиваем значение k\n",
    "    k += 1\n",
    "    # Блок продолжит выполнятться если не выполнена инструкция break\n",
    "else:\n",
    "    print(f'Число {number} является простым')"
   ]
  },
  {
   "cell_type": "markdown",
   "id": "7a40620a-fd2c-443a-854c-8b7adfa0201c",
   "metadata": {},
   "source": [
    "##### continue"
   ]
  },
  {
   "cell_type": "code",
   "execution_count": 16,
   "id": "82ea2c62-7e49-417a-9d97-5567e23ef250",
   "metadata": {},
   "outputs": [
    {
     "name": "stdin",
     "output_type": "stream",
     "text": [
      "Введите число:  62\n"
     ]
    },
    {
     "name": "stdout",
     "output_type": "stream",
     "text": [
      "Число 62 делится на 2\n",
      "Число 62 делится на 31\n",
      "Число 62 делится на 62\n"
     ]
    }
   ],
   "source": [
    "'''Программа находит все делители числа'''\n",
    "number = int(input('Введите число: '))\n",
    "\n",
    "k = 1 # Начальное значение длителя\n",
    "num  = number // 2\n",
    "while k < number:\n",
    "    k += 1\n",
    "    if number%k != 0: # Если число не делится на текущий делитель\n",
    "        continue # Продолжение цикла\n",
    "    print(f'Число {number} делится на {k}') # Вывод сообщения о делитиеле\n",
    "# print(f'{number}{}') # Вывод сообщения о последнем делитиеле\n",
    "    "
   ]
  },
  {
   "cell_type": "markdown",
   "id": "a79080e6-0d27-4f59-9012-bef51b6f14c3",
   "metadata": {},
   "source": [
    "## Оператор цикла for"
   ]
  },
  {
   "cell_type": "code",
   "execution_count": 18,
   "id": "6c60c90b-f374-42a3-9f20-a674976833e1",
   "metadata": {},
   "outputs": [
    {
     "name": "stdin",
     "output_type": "stream",
     "text": [
      "Введите количество чисел в последовательности:  15\n"
     ]
    },
    {
     "name": "stdout",
     "output_type": "stream",
     "text": [
      "1 1 2 3 5 8 13 21 34 55 89 144 233 377 610 "
     ]
    }
   ],
   "source": [
    "'''Программа выводит последовательность чисел Фибоначчи'''\n",
    "\n",
    "n = int(input('Введите количество чисел в последовательности: '))\n",
    "a = 1\n",
    "b = 1\n",
    "# выводятся первые два числа последовательности через пробел\n",
    "print(a, b, end=' ')\n",
    "for k in range(n-2):\n",
    "    a, b = b, a+b # Вычисление нового числа последовательности\n",
    "    print(b, end=' ')"
   ]
  },
  {
   "cell_type": "raw",
   "id": "9a014fe8-19f4-4456-a356-4e3c53770a3c",
   "metadata": {},
   "source": [
    "Иногда может использоваться опертор else вместе с оператором  for, который выполняется после того как оператор for \n",
    "переберет все элементы\n",
    "Когда оператор for прекращает свое действие по команде break, комадны в else выполняться не будут"
   ]
  },
  {
   "cell_type": "code",
   "execution_count": 23,
   "id": "66d8c570-8b1b-4f3b-b7de-f98335675bc7",
   "metadata": {},
   "outputs": [
    {
     "name": "stdin",
     "output_type": "stream",
     "text": [
      "Введите текст:  Молоко\n"
     ]
    },
    {
     "name": "stdout",
     "output_type": "stream",
     "text": [
      "В тексте нет буквы \"а\"\n",
      "В тексте нет буквы \"е\"\n",
      "В тексте нет буквы \"я\"\n",
      "В тексте нет таких букв\n",
      "Поиск завершен\n"
     ]
    }
   ],
   "source": [
    "'''Программа ищет любую из букв списка в тексте'''\n",
    "mytext = input('Введите текст: ')\n",
    "symbols = ['а', 'е', 'я']\n",
    "for s in symbols:\n",
    "    if s in mytext:\n",
    "        print(f'В тексте есть буква \"{s}\"')\n",
    "        break\n",
    "    else:\n",
    "        print(f'В тексте нет буквы \"{s}\"')\n",
    "else:\n",
    "    print('В тексте нет таких букв')\n",
    "\n",
    "print('Поиск завершен')\n",
    "\n",
    "    "
   ]
  },
  {
   "cell_type": "markdown",
   "id": "62edeff5-461f-45a7-ac58-2f9416e575b5",
   "metadata": {},
   "source": [
    "## Оператор if"
   ]
  },
  {
   "cell_type": "code",
   "execution_count": 58,
   "id": "274be2f4-3c0a-47f8-b437-69782c7dcc37",
   "metadata": {},
   "outputs": [
    {
     "name": "stdin",
     "output_type": "stream",
     "text": [
      "введите два числа через запятую:  5.4,6.2\n"
     ]
    },
    {
     "name": "stdout",
     "output_type": "stream",
     "text": [
      "x = 1.1481481481481481\n"
     ]
    }
   ],
   "source": [
    "'''Программа решения уравнения вида a*x = b'''\n",
    "a, b = eval(input('введите два числа через запятую: ')) # eval переводит введенное текстовое значение в соотвествующий формат\n",
    "txt = 'b/a'\n",
    "\n",
    "if (type(a)==int or type(a)==float) and (type(b)==int or type(b)==float):\n",
    "    if a != 0:\n",
    "        print(f'x = {eval(txt)}')\n",
    "    else:\n",
    "        if b != 0:\n",
    "            print (f'Нет действительных корней уравнения')\n",
    "        else:\n",
    "            print('x принимает любое значение')\n",
    "else:\n",
    "    print('Значения введены некоректно')"
   ]
  },
  {
   "cell_type": "markdown",
   "id": "36f60e99-9704-42e8-a4cb-6b50630064c5",
   "metadata": {},
   "source": [
    "## Тернарный оператор"
   ]
  },
  {
   "cell_type": "markdown",
   "id": "0ecd1f1c-37b3-4014-9b30-231763f53de1",
   "metadata": {},
   "source": [
    "Тернарный оператор имеет вид: значение_истина if условие else значение_ложь"
   ]
  },
  {
   "cell_type": "code",
   "execution_count": 61,
   "id": "cc741887-a52e-43b0-8105-5bdf3d9bd2fc",
   "metadata": {},
   "outputs": [
    {
     "name": "stdin",
     "output_type": "stream",
     "text": [
      "Введите целое число:  122\n"
     ]
    },
    {
     "name": "stdout",
     "output_type": "stream",
     "text": [
      "число чётное\n"
     ]
    }
   ],
   "source": [
    "'''Программа проверяет четность числа'''\n",
    "a = int(input('Введите целое число: '))\n",
    "res = 'число чётное' if a % 2 == 0 else 'Число нечётное'\n",
    "print(res)"
   ]
  },
  {
   "cell_type": "markdown",
   "id": "fe228d21-f8fe-42e9-84a9-e59d186b4ed3",
   "metadata": {},
   "source": [
    "## Задачи для самостоятельной работы"
   ]
  },
  {
   "cell_type": "markdown",
   "id": "3d290d10-9a2b-4bf7-bffe-526daab526e9",
   "metadata": {},
   "source": [
    "#### № 1"
   ]
  },
  {
   "cell_type": "raw",
   "id": "17131985-ef5a-4319-90f9-3209b16dd418",
   "metadata": {},
   "source": [
    "Напишите программу, в которой пользователь вводит целое число, а программа определяет, сколько в этом числе цифр 0, 1, 2,..."
   ]
  },
  {
   "cell_type": "code",
   "execution_count": 119,
   "id": "3aa70c67-80ab-468d-9528-ecc5573761f7",
   "metadata": {},
   "outputs": [
    {
     "name": "stdout",
     "output_type": "stream",
     "text": [
      "The history saving thread hit an unexpected error (OperationalError('attempt to write a readonly database')).History will not be written to the database.\n"
     ]
    },
    {
     "name": "stdin",
     "output_type": "stream",
     "text": [
      "Введите целое число:  65413216846\n"
     ]
    },
    {
     "name": "stdout",
     "output_type": "stream",
     "text": [
      "{0: 0, 1: 2, 2: 1, 3: 1, 4: 2, 5: 1, 6: 3, 7: 0, 8: 1, 9: 0}\n"
     ]
    }
   ],
   "source": [
    "try:\n",
    "    n = int(input('Введите целое число: '))\n",
    "    str_n = str(n)\n",
    "    a = {}\n",
    "    for i in range (0, 10):\n",
    "        j = str(i)\n",
    "        a[i] = str_n.count(j)\n",
    "\n",
    "    print(a)\n",
    "except ValueError:\n",
    "    print('Введено не целое число')"
   ]
  },
  {
   "cell_type": "markdown",
   "id": "0406f07f-b0d4-4f9d-93e3-9b1a71bc0801",
   "metadata": {},
   "source": [
    "#### № 2"
   ]
  },
  {
   "cell_type": "markdown",
   "id": "05573185-0ef4-4a43-80e1-c7d251af3d4b",
   "metadata": {},
   "source": [
    "Напишите программу в которой пользователь вводит целое число, а программа меняет каждую цифру на дополнение до 9"
   ]
  },
  {
   "cell_type": "code",
   "execution_count": 75,
   "id": "409cc7dd-8b4c-4b84-9059-aa788537f7fb",
   "metadata": {},
   "outputs": [
    {
     "name": "stdin",
     "output_type": "stream",
     "text": [
      "Введите целое число:  3221564\n"
     ]
    },
    {
     "name": "stdout",
     "output_type": "stream",
     "text": [
      "6778435\n"
     ]
    }
   ],
   "source": [
    "n = int(input('Введите целое число: '))\n",
    "str_n = str(n)\n",
    "b = ''\n",
    "for i in str_n:\n",
    "    a = 9-int(i)\n",
    "    b += str(a)\n",
    "print(b)\n"
   ]
  },
  {
   "cell_type": "markdown",
   "id": "7b8ec8dc-0c46-4843-acf2-aa54ed70d7f5",
   "metadata": {},
   "source": [
    "#### №3"
   ]
  },
  {
   "cell_type": "markdown",
   "id": "a75d25f6-fe94-49d0-8ffa-a29204e9d9fa",
   "metadata": {},
   "source": [
    "Напишите программу, которая на основе списка натуральых чисел формирует целое число. Число формируется объединением элементов списка"
   ]
  },
  {
   "cell_type": "code",
   "execution_count": 77,
   "id": "117a84fa-baf5-406d-82e8-58b1ee393f2a",
   "metadata": {},
   "outputs": [
    {
     "name": "stdout",
     "output_type": "stream",
     "text": [
      "23454587347\n"
     ]
    }
   ],
   "source": [
    "list_ = [2, 345, 45, 87, 347]\n",
    "a = ''\n",
    "for i in list_:\n",
    "    a += str(i)\n",
    "print(int(a))\n"
   ]
  },
  {
   "cell_type": "markdown",
   "id": "3f9ece55-43ef-44df-a867-3454e5bd922c",
   "metadata": {},
   "source": [
    "#### № 4"
   ]
  },
  {
   "cell_type": "markdown",
   "id": "01710e99-c36f-4bba-bddc-d0ad8a46ab7a",
   "metadata": {},
   "source": [
    "Напишите программу в которой сравниваются два числовых списка"
   ]
  },
  {
   "cell_type": "code",
   "execution_count": 81,
   "id": "e5e6da65-9a6e-4e07-902d-6ed28e83077c",
   "metadata": {},
   "outputs": [
    {
     "name": "stdout",
     "output_type": "stream",
     "text": [
      "списки одинаковые\n"
     ]
    }
   ],
   "source": [
    "list_1 = [4, 5, 7, 3, 2]\n",
    "# list_2 = [3, 5, 7, 8, 4]\n",
    "list_2 = [4, 5, 7, 3, 2]\n",
    "if list_1 == list_2:\n",
    "    print('списки одинаковые')\n",
    "else:\n",
    "    print('списки не одинаковые')"
   ]
  },
  {
   "cell_type": "markdown",
   "id": "ff3e73ea-1e60-4d46-b67d-67de45497f90",
   "metadata": {},
   "source": [
    "#### № 5"
   ]
  },
  {
   "cell_type": "markdown",
   "id": "aea74a53-dcb1-4593-9962-e9d1d55245ce",
   "metadata": {},
   "source": [
    "Напипшите программу в которой пользователь вводит список целочисленных значений и максимальное число для расчета, а программа считает сумму натуральных чисел от 1 до введенного максимального числа, за исключением чисел из списка\n",
    "\n",
    "Например введен список [3, 6, 9] и число 10. Программа считает сумму чисел от 1 до 10 за исключением чисел 3, 6, 9\n",
    "т.е. 1+2+3+4+5+7+8 = "
   ]
  },
  {
   "cell_type": "code",
   "execution_count": 94,
   "id": "f4cbf857-481b-4d4f-ab43-4be623116069",
   "metadata": {},
   "outputs": [
    {
     "name": "stdin",
     "output_type": "stream",
     "text": [
      "введите числа  без пробелов и запятых 2356\n"
     ]
    },
    {
     "name": "stdout",
     "output_type": "stream",
     "text": [
      "['2', '3', '5', '6']\n"
     ]
    },
    {
     "name": "stdin",
     "output_type": "stream",
     "text": [
      "Введите максимальное число 20\n"
     ]
    },
    {
     "name": "stdout",
     "output_type": "stream",
     "text": [
      "194\n"
     ]
    }
   ],
   "source": [
    "n = list(input('введите числа  без пробелов и запятых'))\n",
    "print(n)\n",
    "k = int(input('Введите максимальное число'))\n",
    "s = 0\n",
    "for i in range(1, k+1):\n",
    "    if str(i) not in n:\n",
    "        s += i\n",
    "print(s)"
   ]
  },
  {
   "cell_type": "markdown",
   "id": "e5426b31-66f8-4cb9-a703-88ec9219a4d7",
   "metadata": {},
   "source": [
    "#### № 6"
   ]
  },
  {
   "cell_type": "markdown",
   "id": "a9c20055-7629-40ec-9691-17f011f35fe7",
   "metadata": {},
   "source": [
    "Напишите программу, в которой пользователь вводит три числа, а программа определяет, может ли существовать треугольник в указанными сторонами. (Сумма длин двух сторон всегда больше длины третьей)"
   ]
  },
  {
   "cell_type": "code",
   "execution_count": 106,
   "id": "882dad96-c0b5-42b4-b4fc-88f707cb6390",
   "metadata": {},
   "outputs": [
    {
     "name": "stdin",
     "output_type": "stream",
     "text": [
      "введите через запятую длины сторон треугольника 2,2,4\n"
     ]
    },
    {
     "name": "stdout",
     "output_type": "stream",
     "text": [
      "Треугольник со стронами a=2, b=2, c=4 не существует\n"
     ]
    }
   ],
   "source": [
    "a, b, c = eval(input('введите через запятую длины сторон треугольника'))\n",
    "if (a+b>c) and (b+c>a) and (a+c>b):\n",
    "    print(f'Треугольник со стронами a={a}, b={b}, c={c} существует')\n",
    "else:\n",
    "    print(f'Треугольник со стронами a={a}, b={b}, c={c} не существует')"
   ]
  },
  {
   "cell_type": "markdown",
   "id": "ab25e31b-bc85-4daa-be13-8c71ddfa2d53",
   "metadata": {},
   "source": [
    "#### № 7"
   ]
  },
  {
   "cell_type": "markdown",
   "id": "a2061f6e-119c-4c06-b7ca-8b62b5aa993d",
   "metadata": {},
   "source": [
    "Напишите программу в которой пользователь вводит три числа, а программа определяет, \n",
    "являются ли введенные числа элементами арифметической последовательности"
   ]
  },
  {
   "cell_type": "code",
   "execution_count": 109,
   "id": "4da67708-9da5-43e3-bc90-3d0369557694",
   "metadata": {},
   "outputs": [
    {
     "name": "stdin",
     "output_type": "stream",
     "text": [
      "введите через запятую три числа 1,9,6\n"
     ]
    },
    {
     "name": "stdout",
     "output_type": "stream",
     "text": [
      "числа 1, 9, 6 - НЕ являются элементами арифметической последовательности\n"
     ]
    }
   ],
   "source": [
    "a, b, c = eval(input('введите через запятую три числа'))\n",
    "if b-a == c-b:\n",
    "    print(f'числа {a}, {b}, {c} - являются элементами арифметической последовательности' )\n",
    "else:\n",
    "    print(f'числа {a}, {b}, {c} - НЕ являются элементами арифметической последовательности' )"
   ]
  },
  {
   "cell_type": "markdown",
   "id": "f6f61588-b15a-4e1b-90f8-fa523c411bcc",
   "metadata": {},
   "source": [
    "#### № 9"
   ]
  },
  {
   "cell_type": "markdown",
   "id": "5c6487f5-ce83-45a9-beab-9c7b6012aa79",
   "metadata": {},
   "source": [
    "Напишите программу, в которой пользователь вводит два действительных числа, а программа проверяет, какие из чисел больше"
   ]
  },
  {
   "cell_type": "code",
   "execution_count": 118,
   "id": "afa5fdcd-c616-4e86-aa33-6d115818501d",
   "metadata": {},
   "outputs": [
    {
     "name": "stdin",
     "output_type": "stream",
     "text": [
      "Введите через запятую два числа 1231.5, 1231.4\n"
     ]
    },
    {
     "name": "stdout",
     "output_type": "stream",
     "text": [
      "число a=1231.5 больше числа b=1231.4\n"
     ]
    }
   ],
   "source": [
    "try:\n",
    "    a, b = eval(input('Введите через запятую два числа'))\n",
    "    result = f'число a={a} больше числа b={b}' if a>b else f'число b={b} больше числа a={a}'\n",
    "    print(result)\n",
    "except ValueError:\n",
    "    print('Введено не вещественное число')\n"
   ]
  },
  {
   "cell_type": "code",
   "execution_count": null,
   "id": "2790bcc2-ef6b-4cab-9c4a-4ffa0d6f457c",
   "metadata": {},
   "outputs": [],
   "source": []
  }
 ],
 "metadata": {
  "kernelspec": {
   "display_name": "Python 3 (ipykernel)",
   "language": "python",
   "name": "python3"
  },
  "language_info": {
   "codemirror_mode": {
    "name": "ipython",
    "version": 3
   },
   "file_extension": ".py",
   "mimetype": "text/x-python",
   "name": "python",
   "nbconvert_exporter": "python",
   "pygments_lexer": "ipython3",
   "version": "3.11.2"
  }
 },
 "nbformat": 4,
 "nbformat_minor": 5
}
