{
 "cells": [
  {
   "cell_type": "markdown",
   "id": "0d9e363d-3aea-472c-9645-92a858560b2b",
   "metadata": {},
   "source": [
    "# Глава 3. Списки(list) и кортежи(tuple)"
   ]
  },
  {
   "cell_type": "markdown",
   "id": "7dcd1226-fdd7-4fc8-97ae-26896e784481",
   "metadata": {},
   "source": [
    "## Кортежи(tuple)"
   ]
  },
  {
   "cell_type": "markdown",
   "id": "f4883e81-e41d-4472-9021-bd520c782b2e",
   "metadata": {},
   "source": [
    "Кортеж - упорядоченная последовательность элементов (возможно разного типа)\n",
    "\n",
    "tuple_1 = (1, \"A\", True) Кортеж из трех элементов\n",
    "\n",
    "tuple_2 = (1,) Кортеж из одноо элемента (запятая в конце обязательна)"
   ]
  },
  {
   "cell_type": "code",
   "execution_count": 2,
   "id": "b358495f-2956-461d-be43-befde900ba41",
   "metadata": {},
   "outputs": [],
   "source": [
    "### Разные способы создания кортежей"
   ]
  },
  {
   "cell_type": "code",
   "execution_count": 7,
   "id": "87b324e9-8d06-430e-bbcf-98385c99a6da",
   "metadata": {},
   "outputs": [
    {
     "name": "stdout",
     "output_type": "stream",
     "text": [
      "alpha:  (5, 2, 5, 'Пять')\n",
      "bravo:  (100, [1, '2', 'три'], 15)\n",
      "charlie:  (1, 2, 3, (4, 5, 6))\n",
      "delta:  ('q', 'w', 'e', 'r', 't', 'y')\n",
      "echo:  (1, 2, 4, 8, 16, 32, 64, 128, 256, 512, 1024)\n",
      "gamma:  ('G',)\n"
     ]
    }
   ],
   "source": [
    "alpha = (5, 2, 5, \"Пять\")\n",
    "bravo = 100, [1, \"2\", \"три\"], 15\n",
    "charlie = tuple([1, 2, 3, (4, 5, 6)])\n",
    "delta = tuple(\"qwerty\")\n",
    "echo = tuple(2**k for k in range(11))\n",
    "gamma = (\"G\",)\n",
    "\n",
    "print('alpha: ', alpha)\n",
    "print('bravo: ', bravo)\n",
    "print('charlie: ', charlie)\n",
    "print('delta: ', delta)\n",
    "print('echo: ', echo)\n",
    "print('gamma: ', gamma)"
   ]
  },
  {
   "cell_type": "markdown",
   "id": "1afe7780-8f54-4f3a-85cd-2d5c1391b92d",
   "metadata": {},
   "source": [
    "## Основные операции со списками и кортежами"
   ]
  },
  {
   "cell_type": "markdown",
   "id": "3f5c1082-34e2-44ff-b75f-14f0a93b5d88",
   "metadata": {},
   "source": [
    "#### Операции со списками"
   ]
  },
  {
   "cell_type": "code",
   "execution_count": 29,
   "id": "54cfb205-ce7e-4aa8-9f4a-c418b0a480a9",
   "metadata": {},
   "outputs": [],
   "source": [
    "# создание списков\n",
    "a = [10, 20, 30]\n",
    "b = [\"Python\", [1, 2]]"
   ]
  },
  {
   "cell_type": "code",
   "execution_count": 30,
   "id": "f2ff3e6c-8f80-4679-9de9-4411782128c3",
   "metadata": {},
   "outputs": [
    {
     "name": "stdout",
     "output_type": "stream",
     "text": [
      "[10, 20, 30, 'Python', [1, 2]]\n"
     ]
    }
   ],
   "source": [
    "# Объединение списков\n",
    "c = a+b\n",
    "print(c)"
   ]
  },
  {
   "cell_type": "code",
   "execution_count": 31,
   "id": "317dddc2-a745-4e61-aeca-95da1a626808",
   "metadata": {},
   "outputs": [
    {
     "name": "stdout",
     "output_type": "stream",
     "text": [
      "[10, 20, 30, 'Python', [1, 2], 100]\n"
     ]
    }
   ],
   "source": [
    "# добавление элемента в конец списка\n",
    "c += [100]\n",
    "print(c)"
   ]
  },
  {
   "cell_type": "code",
   "execution_count": 32,
   "id": "1dfdc48c-fefa-4c77-a334-3cd8d2cce69b",
   "metadata": {},
   "outputs": [
    {
     "name": "stdout",
     "output_type": "stream",
     "text": [
      "[200, 10, 20, 30, 'Python', [1, 2], 100]\n"
     ]
    }
   ],
   "source": [
    "# Добавление элемента в начало списка\n",
    "c = [200] + c\n",
    "print(c)"
   ]
  },
  {
   "cell_type": "code",
   "execution_count": 33,
   "id": "a6cde80c-437f-435a-8965-20a91346ac3d",
   "metadata": {},
   "outputs": [
    {
     "name": "stdout",
     "output_type": "stream",
     "text": [
      "[200, 10, 20, 30, 8, 9, 'Python', [1, 2], 100]\n"
     ]
    }
   ],
   "source": [
    "# добавление элементов в другое место списка\n",
    "c[4:4] = [8, 9]\n",
    "print(c)"
   ]
  },
  {
   "cell_type": "code",
   "execution_count": 35,
   "id": "f71b3e05-182b-469e-960e-3953c84345c1",
   "metadata": {},
   "outputs": [
    {
     "name": "stdout",
     "output_type": "stream",
     "text": [
      "[200, 10, 20, 30, [8, 9], 9, 'Python', [1, 2], 100]\n"
     ]
    }
   ],
   "source": [
    "# замена элемента в список\n",
    "c[4] = [8, 9]\n",
    "print(c)"
   ]
  },
  {
   "cell_type": "code",
   "execution_count": 36,
   "id": "0bb77c72-4330-4d4d-92a8-da9c8e83a660",
   "metadata": {},
   "outputs": [
    {
     "name": "stdout",
     "output_type": "stream",
     "text": [
      "[200, 10, 20, 30, 'A', 23, True, [1, 2], 100]\n"
     ]
    }
   ],
   "source": [
    "# замена нескольких элементов списка\n",
    "c[4:7] = [\"A\", 23, True]\n",
    "print(c)"
   ]
  },
  {
   "cell_type": "code",
   "execution_count": 38,
   "id": "399c4865-4ad4-48d9-954f-ee8d81076ab5",
   "metadata": {},
   "outputs": [
    {
     "name": "stdout",
     "output_type": "stream",
     "text": [
      "[200, 10, 20, 'A', 23, True, [1, 2], 100]\n"
     ]
    }
   ],
   "source": [
    "# удаление элемента списка\n",
    "c[3:4] = []\n",
    "print(c)"
   ]
  },
  {
   "cell_type": "markdown",
   "id": "b25a4c59-12fd-4e92-9e0b-2c65d19e61bb",
   "metadata": {},
   "source": [
    "#### Операции  с кортежами"
   ]
  },
  {
   "cell_type": "code",
   "execution_count": 39,
   "id": "77ca71e1-c66d-4bd5-acb8-8b3efc7b6ce2",
   "metadata": {},
   "outputs": [],
   "source": [
    "# создание кортежей\n",
    "a = (10, 20, 30)\n",
    "b  = (\"Python\", 2, True)"
   ]
  },
  {
   "cell_type": "code",
   "execution_count": 40,
   "id": "3f97b9a0-9a50-4f41-a3d6-adf207703102",
   "metadata": {},
   "outputs": [
    {
     "name": "stdout",
     "output_type": "stream",
     "text": [
      "(10, 20, 30, 'Python', 2, True)\n"
     ]
    }
   ],
   "source": [
    "# Объединенеи кортежей\n",
    "c = a + b\n",
    "print(c)"
   ]
  },
  {
   "cell_type": "code",
   "execution_count": 41,
   "id": "27cfa0b7-6d70-475a-9eb8-7a9fa15fad54",
   "metadata": {},
   "outputs": [
    {
     "name": "stdout",
     "output_type": "stream",
     "text": [
      "(10, 20, 30, 'Python', 2, True, 100)\n"
     ]
    }
   ],
   "source": [
    "# добавление элемиента в конец кортежа\n",
    "c += (100,)\n",
    "print(c)"
   ]
  },
  {
   "cell_type": "code",
   "execution_count": 42,
   "id": "f3809695-f74b-4a88-be5e-1d01b426c17d",
   "metadata": {},
   "outputs": [
    {
     "name": "stdout",
     "output_type": "stream",
     "text": [
      "(200, 10, 20, 30, 'Python', 2, True, 100)\n"
     ]
    }
   ],
   "source": [
    "# добавление элемента в начало кортежа\n",
    "c = (200,) + c\n",
    "print(c)"
   ]
  },
  {
   "cell_type": "code",
   "execution_count": 43,
   "id": "268c8f3b-428d-4c4f-888f-a0ba2dcc37ec",
   "metadata": {},
   "outputs": [
    {
     "name": "stdout",
     "output_type": "stream",
     "text": [
      "(200, 10, 8, 9, 20, 30, 'Python', 2, True, 100)\n"
     ]
    }
   ],
   "source": [
    "# вставка элементов в кортеж\n",
    "c = c[:2] + (8, 9) + c[2:]\n",
    "print(c)"
   ]
  },
  {
   "cell_type": "code",
   "execution_count": 45,
   "id": "16148ba6-d22f-4e38-a9a4-a7da7ea355b1",
   "metadata": {},
   "outputs": [
    {
     "name": "stdout",
     "output_type": "stream",
     "text": [
      "('D', False, 9, 20, 30, 'Python', 2, True, 100)\n"
     ]
    }
   ],
   "source": [
    "# замена элементов кортежа\n",
    "c = (\"D\", False) + c[3:]\n",
    "print(c)"
   ]
  },
  {
   "cell_type": "markdown",
   "id": "3c819451-8c2e-412b-bf9e-4dbf037e0acf",
   "metadata": {},
   "source": [
    "#### Создание выборки на основе списков и кортежей"
   ]
  },
  {
   "cell_type": "code",
   "execution_count": 18,
   "id": "7a5d0341-ae76-4b44-9c2b-6e52b70417cc",
   "metadata": {},
   "outputs": [
    {
     "name": "stdout",
     "output_type": "stream",
     "text": [
      "(1, 2, 4, 5, 7, 8, 10, 11, 13, 14, 16, 17, 19, 20)\n"
     ]
    }
   ],
   "source": [
    "# Создание кортежа с помощью генератора последовательностей\n",
    "\n",
    "tuple_ = tuple(k for k in range(1, 21) if k%3 != 0)\n",
    "print(tuple_)"
   ]
  },
  {
   "cell_type": "code",
   "execution_count": 28,
   "id": "6bf270fc-8788-473b-83ed-e52ea51e219c",
   "metadata": {},
   "outputs": [
    {
     "name": "stdout",
     "output_type": "stream",
     "text": [
      "[1, 1, 2, 3, 4, 9, 8, 27, 16, 81, 32, 243, 64, 729, 128]\n"
     ]
    }
   ],
   "source": [
    "# Список чисел с помощью генератора последовательностей\n",
    "list_1 = [2**(k//2) if k%2==0 else 3**(k//2) for k in range(15)]\n",
    "print(list_1)"
   ]
  },
  {
   "cell_type": "code",
   "execution_count": 22,
   "id": "4a3c5c6c-ea62-4730-89e0-02fbc45dd8cb",
   "metadata": {},
   "outputs": [
    {
     "name": "stdout",
     "output_type": "stream",
     "text": [
      "[0, 0, 9, 16, 36, 64, 81, 100, 121, 144]\n"
     ]
    }
   ],
   "source": [
    "# Список чисел с помощью генератора последовательностей\n",
    "list_2 = [0 if k==0 or k==1 else k**2 for k in range(13) if not k in [2, 5, 7]]\n",
    "print(list_2)"
   ]
  },
  {
   "cell_type": "code",
   "execution_count": 25,
   "id": "31bdc65a-3f3d-4f8a-85ec-f6a2488e4904",
   "metadata": {},
   "outputs": [
    {
     "name": "stdout",
     "output_type": "stream",
     "text": [
      "(20, 19, 17, 16, 14, 13, 11, 10, 8, 7, 5, 4, 2, 1)\n"
     ]
    }
   ],
   "source": [
    "# Кортеж в обратном порядке\n",
    "print(tuple_[::-1])\n"
   ]
  },
  {
   "cell_type": "code",
   "execution_count": 29,
   "id": "8c5a67d7-f268-4620-83ce-8f743d349d46",
   "metadata": {},
   "outputs": [
    {
     "name": "stdout",
     "output_type": "stream",
     "text": [
      "[1, 2, 4, 8, 16, 32, 64, 128]\n"
     ]
    }
   ],
   "source": [
    "# Элементы списка выбираются через 1 наиная c 1\n",
    "print(list_1[::2])"
   ]
  },
  {
   "cell_type": "code",
   "execution_count": 30,
   "id": "7fc02179-0dcd-4b8e-a9de-fc1b6704e046",
   "metadata": {},
   "outputs": [
    {
     "name": "stdout",
     "output_type": "stream",
     "text": [
      "[1, 3, 9, 27, 81, 243, 729]\n"
     ]
    }
   ],
   "source": [
    "# Элементы списка выбираются через 1 начиная с 2\n",
    "print(list_1[1::2])"
   ]
  },
  {
   "cell_type": "markdown",
   "id": "c2ba339b-48e3-4770-a326-254bf1b3f3c2",
   "metadata": {},
   "source": [
    "#### Создание поверхностной копии"
   ]
  },
  {
   "cell_type": "code",
   "execution_count": 40,
   "id": "41e61408-4a7b-4eb3-8425-63538249e6b8",
   "metadata": {},
   "outputs": [
    {
     "name": "stdout",
     "output_type": "stream",
     "text": [
      "a -  [1, 3, [10, 20], 'Python', [40, 50]]\n",
      "a -  [1, 3, [10, 20], 'Python', [40, 50]]\n",
      "c -  [1, 3, [10, 20], 'Python', [40, 50]]\n",
      "a -  [[100, 200], 3, [10, 300], 'Java', 90]\n",
      "a -  [1, 3, [10, 300], 'Python', [40, 'C++']]\n",
      "c -  [1, 3, [10, 300], 'Python', [40, 'C++']]\n"
     ]
    }
   ],
   "source": [
    "a = [1, 3, [10, 20], 'Python', [40, 50]]\n",
    "b = a[:]\n",
    "c = a.copy()\n",
    "print('a - ',a)\n",
    "print('a - ',b)\n",
    "print('c - ',c)\n",
    "a[0] = [100, 200] # Изменяет первый элемент только списка \"а\"\n",
    "a[2][1] = 300 # Изменяет второй элемент списка, являющегося третьим элементом списков \"а\", \"b\", \"c\"\n",
    "a[3] = \"Java\" # Изменяет четвертый элемент только списка \"а\"\n",
    "a[4] = 90 # Изменяет пятый элемент только списка \"а\"\n",
    "c[4][1] = \"C++\" # Изменяет второй элемент списка, являющегося пятым элементом списков \"b\", \"c\"\n",
    "print('a - ',a)\n",
    "print('a - ',b)\n",
    "print('c - ',c)"
   ]
  },
  {
   "cell_type": "markdown",
   "id": "87529733-401a-40ac-b15e-555de9615b89",
   "metadata": {},
   "source": [
    "#### Создание полной копии"
   ]
  },
  {
   "cell_type": "code",
   "execution_count": 49,
   "id": "3e1b8dac-ccb6-4345-89f5-e489488c75d0",
   "metadata": {},
   "outputs": [
    {
     "name": "stdout",
     "output_type": "stream",
     "text": [
      "a -  [1, 3, [10, 20], 'Python', [40, 50]]\n",
      "b -  [1, 3, [10, 20], 'Python', [40, 50]]\n",
      "a -  [[100, 200], 3, [10, 300], 'Java', 90]\n",
      "b -  [1, 3, [10, 20], 'Python', [40, 50]]\n"
     ]
    }
   ],
   "source": [
    "from copy import deepcopy\n",
    "a = [1, 3, [10, 20], 'Python', [40, 50]]\n",
    "b = deepcopy(a)\n",
    "print('a - ', a)\n",
    "print('b - ', b)\n",
    "a[0] = [100, 200] \n",
    "a[2][1] = 300 # Изменяет второй элемент списка, являющегося третьим элементом списка \"а\"\"\n",
    "a[3] = \"Java\" # Изменяет четвертый элемент только списка \"а\"\n",
    "a[4] = 90 # Изменяет пятый элемент только списка \"а\"\n",
    "print('a - ', a)\n",
    "print('b - ', b)"
   ]
  },
  {
   "cell_type": "markdown",
   "id": "97b70367-792b-4d6f-be5e-f89465b6990e",
   "metadata": {},
   "source": [
    "## Функции и методы для работы со списками"
   ]
  },
  {
   "cell_type": "markdown",
   "id": "3bd21630-5905-4e6c-bc41-e3f526cfe3bd",
   "metadata": {},
   "source": [
    "#### insert() - применяется для вставки нового элемента в список, индекс нового элемента пердается в качества аргумента"
   ]
  },
  {
   "cell_type": "markdown",
   "id": "72f9043f-baa9-4f52-9494-10de536a0f50",
   "metadata": {},
   "source": [
    "#### append() - применяется для добавления в элемента в конец списка, добавляемый элемент указывается аргументом"
   ]
  },
  {
   "cell_type": "markdown",
   "id": "f862b448-2f7b-43b8-a515-c57fa1393b67",
   "metadata": {},
   "source": [
    "#### extend() - позволяет добавить в конец списка элементы другого списка, указанного в качестве аргумента"
   ]
  },
  {
   "cell_type": "markdown",
   "id": "2adeb3d4-233d-463c-8a70-5d026e19bcb1",
   "metadata": {},
   "source": [
    "#### pop() - позволяет удалить элемент из списка, индекс удаляемого элемента указывается в качестве аргумента"
   ]
  },
  {
   "cell_type": "markdown",
   "id": "e93dcfe7-cd6c-4c90-8d1f-20a4cd64b1e7",
   "metadata": {},
   "source": [
    "#### remove() - удаляет элемент списка. В качестве аргумента указывается значение элемента"
   ]
  },
  {
   "cell_type": "markdown",
   "id": "47bf6e3e-4589-40a1-aba7-4b0ed2530f1d",
   "metadata": {},
   "source": [
    "#### reverse() - меняет порядок списка на обратный, аргументы не указываются\n",
    "#### reversed() - меняет порядок списка на обратный, в качестве аргумента указывается список\n",
    "#### count() - определяет количество элементов в списке\n",
    "#### sort() - используется для сортировки списка. Меняет список на сортированный\n",
    "#### sorted() - используется для сортировки списка.  Не меняет список на сортированный"
   ]
  },
  {
   "cell_type": "code",
   "execution_count": 44,
   "id": "78dd5b41-7d75-42a5-8de8-bfae26bbf341",
   "metadata": {},
   "outputs": [
    {
     "name": "stdout",
     "output_type": "stream",
     "text": [
      "a.insert(1, 5) -  ['A', 5, 'B']\n",
      "a.insert(1, b) -  ['A', [1, 2, 5, 4, 7], 5, 'B']\n",
      "a.append('C') -  ['A', [1, 2, 5, 4, 7], 5, 'B', 'C']\n",
      "a.append(['D', 'F']) -  ['A', [1, 2, 5, 4, 7], 5, 'B', 'C', ['D', 'F']]\n",
      "a.extend(['D','F']) -  ['A', 'B', 'C', 'D', 'F']\n",
      "a.extend(b) -  ['A', 'B', 'C', 'D', 'F', 1, 2, 5, 4, 7]\n",
      "a.pop(3) -  ['A', 'B', 'C', 'F', 1, 2, 5, 4, 7]\n",
      "a.remove('B') -  ['A', 'C', 'F', 1, 2, 5, 4, 7]\n",
      "a.reverse() -  [7, 4, 5, 2, 1, 'F', 'C', 'A']\n",
      "reversed(a) -  [7, 4, 5, 2, 1, 'F', 'C', 'A']\n",
      "n = a.count('F') -  1\n",
      "sorted(b) -  [1, 2, 4, 5, 7]\n",
      "[1, 2, 5, 4, 7]\n",
      "b.sort() -  [1, 2, 4, 5, 7]\n",
      "[1, 2, 4, 5, 7]\n"
     ]
    }
   ],
   "source": [
    "a = ['A', 'B']\n",
    "b = [1, 2, 5, 4, 7]\n",
    "\n",
    "a.insert(1, 5)\n",
    "print(\"a.insert(1, 5) - \", a)\n",
    "a.insert(1, b)\n",
    "print(\"a.insert(1, b) - \", a)\n",
    "\n",
    "a.append('C')\n",
    "print(\"a.append('C') - \", a)\n",
    "a.append(['D', 'F'])\n",
    "print(\"a.append(['D', 'F']) - \", a)\n",
    "\n",
    "a = ['A', 'B']\n",
    "a.extend(['C', 'D','F'])\n",
    "print(\"a.extend(['D','F']) - \", a)\n",
    "a.extend(b)\n",
    "print(\"a.extend(b) - \", a)\n",
    "\n",
    "a.pop(3)\n",
    "print(\"a.pop(3) - \", a)\n",
    "\n",
    "a.remove('B')\n",
    "print(\"a.remove('B') - \", a)\n",
    "\n",
    "a.reverse()\n",
    "print(\"a.reverse() - \", a)\n",
    "\n",
    "reversed(a)\n",
    "print(\"reversed(a) - \", a)\n",
    "\n",
    "n = a.count('F')\n",
    "print(\"n = a.count('F') - \", n)\n",
    "\n",
    "print(\"sorted(b) - \", sorted(b))\n",
    "\n",
    "print(b)\n",
    "\n",
    "b.sort()\n",
    "print(\"b.sort() - \", b)\n",
    "print(b)\n",
    "\n",
    "\n"
   ]
  },
  {
   "cell_type": "markdown",
   "id": "5db86c98-1b07-4037-bedf-562ca41b3acb",
   "metadata": {},
   "source": [
    "## Задания для самостоятельной работы"
   ]
  },
  {
   "cell_type": "markdown",
   "id": "6d14809d-aab1-493b-8a6a-4e4e6c281e3b",
   "metadata": {},
   "source": [
    "#### № 1"
   ]
  },
  {
   "cell_type": "raw",
   "id": "77b1f287-0a5a-415c-abcc-20289d7cf203",
   "metadata": {},
   "source": [
    "Напишите программу, в которой на основе текста, введенного пользователем, создается кортеж.Затем на основе этого кортежа создается новый кортеж. В новый кортеж включаются равноотствоящие элементы, начиная с первого (с нулевым индексом). Например, в новый кортеж включаются элементы, отстоящие друг от друга на 3 позиции (0, 3, 9, ...). Расстояние между элементами вводится пользователем "
   ]
  },
  {
   "cell_type": "code",
   "execution_count": 48,
   "id": "193f99ef-2f87-40a7-9dd2-da9dfa210f3f",
   "metadata": {},
   "outputs": [
    {
     "name": "stdin",
     "output_type": "stream",
     "text": [
      "Введите текст  n;slkfjd;asdleuwroubfiufhgwioej[ghwt\n"
     ]
    },
    {
     "name": "stdout",
     "output_type": "stream",
     "text": [
      "('n', ';', 's', 'l', 'k', 'f', 'j', 'd', ';', 'a', 's', 'd', 'l', 'e', 'u', 'w', 'r', 'o', 'u', 'b', 'f', 'i', 'u', 'f', 'h', 'g', 'w', 'i', 'o', 'e', 'j', '[', 'g', 'h', 'w', 't')\n"
     ]
    },
    {
     "name": "stdin",
     "output_type": "stream",
     "text": [
      "Введите число :  3\n"
     ]
    },
    {
     "name": "stdout",
     "output_type": "stream",
     "text": [
      "('n', 'l', 'j', 'a', 'l', 'w', 'u', 'i', 'h', 'i', 'j', 'h')\n"
     ]
    }
   ],
   "source": [
    "text_ = input('Введите текст ')\n",
    "tuple_1 = tuple(text_)\n",
    "print(tuple_1)\n",
    "num = int(input('Введите число : '))\n",
    "tuple_2 = tuple_1[::num]\n",
    "print(tuple_2)"
   ]
  },
  {
   "cell_type": "markdown",
   "id": "3fe41e22-44f2-4667-af5b-eee93b0f7fdc",
   "metadata": {},
   "source": [
    "#### № 2"
   ]
  },
  {
   "cell_type": "raw",
   "id": "0fd4124c-1f62-452f-827a-8caf0a3fc967",
   "metadata": {},
   "source": [
    "Напишите программу, в которой пользователь вводит целое число, а программа формирует кортеж, который состоит из цифр, входящих в это число. Предложите способы создания кортежа, при котором цифры, формирующие число, включаются в кортеж в прямом и обратном порядке"
   ]
  },
  {
   "cell_type": "code",
   "execution_count": 67,
   "id": "2f2fd3d2-7abd-44a2-a161-10c8d94fba03",
   "metadata": {},
   "outputs": [
    {
     "name": "stdin",
     "output_type": "stream",
     "text": [
      "Введите число -  135241646\n"
     ]
    },
    {
     "name": "stdout",
     "output_type": "stream",
     "text": [
      "Прямой порядок -  (1, 3, 5, 2, 4, 1, 6, 4, 6)\n",
      "Обратный порядок -  (6, 4, 6, 1, 4, 2, 5, 3, 1)\n"
     ]
    }
   ],
   "source": [
    "num = int(input('Введите число - '))\n",
    "str_num = str(num)\n",
    "\n",
    "list_ = [int(i) for i in str_num]\n",
    "\n",
    "tuple_ = tuple(list_)\n",
    "tuple_revers = tuple(reversed(list_))\n",
    "\n",
    "print('Прямой порядок - ', tuple_)\n",
    "print('Обратный порядок - ', tuple_revers)"
   ]
  },
  {
   "cell_type": "markdown",
   "id": "b8a67b67-c8d6-46a9-b874-0f7a02548105",
   "metadata": {},
   "source": [
    "#### № 3"
   ]
  },
  {
   "cell_type": "raw",
   "id": "31e861cd-ab52-4ef9-b0a5-10caeea1e74e",
   "metadata": {},
   "source": [
    "Напишите программу, с функцией, которая создает вложенный список. Размеры списка указываются аргументами функции. Список заполняется случайными буквами"
   ]
  },
  {
   "cell_type": "code",
   "execution_count": 108,
   "id": "50f06b19-c14f-4476-b542-2837cda0673d",
   "metadata": {},
   "outputs": [
    {
     "name": "stdin",
     "output_type": "stream",
     "text": [
      "Введите количесто строк -  3\n",
      "Введите количество столбцов -  5\n"
     ]
    },
    {
     "name": "stdout",
     "output_type": "stream",
     "text": [
      "[['w', 'S', 'D', 'O', 'R'], ['I', 'E', 'M', 'H', 'c'], ['r', 'F', 'b', 'a', 'B']]\n",
      "w S D O R \n",
      "I E M H c \n",
      "r F b a B \n"
     ]
    }
   ],
   "source": [
    "import random\n",
    "import string\n",
    "\n",
    "def show(a):\n",
    "    for i in a:\n",
    "        for j in i:\n",
    "            print(j, end=\" \")\n",
    "        print()\n",
    "\n",
    "def list_symbs(n, m):\n",
    "    val = random.choice(string.ascii_letters) # Получение случайной буквы\n",
    "\n",
    "    res = [['' for j in range(m)] for i in range(n)] # Создание вложенного пустого списка размерностью n, m\n",
    "    for i in range(n):\n",
    "        for j in range(m):\n",
    "            res[i][j] = val # Заполнение списка\n",
    "            val = random.choice(string.ascii_letters)\n",
    "            \n",
    "    return res\n",
    "\n",
    "\n",
    "i = int(input('Введите количесто строк - '))\n",
    "j = int(input('Введите количество столбцов - '))\n",
    "a = list_symbs(i, j)\n",
    "\n",
    "print(a)\n",
    "show(a)"
   ]
  },
  {
   "cell_type": "markdown",
   "id": "c8191963-6aad-439b-aed3-85857fb06118",
   "metadata": {},
   "source": [
    "#### № 4"
   ]
  },
  {
   "cell_type": "raw",
   "id": "27930aa1-4b80-4476-9921-4d8ea60dd29d",
   "metadata": {},
   "source": [
    "Напишите программу в которой есть функция для заполнения вложенного списка. Список заполняется натуральными числами \"змейкой\" - сначала заполняется первая строка, потом последний столбец (сверху вниз) , последняя строка (слева направо) и так далее"
   ]
  },
  {
   "cell_type": "code",
   "execution_count": 76,
   "id": "303eb9d1-d9b3-40ee-90f2-fb5c2a7b6214",
   "metadata": {},
   "outputs": [
    {
     "name": "stdin",
     "output_type": "stream",
     "text": [
      "Введите количество строк -  8\n",
      "Введите количество столбцов -  9\n"
     ]
    },
    {
     "name": "stdout",
     "output_type": "stream",
     "text": [
      "11 12 13 14 15 16 17 18 19 \n",
      "40 41 42 43 44 45 46 47 20 \n",
      "39 62 63 64 65 66 67 48 21 \n",
      "38 61 76 77 78 79 68 49 22 \n",
      "37 60 75 82 81 80 69 50 23 \n",
      "36 59 74 73 72 71 70 51 24 \n",
      "35 58 57 56 55 54 53 52 25 \n",
      "34 33 32 31 30 29 28 27 26 \n"
     ]
    }
   ],
   "source": [
    "def show(a):\n",
    "    for i in a:\n",
    "        for j in i:\n",
    "            print(j, end=\" \")\n",
    "        print()\n",
    "\n",
    "\n",
    "def list_nums(n, m):\n",
    "    res = [[0 for j in range(m)] for i in range(n)]  # Создание вложенного нулевого списка размерностью n,\n",
    "    len_res = sum(len(sublist) for sublist in res) # Общее количество элементов\n",
    "    val = 10\n",
    "    min_col = 0   # минимальный индекс столбца \n",
    "    max_col = m-1 # максимальный индекс столбца\n",
    "    min_str = 0   # минимальный индекс строки\n",
    "    max_str = n-1 # максимальный индекс строки\n",
    "\n",
    "    while len_res > 0:\n",
    "\n",
    "        # Заполнение строки слева - направо\n",
    "        for col in range(min_col, max_col+1):\n",
    "            val += 1 # Изменение значения элемента\n",
    "            res[min_str][col] = val # Элемент строки\n",
    "            len_res -= 1\n",
    "        min_str += 1\n",
    "\n",
    "        # Заполнение столбца сверху вниз\n",
    "        for st in range(min_str, max_str+1):\n",
    "            val += 1\n",
    "            res[st][max_col] = val\n",
    "            len_res -= 1\n",
    "        max_col -= 1\n",
    "\n",
    "        # Заполнение строки справа - налево\n",
    "        for col in range(max_col, min_col-1, -1):\n",
    "            val += 1\n",
    "            res[max_str][col] = val\n",
    "            len_res -= 1\n",
    "        max_str -= 1\n",
    "\n",
    "        # Заполнение столбца снизу вверх\n",
    "        for st in range(max_str, min_str-1, -1):\n",
    "            val += 1\n",
    "            res[st][min_col] = val\n",
    "            len_res -= 1\n",
    "        min_col += 1\n",
    "\n",
    "    return res\n",
    "\n",
    "i = int(input('Введите количество строк - '))\n",
    "j = int(input('Введите количество столбцов - '))\n",
    "a = list_nums(i, j)\n",
    "\n",
    "show(a)\n"
   ]
  },
  {
   "cell_type": "markdown",
   "id": "9637ef4c-1a13-46ca-97b4-33b2e6e8235d",
   "metadata": {},
   "source": [
    "#### № 5"
   ]
  },
  {
   "cell_type": "raw",
   "id": "8b83c31a-71af-455c-9790-5c944a8504c6",
   "metadata": {},
   "source": [
    "Напишите программу, в которой создается  вложенный список из случайных чисел. В матрице, котора реализуется  данным вложением, удаляются строка и столбец. Номер строки и номер столбца вводятся пользователем\n",
    "\n"
   ]
  },
  {
   "cell_type": "code",
   "execution_count": 146,
   "id": "d2017cd4-9732-4928-8eb5-6889763b9ec9",
   "metadata": {},
   "outputs": [
    {
     "name": "stdout",
     "output_type": "stream",
     "text": [
      "42 8 29 87 78 10 \n",
      "45 93 30 21 86 82 \n",
      "27 90 48 29 29 67 \n",
      "21 24 68 72 75 13 \n",
      "61 94 49 21 15 97 \n",
      "13 73 55 59 66 18 \n"
     ]
    },
    {
     "name": "stdin",
     "output_type": "stream",
     "text": [
      "Введите номер строки -  5\n",
      "Введите номер столбца -  4\n"
     ]
    },
    {
     "name": "stdout",
     "output_type": "stream",
     "text": [
      "\n",
      "Удаление строки\n",
      "42 8 29 87 78 10 \n",
      "45 93 30 21 86 82 \n",
      "27 90 48 29 29 67 \n",
      "21 24 68 72 75 13 \n",
      "61 94 49 21 15 97 \n",
      "\n",
      "Удаление столбца\n",
      "42 8 29 87 10 \n",
      "45 93 30 21 82 \n",
      "27 90 48 29 67 \n",
      "21 24 68 72 13 \n",
      "61 94 49 21 97 \n"
     ]
    }
   ],
   "source": [
    "from random import *\n",
    "\n",
    "def show(a):\n",
    "    for i in a:\n",
    "        for j in i:\n",
    "            print(j, end=\" \")\n",
    "        print()\n",
    "\n",
    "res = [[randint(0, 100) for j in range(6)] for i in range(6)] # Создание вложенного списка случайных чисел от 0 до 100\n",
    "\n",
    "show(res)\n",
    "a = int(input('Введите номер строки - '))\n",
    "b = int(input('Введите номер столбца - '))\n",
    "\n",
    "print()\n",
    "print('Удаление строки')\n",
    "del(res[a])\n",
    "show(res)\n",
    "print()\n",
    "print('Удаление столбца')\n",
    "for i in range(len(res)):\n",
    "    del(res[i][b])\n",
    "show(res)\n"
   ]
  },
  {
   "cell_type": "markdown",
   "id": "914dd0c4-caca-4db4-8ac4-512be7722470",
   "metadata": {},
   "source": [
    "#### №6"
   ]
  },
  {
   "cell_type": "raw",
   "id": "080ade18-0829-41ef-8f22-bf4cd1a3aef8",
   "metadata": {},
   "source": [
    "Напишите программу, в которой выполняется сотрироовка списка методом пузырька. \n",
    "Метод такой, последовательно сравниваются значения двух соседних элементов, и если значение элемента слева больше чем справа, они меняются местами. За один полный перебор элемнетов в списке, элемент с самым большим  значением окахывается самым последним  в списке. За второй перебор предпоследним оказывается элемент со вторым по величине значением и так далее"
   ]
  },
  {
   "cell_type": "code",
   "execution_count": 170,
   "id": "8a13ed72-5ef5-43eb-afa3-801832ca4b18",
   "metadata": {},
   "outputs": [
    {
     "name": "stdout",
     "output_type": "stream",
     "text": [
      "Начальный список\n",
      "[5, 7, 9, 2, 1, 4, 8, 3, 6, 0]\n",
      "\n",
      "Конечный список\n",
      "[0, 1, 2, 3, 4, 5, 6, 7, 8, 9]\n"
     ]
    }
   ],
   "source": [
    "list_ = [5, 7, 9, 2, 1, 4, 8, 3, 6, 0]\n",
    "max_ = list_[0]\n",
    "list_out =[]\n",
    "\n",
    "print('Начальный список')\n",
    "print(list_)\n",
    "for i in range(len(list_)-1, 0, -1):\n",
    "    for j in range(i):\n",
    "        if list_[j] > list_[j+1]:\n",
    "            list_[j], list_[j+1] = list_[j+1], list_[j]\n",
    "        \n",
    "        \n",
    "print()\n",
    "print('Конечный список')\n",
    "print(list_)\n",
    "\n"
   ]
  },
  {
   "cell_type": "markdown",
   "id": "c879620c-ef5c-45f9-9f25-72f7e58cb661",
   "metadata": {},
   "source": [
    "#### №7"
   ]
  },
  {
   "cell_type": "raw",
   "id": "8af29ef6-5545-4199-a288-fcaeb865904d",
   "metadata": {},
   "source": [
    "Напишите программу с функцией, которая для списка, переданного аргументом, возвращает списко из двух элементов: значение наибольшего элемента в списке и индекс этого элемента (если таких элементов несколько, индекс певого элемента)"
   ]
  },
  {
   "cell_type": "code",
   "execution_count": 6,
   "id": "c5b336b5-bf19-4e9c-888a-8bac7943c0d3",
   "metadata": {},
   "outputs": [
    {
     "name": "stdout",
     "output_type": "stream",
     "text": [
      "[7, 2]\n"
     ]
    }
   ],
   "source": [
    "def search_(data):\n",
    "    max_ = max(data)\n",
    "    index_max = data.index(max_)\n",
    "    return [max_, index_max]\n",
    "\n",
    "data = [1, 2, 7, 3, 4, 5 ,6]\n",
    "print(search_(data))"
   ]
  },
  {
   "cell_type": "markdown",
   "id": "6af16b0e-86f4-4e32-9556-aad2a91bee38",
   "metadata": {},
   "source": [
    "#### № 8"
   ]
  },
  {
   "cell_type": "markdown",
   "id": "ac8e8420-2b7f-4819-b81c-52bdc3b7aa9c",
   "metadata": {},
   "source": [
    "Напишите программу, в которой создается числовой список. Список заполняется случайными числами. Затем элементы с четными индексами сортируются в порябке возрастания, а элементы с нечетными индексами в порядке убывания."
   ]
  },
  {
   "cell_type": "code",
   "execution_count": 31,
   "id": "0f0c923c-cd4a-4038-848b-bbf714335019",
   "metadata": {},
   "outputs": [
    {
     "name": "stdout",
     "output_type": "stream",
     "text": [
      "Начальный список\n",
      "[10, 0, 1, 0, 2, 8, 6, 0, 3, 6]\n",
      "Вариант 1\n",
      "Сортированный список\n",
      "[1, 8, 2, 6, 3, 0, 6, 0, 10, 0]\n",
      "Вариант 2\n",
      "Сортированный список\n",
      "[1, 8, 2, 6, 3, 0, 6, 0, 10, 0]\n"
     ]
    }
   ],
   "source": [
    "from random import *\n",
    "list_num = [randint(0, 10) for i in range(10)]\n",
    "\n",
    "print('Начальный список')\n",
    "print(list_num)\n",
    "\n",
    "# Вариант 1\n",
    "print('Вариант 1')\n",
    "even_num = sorted(list_num[i] for i in range(len(list_num)) if i%2==0)\n",
    "odd_num = sorted((list_num[i] for i in range(len(list_num)) if i%2!=0), reverse=True)\n",
    "\n",
    "result = [even_num.pop(0) if i % 2 == 0 else odd_num.pop(0) for i in range(len(list_num))]\n",
    "print('Сортированный список')\n",
    "print(result)\n",
    "\n",
    "# Вариант 2\n",
    "print('Вариант 2')\n",
    "even_num = sorted(list_num[::2])\n",
    "odd_num = sorted(list_num[1::2], reverse=True)\n",
    "result = [even_num.pop(0) if i % 2 == 0 else odd_num.pop(0) for i in range(len(list_num))]\n",
    "print('Сортированный список')\n",
    "print(result)\n",
    "        "
   ]
  },
  {
   "cell_type": "markdown",
   "id": "4c781865-3e9c-4dcf-a0b2-3a1425223086",
   "metadata": {},
   "source": [
    "#### № 9"
   ]
  },
  {
   "cell_type": "raw",
   "id": "056a0e9a-5e55-44c6-94d4-ad20e06872fb",
   "metadata": {},
   "source": [
    "Напишите программу, в которой создается числовой список. Список заполняется случайными числами. Затем между каждой парой  элементов этого списка вставляется новый элемент, равный сумме значений соседних элементов"
   ]
  },
  {
   "cell_type": "code",
   "execution_count": 70,
   "id": "cf272ec0-7a99-4e70-91c7-8ed8cb31a83e",
   "metadata": {},
   "outputs": [
    {
     "name": "stdout",
     "output_type": "stream",
     "text": [
      "Начальный список\n",
      "[1, 6, 16, 6, 8, 13, 16, 5, 17, 18]\n",
      "список сумм элементов\n",
      "[7, 22, 22, 14, 21, 29, 21, 22, 35]\n",
      "Конечный список\n",
      "Вариант 1\n",
      "[1, 7, 6, 22, 16, 22, 6, 14, 8, 21, 13, 29, 16, 21, 5, 22, 17, 35, 18]\n",
      "Вариант 2\n",
      "[1, 7, 6, 22, 16, 22, 6, 14, 8, 21, 13, 29, 16, 21, 5, 22, 17, 35, 18]\n"
     ]
    }
   ],
   "source": [
    "from random import *\n",
    "list_num = [randint(0, 20) for i in range(10)]\n",
    "print('Начальный список')\n",
    "print (list_num)\n",
    "list_sum = [list_num[i] + list_num[i+1] for i in range(len(list_num)-1)]\n",
    "print('список сумм элементов')\n",
    "print(list_sum)\n",
    "# Вариант 1\n",
    "for i in range(len(list_num)-2, -1, -1):\n",
    "    list_num.insert(i+1, list_num[i] + list_num[i+1])\n",
    "print('Конечный список')\n",
    "print('Вариант 1')\n",
    "print(list_num)\n",
    "\n",
    "# Вариант 2\n",
    "for i in range(len(list_1)):\n",
    "    result.insert(i + n, list_num[i])\n",
    "    result.insert(i + n + 1, list_sum[i])\n",
    "    n += 1\n",
    "print('Вариант 2')\n",
    "\n",
    "print(list_num)"
   ]
  },
  {
   "cell_type": "markdown",
   "id": "98e250bd-d89b-4c52-bbca-4d4ebb3a63d0",
   "metadata": {},
   "source": [
    "#### №10"
   ]
  },
  {
   "cell_type": "raw",
   "id": "df518016-faea-4cc8-9ee4-3ff9086ac4b5",
   "metadata": {},
   "source": [
    "Напишите программу, в которой создается два списка одинакового размера. На основе этих списков поочередной вставкой элементов из первого и второго списка формируется новый список"
   ]
  },
  {
   "cell_type": "code",
   "execution_count": 68,
   "id": "a251e216-3cb9-4b9e-99d0-755442fd601d",
   "metadata": {},
   "outputs": [
    {
     "name": "stdout",
     "output_type": "stream",
     "text": [
      "list_1 -  ['A', 'B', 'C', 'D']\n",
      "list_2 -  [1, 2, 3, 4]\n",
      "result -  ['A', 1, 'B', 2, 'C', 3, 'D', 4]\n"
     ]
    }
   ],
   "source": [
    "list_1 = ['A', 'B', 'C', 'D']\n",
    "list_2 = [1, 2, 3, 4]\n",
    "result = []\n",
    "n = 0\n",
    "for i in range(len(list_1)):\n",
    "    result.insert(i+n, list_1[i])\n",
    "    result.insert(i + n + 1, list_2[i])\n",
    "    n +=1\n",
    "\n",
    "print('list_1 - ', list_1)\n",
    "print('list_2 - ', list_2)\n",
    "print('result - ', result)"
   ]
  },
  {
   "cell_type": "code",
   "execution_count": null,
   "id": "dcefbba6-dc80-4421-96ab-3392766763b0",
   "metadata": {},
   "outputs": [],
   "source": []
  }
 ],
 "metadata": {
  "kernelspec": {
   "display_name": "Python 3 (ipykernel)",
   "language": "python",
   "name": "python3"
  },
  "language_info": {
   "codemirror_mode": {
    "name": "ipython",
    "version": 3
   },
   "file_extension": ".py",
   "mimetype": "text/x-python",
   "name": "python",
   "nbconvert_exporter": "python",
   "pygments_lexer": "ipython3",
   "version": "3.11.2"
  }
 },
 "nbformat": 4,
 "nbformat_minor": 5
}
