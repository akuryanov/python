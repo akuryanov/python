{
 "cells": [
  {
   "cell_type": "markdown",
   "id": "2a2d75d6-8a14-4b0d-b6ea-6de0bfdbf36c",
   "metadata": {},
   "source": [
    "# Глава 5. Работа с текстом"
   ]
  },
  {
   "cell_type": "markdown",
   "id": "a18b077f-3b09-49e1-8b2a-37d9a78337aa",
   "metadata": {},
   "source": [
    "## Текстовые литералы"
   ]
  },
  {
   "cell_type": "code",
   "execution_count": 3,
   "id": "d8f920b4-6f71-4a5c-bc45-f19ca886a86c",
   "metadata": {},
   "outputs": [
    {
     "name": "stdout",
     "output_type": "stream",
     "text": [
      "Язык \"Pythoin\" отличается от языка \"Java\".\n"
     ]
    }
   ],
   "source": [
    "a = 'Язык \"Pythoin\" отличается от языка \\\"Java\\\".' # Применение двойных кавычек при выводе сообщения\n",
    "print(a)"
   ]
  },
  {
   "cell_type": "code",
   "execution_count": 4,
   "id": "568018e5-ed81-4eef-9881-42d7df0318f3",
   "metadata": {},
   "outputs": [
    {
     "name": "stdout",
     "output_type": "stream",
     "text": [
      "Язык 'Pythoin' отличается от языка 'C++'.\n"
     ]
    }
   ],
   "source": [
    "a = 'Язык \\'Pythoin\\' отличается от языка \\'C++\\'.'# Применение одинарный кавычек при выводе сообщения\n",
    "print(a)"
   ]
  },
  {
   "cell_type": "code",
   "execution_count": 7,
   "id": "36b96850-7c88-4dee-99eb-63d1b7c8939e",
   "metadata": {},
   "outputs": [
    {
     "name": "stdout",
     "output_type": "stream",
     "text": [
      "Язык Python - простой и понятный\n",
      "Язык 'Python' - простой и понятный\n"
     ]
    }
   ],
   "source": [
    "name = 'Python'\n",
    "a = f'Язык {name} - простой и понятный'\n",
    "print(a)\n",
    "a = f'Язык {name!r} - простой и понятный'\n",
    "print(a)"
   ]
  },
  {
   "cell_type": "markdown",
   "id": "f46894d9-90ec-4486-8920-89f1d75ec5db",
   "metadata": {},
   "source": [
    "#### Создание форматированного текста"
   ]
  },
  {
   "cell_type": "code",
   "execution_count": 9,
   "id": "a7739905-392a-48f8-9d71-e0975ed6e131",
   "metadata": {},
   "outputs": [
    {
     "name": "stdout",
     "output_type": "stream",
     "text": [
      "Число 123, текст Python, и снова число 321\n"
     ]
    }
   ],
   "source": [
    "a = 'Число {}, текст {}, и снова число {}'\n",
    "txt = a.format(123, 'Python', 321)\n",
    "print(txt)"
   ]
  },
  {
   "cell_type": "markdown",
   "id": "e31f1431-f030-497c-be25-362105eff773",
   "metadata": {},
   "source": [
    "b = '{0:_{2}{1}s}'\n",
    "num = 6\n",
    "for i in range(1, num+1):\n",
    "    print(b.format('*', i,'>'), end='')\n",
    "    print(' '*(2*(num-i)), end='')\n",
    "    print(b.format('*', i,'<'))"
   ]
  },
  {
   "cell_type": "markdown",
   "id": "59cf3f09-eda0-48a3-85ab-eda0fd13963e",
   "metadata": {},
   "source": [
    "## Основные операции с текстом"
   ]
  },
  {
   "cell_type": "code",
   "execution_count": 6,
   "id": "5be46412-1fb1-406b-833b-fe379e0cc6fe",
   "metadata": {},
   "outputs": [
    {
     "name": "stdout",
     "output_type": "stream",
     "text": [
      "Начальный текст:  Hello World\n",
      "Текст в обратном порядке:  dlroW olleH\n",
      "Код символа H = 72\n",
      "Код символа e = 101\n",
      "Код символа l = 108\n",
      "Код символа l = 108\n",
      "Код символа o = 111\n",
      "Код символа   = 32\n",
      "Код символа W = 87\n",
      "Код символа o = 111\n",
      "Код символа r = 114\n",
      "Код символа l = 108\n",
      "Код символа d = 100\n"
     ]
    }
   ],
   "source": [
    "txt = 'Hello World'\n",
    "print('Начальный текст: ',txt)\n",
    "a = txt[::-1]\n",
    "print('Текст в обратном порядке: ',a)\n",
    "for i in txt:\n",
    "    print(f'Код символа {i} = {ord(i)}')"
   ]
  },
  {
   "cell_type": "markdown",
   "id": "2fe2d550-b3e7-4049-8cfa-314899537d0f",
   "metadata": {},
   "source": [
    "## Методы работы с текстом"
   ]
  },
  {
   "cell_type": "markdown",
   "id": "9e9b365f-a9c4-4c6c-853e-c4b3d73a8f4a",
   "metadata": {},
   "source": [
    "##### upper() - Переводит все буквы текста в большие\n",
    "##### lower() - Переводит все буквы текста в маленькие\n",
    "##### swapcase() - Меняет большие буквы на маленькие и наоборот\n",
    "##### title() - Каждое слово текста начинается с большой буквы\n",
    "##### capitalize() - В тексте первая буква - большая"
   ]
  },
  {
   "cell_type": "code",
   "execution_count": 16,
   "id": "a01ebae0-474b-4b35-96ef-45f25845a97a",
   "metadata": {},
   "outputs": [
    {
     "name": "stdout",
     "output_type": "stream",
     "text": [
      "Язык Python проще чем язык JAVA\n",
      "txt.upper() - \t\t ЯЗЫК PYTHON ПРОЩЕ ЧЕМ ЯЗЫК JAVA\n",
      "txt.lower() - \t\t язык python проще чем язык java\n",
      "txt.swapcase()\t\t яЗЫК pYTHON ПРОЩЕ ЧЕМ ЯЗЫК java\n",
      "txt.title() - \t\t Язык Python Проще Чем Язык Java\n",
      "txt.capitalize() - \t Язык python проще чем язык java\n"
     ]
    }
   ],
   "source": [
    "txt = 'Язык Python проще чем язык JAVA'\n",
    "print(txt)\n",
    "print('txt.upper() - \\t\\t', txt.upper())\n",
    "print('txt.lower() - \\t\\t',txt.lower())\n",
    "print('txt.swapcase()\\t\\t', txt.swapcase())\n",
    "print('txt.title() - \\t\\t',txt.title())\n",
    "print('txt.capitalize() - \\t',txt.capitalize())"
   ]
  },
  {
   "cell_type": "markdown",
   "id": "49b5020b-d2cd-4afb-9a21-1ea071a9ed73",
   "metadata": {},
   "source": [
    "### Методы, позволяющие проверить текст на сооветствие тем или иным критериям (такие метолды начинаются со слова is)"
   ]
  },
  {
   "cell_type": "markdown",
   "id": "2d3e4bfe-35bd-492c-9561-46d836de1793",
   "metadata": {},
   "source": [
    "##### isalnum() - возвращает True если текст непустой и состоит из букв и/или цифр. В противном случае возвращает False\n",
    "##### isalpha() - возвращает True если текст непустой и состоит из букв. В противном случае возвращает False\n",
    "##### isascii() - возвращает True если текст непустой и состоит из символов кодовой таблицы ASCII. В противном случае возвращает False\n",
    "##### isadecimal() - возвращает True если текст непустой и состоит из десятичных цифр. В противном случае возвращает False\n",
    "##### isdigit() - возвращает True если текст непустой и состоит из цифр. В противном случае возвращает False\n",
    "##### isdenitifier() возвращает True если текст содержит название зарегистрированного в языке идентификатора или ключевого слова. В противном случае возвращает False\n",
    "##### islower() - возвращает True если текст непустой и состоит из маленьких букв. В противном случае возвращает False\n",
    "##### isupper() - возвращает True если текст непустой и состоит из больших букв. В противном случае возвращает False\n",
    "##### isnumeric() - возвращает True если текст непустой и состоит из числовых символов. В противном случае возвращает False\n",
    "##### isprintable() - возвращает True если текст непустой и состоит из печатный (тех, которые отьображаются в области вывода) символов. В противном случае возвращает False\n",
    "##### isspace() - возвращает True если текст непустой и состоит из пробелов. В противном случае возвращает False\n",
    "##### isttitle() -возвращает True если текст непустой и каждое слово начинается с большой буквы. В противном случае возвращает False"
   ]
  },
  {
   "cell_type": "code",
   "execution_count": 36,
   "id": "89511fa0-b859-410d-820c-701ded8f61d5",
   "metadata": {},
   "outputs": [
    {
     "name": "stdout",
     "output_type": "stream",
     "text": [
      "isalnum() - Методы123\t-\tTrue\n",
      "isalnum() - Методы 123\t-\tFalse\n",
      "isalpha() - Методы\t-\tTrue\n",
      "isalpha() - Методы 123\t-\tFalse\n",
      "isascii() - Методы\t-\tFalse\n",
      "islower() - методы 123\t-\tTrue\n"
     ]
    }
   ],
   "source": [
    "txt_1 = 'Методы123'\n",
    "txt_2 = 'Методы 123'\n",
    "print(f'isalnum() - {txt_1}\\t-\\t{txt_1.isalnum()}')\n",
    "print(f'isalnum() - {txt_2}\\t-\\t{txt_2.isalnum()}')\n",
    "txt_1 = 'Методы'\n",
    "txt_2 = 'Методы 123'\n",
    "print(f'isalpha() - {txt_1}\\t-\\t{txt_1.isalpha()}')\n",
    "print(f'isalpha() - {txt_2}\\t-\\t{txt_2.isalpha()}')\n",
    "txt_1 = 'Методы'\n",
    "txt_2 = 'методы 123'\n",
    "print(f'isascii() - {txt_1}\\t-\\t{txt_1.isascii()}')\n",
    "print(f'islower() - {txt_2}\\t-\\t{txt_2.islower()}')\n"
   ]
  },
  {
   "cell_type": "markdown",
   "id": "b582d8c0-7815-4c3a-ab30-ae47bcadf338",
   "metadata": {},
   "source": [
    "### Методы поиска и замены"
   ]
  },
  {
   "cell_type": "markdown",
   "id": "a496431d-b511-46c5-8230-90e8494a0778",
   "metadata": {},
   "source": [
    "##### find(), index() - возвращают в качестве результата инденкс первого вхождения подстроки в текст\n",
    "##### rfind(), rindex()- возвращают в качестве результата инденкс последнего вхождения подстроки в текст\n",
    "###### Искомая подстрока указывается в качестве аргумента. \n",
    "###### Если подстроки в тексте нет то метод find() возвращает значение -1, а метод index() генерирует исключение ValueError\n",
    "##### count() - используется для определения количества вхождений подстроки или символа в текст из которого вызывается метод.\n",
    "##### endwiht() - позволяет определить, заканчивается ли текст,  из которого вызывается метод, подстрокой, переданной аргументом\n",
    "##### startwith() - позволяет определить, начинается ли текст,  из которого вызывается метод, подстрокой, переданной аргументом\n",
    "##### expandtabs() - позволяет на основе исходного текста получить текст где все инструкции табуляции заменены на пробелы\n",
    "##### strip() - позволяет удалять симолы в начале и в конце текста\n",
    "##### lstrip() - позволяет удалять симолы в начале текста\n",
    "##### rstrip() - позволяет удалять симолы в конце текста\n",
    "##### replace() - выеполняет замену одной подстроки на другую"
   ]
  },
  {
   "cell_type": "markdown",
   "id": "dbe82fd1-66f3-4d89-ae3f-b5b73a56fd5d",
   "metadata": {},
   "source": [
    "#### Подсчет символов в тексте"
   ]
  },
  {
   "cell_type": "code",
   "execution_count": 40,
   "id": "b9778736-e9b0-4d66-9d4d-cc8d2199c71c",
   "metadata": {},
   "outputs": [
    {
     "name": "stdin",
     "output_type": "stream",
     "text": [
      "Введите текст:  dka;jkdvna;dfl\n",
      "Какой символ нужно найти:  a\n"
     ]
    },
    {
     "name": "stdout",
     "output_type": "stream",
     "text": [
      "В тексте 'dka;jkdvna;dfl' найдено 2 букв a\n"
     ]
    }
   ],
   "source": [
    "txt = input('Введите текст: ')\n",
    "symb = input('Какой символ нужно найти: ')\n",
    "num = txt.count(symb)\n",
    "if num == 0:\n",
    "    print('НЕТ такой буквы')\n",
    "else:\n",
    "    print(f'В тексте \\'{txt}\\' найдено {num} букв {symb}')"
   ]
  },
  {
   "cell_type": "markdown",
   "id": "9d353047-5b1c-4a10-9b94-644f6edc4545",
   "metadata": {},
   "source": [
    "#### Определение позиций символа в тексте"
   ]
  },
  {
   "cell_type": "code",
   "execution_count": 75,
   "id": "c423ca4b-9bc3-49b0-b12e-3e998aa95859",
   "metadata": {},
   "outputs": [
    {
     "name": "stdin",
     "output_type": "stream",
     "text": [
      "Введите текст:  asdfgasdfassfd\n",
      "Какой символ нужно найти:  s\n"
     ]
    },
    {
     "name": "stdout",
     "output_type": "stream",
     "text": [
      "Позиции  символа s в тексте - [1, 6, 10, 11]\n"
     ]
    }
   ],
   "source": [
    "txt = input('Введите текст: ')\n",
    "symb = input('Какой символ нужно найти: ')\n",
    "num = txt.find(symb) # Находим первую порзицию искомого символа в тексте\n",
    "list_index_symb = []\n",
    "while num != -1: # Если символа нет, num = txt.find() возвращает значение -1\n",
    "    list_index_symb.append(num)\n",
    "    num = txt.find(symb, num+1) # Продолжает поиск со следующей после найденного символа позиции\n",
    "\n",
    "if len(list_index_symb) == 0:\n",
    "    print('Такого символа нет в тексте')\n",
    "else:\n",
    "    print(f'Позиции  символа {symb} в тексте - {list_index_symb}')"
   ]
  },
  {
   "cell_type": "markdown",
   "id": "803e11ab-d8b2-4f12-800e-46d9d6009c87",
   "metadata": {},
   "source": [
    "#### Замена подстрок в тексте"
   ]
  },
  {
   "cell_type": "code",
   "execution_count": 65,
   "id": "2427ea25-51f3-424a-a3cf-2161bd36cd31",
   "metadata": {},
   "outputs": [
    {
     "name": "stdout",
     "output_type": "stream",
     "text": [
      "МЫ изучаем язык PYTHON\n",
      "\n",
      "МЫ_*_изучаем_*_язык_*_PYTHON\n",
      "\n",
      "МЫ\n",
      "изучаем\n",
      "язык\n",
      "PYTHON\n",
      "\n",
      "МЫ не изучаем язык JAVA\n",
      "\n",
      "МЫ изучаем PYTHON\n"
     ]
    }
   ],
   "source": [
    "txt = 'МЫ изучаем язык PYTHON'\n",
    "print(txt)\n",
    "print()\n",
    "txt_1 = txt.replace(' ', '_*_')\n",
    "print(txt_1)\n",
    "print()\n",
    "txt_1 = txt.replace(' ', '\\n') # Каждоне слово в новой строки\n",
    "print(txt_1)\n",
    "print()\n",
    "txt_1 = txt.replace(' ', ' не ', 1).replace('PYTHON', 'JAVA') # Замена первого пробела на \"НЕ\" и \"PYTHON\" на \"JAVA\" \n",
    "print(txt_1)\n",
    "print()\n",
    "txt_1 = txt.replace('язык ', '') # Удажение слова \"язык \"\n",
    "print(txt_1)"
   ]
  },
  {
   "cell_type": "markdown",
   "id": "f7f6eeb0-748e-470c-a013-1f1682359383",
   "metadata": {},
   "source": [
    "### Методы форматирования текста"
   ]
  },
  {
   "cell_type": "markdown",
   "id": "893bbde0-9a99-4d1e-8a6f-5202bcbed616",
   "metadata": {},
   "source": [
    "##### join() - позволяет создать строку на основе итерируемой последовательности (например, списка)\n",
    "###### \"<Разделитель>\".join(<Список>)\n",
    "##### partition() - позволяет разбить исходный тектс на три части. Результатом метод возвращает кортеж, который состоит из трех текстовых строк: текст до разделителя, разделитель, текст после разделителя. Разделитель первый раз встречается в тексте\n",
    "##### rpartition() - разделитель последний раз встречается в тексте\n",
    "##### split() - возвращает список слов из текста\n",
    "##### splitlines() - возвращает список подстрок\n",
    "##### center() - выравнивание по центру\n",
    "##### ljust() - выравнивание по левому краю\n",
    "##### rjust() - выравнивание по правому краю"
   ]
  },
  {
   "cell_type": "code",
   "execution_count": 109,
   "id": "23c4b493-3f93-4d62-9c40-6cc7f233506b",
   "metadata": {},
   "outputs": [
    {
     "name": "stdout",
     "output_type": "stream",
     "text": [
      "\"_\".join(lst)\n",
      "ADB_SDF_BNM\n",
      "\n",
      "str_.split(\"_\")\n",
      "['ADB', 'SDF', 'BNM']\n",
      "\n",
      "\"\".join(lst)\n",
      "ADBSDFBNM\n",
      "\n",
      "str_.split()\n",
      "['ADBSDFBNM']\n",
      "\n",
      "list(str_)\n",
      "['A', 'D', 'B', 'S', 'D', 'F', 'B', 'N', 'M']\n",
      "\n",
      "txt.splitlines()\n",
      "[' Прошли года,', 'И в свете лет,', 'Есть мудрость', 'А вот счастья нет']\n",
      "\n",
      "txt.partition(separator)\n",
      "('aaaaaaa', 'DDDDD', 'ssssss')\n",
      "\n",
      "Выравнивание текста\n",
      "------------PYTHON------------\n",
      "            PYTHON            \n",
      "PYTHON************************\n",
      "________________________PYTHON\n"
     ]
    }
   ],
   "source": [
    "lst = ['ADB', 'SDF', 'BNM']\n",
    "print('\"_\".join(lst)')\n",
    "str_ = \"_\".join(lst)\n",
    "print(str_)\n",
    "print()\n",
    "print('str_.split(\"_\")')\n",
    "lst_1 = str_.split(\"_\")\n",
    "print(lst_1)\n",
    "print()\n",
    "print('\"\".join(lst)')\n",
    "str_ = \"\".join(lst) \n",
    "print(str_)\n",
    "print()\n",
    "print('str_.split()')\n",
    "lst_1 = str_.split()\n",
    "print(lst_1)\n",
    "print()\n",
    "print('list(str_)')\n",
    "lst_1 = list(str_)\n",
    "print(lst_1)\n",
    "print()\n",
    "txt = ''' Прошли года,\n",
    "И в свете лет,\n",
    "Есть мудрость\n",
    "А вот счастья нет\n",
    "'''\n",
    "print('txt.splitlines()')\n",
    "print(txt.splitlines())\n",
    "print()\n",
    "txt = 'aaaaaaaDDDDDssssss'\n",
    "separator = 'DDDDD'\n",
    "print('txt.partition(separator)')\n",
    "print(txt.partition(separator))\n",
    "print()\n",
    "\n",
    "print('Выравнивание текста')\n",
    "num = 30 \n",
    "txt = 'PYTHON'\n",
    "print(txt.center(num, '-')) # Указывается ширина заполнения и заполнитель\n",
    "print(txt.center(num))\n",
    "print(txt.ljust(num, '*'))\n",
    "print(txt.rjust(num, '_'))"
   ]
  },
  {
   "cell_type": "code",
   "execution_count": null,
   "id": "a03a5227-6208-4bd3-93a9-5a71674ecfa9",
   "metadata": {},
   "outputs": [],
   "source": [
    "## Примеры работы с текстом"
   ]
  }
 ],
 "metadata": {
  "kernelspec": {
   "display_name": "Python 3 (ipykernel)",
   "language": "python",
   "name": "python3"
  },
  "language_info": {
   "codemirror_mode": {
    "name": "ipython",
    "version": 3
   },
   "file_extension": ".py",
   "mimetype": "text/x-python",
   "name": "python",
   "nbconvert_exporter": "python",
   "pygments_lexer": "ipython3",
   "version": "3.11.2"
  }
 },
 "nbformat": 4,
 "nbformat_minor": 5
}
