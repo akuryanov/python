{
 "cells": [
  {
   "cell_type": "markdown",
   "id": "2a2d75d6-8a14-4b0d-b6ea-6de0bfdbf36c",
   "metadata": {},
   "source": [
    "# Глава 5. Работа с текстом"
   ]
  },
  {
   "cell_type": "markdown",
   "id": "a18b077f-3b09-49e1-8b2a-37d9a78337aa",
   "metadata": {},
   "source": [
    "## Текстовые литералы"
   ]
  },
  {
   "cell_type": "code",
   "execution_count": 3,
   "id": "d8f920b4-6f71-4a5c-bc45-f19ca886a86c",
   "metadata": {},
   "outputs": [
    {
     "name": "stdout",
     "output_type": "stream",
     "text": [
      "Язык \"Pythoin\" отличается от языка \"Java\".\n"
     ]
    }
   ],
   "source": [
    "a = 'Язык \"Pythoin\" отличается от языка \\\"Java\\\".' # Применение двойных кавычек при выводе сообщения\n",
    "print(a)"
   ]
  },
  {
   "cell_type": "code",
   "execution_count": 4,
   "id": "568018e5-ed81-4eef-9881-42d7df0318f3",
   "metadata": {},
   "outputs": [
    {
     "name": "stdout",
     "output_type": "stream",
     "text": [
      "Язык 'Pythoin' отличается от языка 'C++'.\n"
     ]
    }
   ],
   "source": [
    "a = 'Язык \\'Pythoin\\' отличается от языка \\'C++\\'.'# Применение одинарный кавычек при выводе сообщения\n",
    "print(a)"
   ]
  },
  {
   "cell_type": "code",
   "execution_count": 7,
   "id": "36b96850-7c88-4dee-99eb-63d1b7c8939e",
   "metadata": {},
   "outputs": [
    {
     "name": "stdout",
     "output_type": "stream",
     "text": [
      "Язык Python - простой и понятный\n",
      "Язык 'Python' - простой и понятный\n"
     ]
    }
   ],
   "source": [
    "name = 'Python'\n",
    "a = f'Язык {name} - простой и понятный'\n",
    "print(a)\n",
    "a = f'Язык {name!r} - простой и понятный'\n",
    "print(a)"
   ]
  },
  {
   "cell_type": "markdown",
   "id": "f46894d9-90ec-4486-8920-89f1d75ec5db",
   "metadata": {},
   "source": [
    "#### Создание форматированного текста"
   ]
  },
  {
   "cell_type": "code",
   "execution_count": 9,
   "id": "a7739905-392a-48f8-9d71-e0975ed6e131",
   "metadata": {},
   "outputs": [
    {
     "name": "stdout",
     "output_type": "stream",
     "text": [
      "Число 123, текст Python, и снова число 321\n"
     ]
    }
   ],
   "source": [
    "a = 'Число {}, текст {}, и снова число {}'\n",
    "txt = a.format(123, 'Python', 321)\n",
    "print(txt)"
   ]
  },
  {
   "cell_type": "markdown",
   "id": "e31f1431-f030-497c-be25-362105eff773",
   "metadata": {},
   "source": [
    "b = '{0:_{2}{1}s}'\n",
    "num = 6\n",
    "for i in range(1, num+1):\n",
    "    print(b.format('*', i,'>'), end='')\n",
    "    print(' '*(2*(num-i)), end='')\n",
    "    print(b.format('*', i,'<'))"
   ]
  },
  {
   "cell_type": "markdown",
   "id": "59cf3f09-eda0-48a3-85ab-eda0fd13963e",
   "metadata": {},
   "source": [
    "## Основные операции с текстом"
   ]
  },
  {
   "cell_type": "code",
   "execution_count": 6,
   "id": "5be46412-1fb1-406b-833b-fe379e0cc6fe",
   "metadata": {},
   "outputs": [
    {
     "name": "stdout",
     "output_type": "stream",
     "text": [
      "Начальный текст:  Hello World\n",
      "Текст в обратном порядке:  dlroW olleH\n",
      "Код символа H = 72\n",
      "Код символа e = 101\n",
      "Код символа l = 108\n",
      "Код символа l = 108\n",
      "Код символа o = 111\n",
      "Код символа   = 32\n",
      "Код символа W = 87\n",
      "Код символа o = 111\n",
      "Код символа r = 114\n",
      "Код символа l = 108\n",
      "Код символа d = 100\n"
     ]
    }
   ],
   "source": [
    "txt = 'Hello World'\n",
    "print('Начальный текст: ',txt)\n",
    "a = txt[::-1]\n",
    "print('Текст в обратном порядке: ',a)\n",
    "for i in txt:\n",
    "    print(f'Код символа {i} = {ord(i)}')"
   ]
  },
  {
   "cell_type": "markdown",
   "id": "2fe2d550-b3e7-4049-8cfa-314899537d0f",
   "metadata": {},
   "source": [
    "## Методы работы с текстом"
   ]
  },
  {
   "cell_type": "markdown",
   "id": "9e9b365f-a9c4-4c6c-853e-c4b3d73a8f4a",
   "metadata": {},
   "source": [
    "##### upper() - Переводит все буквы текста в большие\n",
    "##### lower() - Переводит все буквы текста в маленькие\n",
    "##### swapcase() - Меняет большие буквы на маленькие и наоборот\n",
    "##### title() - Каждое слово текста начинается с большой буквы\n",
    "##### capitalize() - В тексте первая буква - большая"
   ]
  },
  {
   "cell_type": "code",
   "execution_count": 16,
   "id": "a01ebae0-474b-4b35-96ef-45f25845a97a",
   "metadata": {},
   "outputs": [
    {
     "name": "stdout",
     "output_type": "stream",
     "text": [
      "Язык Python проще чем язык JAVA\n",
      "txt.upper() - \t\t ЯЗЫК PYTHON ПРОЩЕ ЧЕМ ЯЗЫК JAVA\n",
      "txt.lower() - \t\t язык python проще чем язык java\n",
      "txt.swapcase()\t\t яЗЫК pYTHON ПРОЩЕ ЧЕМ ЯЗЫК java\n",
      "txt.title() - \t\t Язык Python Проще Чем Язык Java\n",
      "txt.capitalize() - \t Язык python проще чем язык java\n"
     ]
    }
   ],
   "source": [
    "txt = 'Язык Python проще чем язык JAVA'\n",
    "print(txt)\n",
    "print('txt.upper() - \\t\\t', txt.upper())\n",
    "print('txt.lower() - \\t\\t',txt.lower())\n",
    "print('txt.swapcase()\\t\\t', txt.swapcase())\n",
    "print('txt.title() - \\t\\t',txt.title())\n",
    "print('txt.capitalize() - \\t',txt.capitalize())"
   ]
  },
  {
   "cell_type": "markdown",
   "id": "49b5020b-d2cd-4afb-9a21-1ea071a9ed73",
   "metadata": {},
   "source": [
    "### Методы, позволяющие проверить текст на сооветствие тем или иным критериям (такие метолды начинаются со слова is)"
   ]
  },
  {
   "cell_type": "markdown",
   "id": "2d3e4bfe-35bd-492c-9561-46d836de1793",
   "metadata": {},
   "source": [
    "##### isalnum() - возвращает True если текст непустой и состоит из букв и/или цифр. В противном случае возвращает False\n",
    "##### isalpha() - возвращает True если текст непустой и состоит из букв. В противном случае возвращает False\n",
    "##### isascii() - возвращает True если текст непустой и состоит из символов кодовой таблицы ASCII. В противном случае возвращает False\n",
    "##### isadecimal() - возвращает True если текст непустой и состоит из десятичных цифр. В противном случае возвращает False\n",
    "##### isdigit() - возвращает True если текст непустой и состоит из цифр. В противном случае возвращает False\n",
    "##### isdenitifier() возвращает True если текст содержит название зарегистрированного в языке идентификатора или ключевого слова. В противном случае возвращает False\n",
    "##### islower() - возвращает True если текст непустой и состоит из маленьких букв. В противном случае возвращает False\n",
    "##### isupper() - возвращает True если текст непустой и состоит из больших букв. В противном случае возвращает False\n",
    "##### isnumeric() - возвращает True если текст непустой и состоит из числовых символов. В противном случае возвращает False\n",
    "##### isprintable() - возвращает True если текст непустой и состоит из печатный (тех, которые отьображаются в области вывода) символов. В противном случае возвращает False\n",
    "##### isspace() - возвращает True если текст непустой и состоит из пробелов. В противном случае возвращает False\n",
    "##### isttitle() -возвращает True если текст непустой и каждое слово начинается с большой буквы. В противном случае возвращает False"
   ]
  },
  {
   "cell_type": "code",
   "execution_count": 36,
   "id": "89511fa0-b859-410d-820c-701ded8f61d5",
   "metadata": {},
   "outputs": [
    {
     "name": "stdout",
     "output_type": "stream",
     "text": [
      "isalnum() - Методы123\t-\tTrue\n",
      "isalnum() - Методы 123\t-\tFalse\n",
      "isalpha() - Методы\t-\tTrue\n",
      "isalpha() - Методы 123\t-\tFalse\n",
      "isascii() - Методы\t-\tFalse\n",
      "islower() - методы 123\t-\tTrue\n"
     ]
    }
   ],
   "source": [
    "txt_1 = 'Методы123'\n",
    "txt_2 = 'Методы 123'\n",
    "print(f'isalnum() - {txt_1}\\t-\\t{txt_1.isalnum()}')\n",
    "print(f'isalnum() - {txt_2}\\t-\\t{txt_2.isalnum()}')\n",
    "txt_1 = 'Методы'\n",
    "txt_2 = 'Методы 123'\n",
    "print(f'isalpha() - {txt_1}\\t-\\t{txt_1.isalpha()}')\n",
    "print(f'isalpha() - {txt_2}\\t-\\t{txt_2.isalpha()}')\n",
    "txt_1 = 'Методы'\n",
    "txt_2 = 'методы 123'\n",
    "print(f'isascii() - {txt_1}\\t-\\t{txt_1.isascii()}')\n",
    "print(f'islower() - {txt_2}\\t-\\t{txt_2.islower()}')\n"
   ]
  },
  {
   "cell_type": "markdown",
   "id": "b582d8c0-7815-4c3a-ab30-ae47bcadf338",
   "metadata": {},
   "source": [
    "### Методы поиска и замены"
   ]
  },
  {
   "cell_type": "markdown",
   "id": "e81e7252-1fa0-4551-878b-7c5897f1fda4",
   "metadata": {},
   "source": [
    "##### find(), index() - возвращают в качестве результата индекс первого вхождения подстроки в текст\n",
    "##### rfind(), rindex()- возвращают в качестве результата индекс последнего вхождения подстроки в текст\n",
    "###### Искомая подстрока указывается в качестве аргумента. \n",
    "###### Если подстроки в тексте нет то метод find() возвращает значение -1, а метод index() генерирует исключение ValueError\n",
    "##### count() - используется для определения количества вхождений подстроки или символа в текст из которого вызывается метод.\n",
    "##### endwiht() - позволяет определить, заканчивается ли текст,  из которого вызывается метод, подстрокой, переданной аргументом\n",
    "##### startwith() - позволяет определить, начинается ли текст,  из которого вызывается метод, подстрокой, переданной аргументом\n",
    "##### expandtabs() - позволяет на основе исходного текста получить текст где все инструкции табуляции заменены на пробелы\n",
    "##### strip() - позволяет удалять символы, указаные в качестве аргумента в начале и в конце текста (если аргументов нет удаляются пробелы)\n",
    "##### lstrip() - позволяет удалять символы, указаные в качестве аргумента в начале текста\n",
    "##### rstrip() - позволяет удалять символы, указаные в качестве аргумента в конце текста\n",
    "##### replace() - выполняет замену одной подстроки на другую"
   ]
  },
  {
   "cell_type": "markdown",
   "id": "dbe82fd1-66f3-4d89-ae3f-b5b73a56fd5d",
   "metadata": {},
   "source": [
    "#### Подсчет символов в тексте"
   ]
  },
  {
   "cell_type": "code",
   "execution_count": 40,
   "id": "b9778736-e9b0-4d66-9d4d-cc8d2199c71c",
   "metadata": {},
   "outputs": [
    {
     "name": "stdin",
     "output_type": "stream",
     "text": [
      "Введите текст:  dka;jkdvna;dfl\n",
      "Какой символ нужно найти:  a\n"
     ]
    },
    {
     "name": "stdout",
     "output_type": "stream",
     "text": [
      "В тексте 'dka;jkdvna;dfl' найдено 2 букв a\n"
     ]
    }
   ],
   "source": [
    "txt = input('Введите текст: ')\n",
    "symb = input('Какой символ нужно найти: ')\n",
    "num = txt.count(symb)\n",
    "if num == 0:\n",
    "    print('НЕТ такой буквы')\n",
    "else:\n",
    "    print(f'В тексте \\'{txt}\\' найдено {num} букв {symb}')"
   ]
  },
  {
   "cell_type": "markdown",
   "id": "9d353047-5b1c-4a10-9b94-644f6edc4545",
   "metadata": {},
   "source": [
    "#### Определение позиций символа в тексте"
   ]
  },
  {
   "cell_type": "code",
   "execution_count": 75,
   "id": "c423ca4b-9bc3-49b0-b12e-3e998aa95859",
   "metadata": {},
   "outputs": [
    {
     "name": "stdin",
     "output_type": "stream",
     "text": [
      "Введите текст:  asdfgasdfassfd\n",
      "Какой символ нужно найти:  s\n"
     ]
    },
    {
     "name": "stdout",
     "output_type": "stream",
     "text": [
      "Позиции  символа s в тексте - [1, 6, 10, 11]\n"
     ]
    }
   ],
   "source": [
    "txt = input('Введите текст: ')\n",
    "symb = input('Какой символ нужно найти: ')\n",
    "num = txt.find(symb) # Находим первую порзицию искомого символа в тексте\n",
    "list_index_symb = []\n",
    "while num != -1: # Если символа нет, num = txt.find() возвращает значение -1\n",
    "    list_index_symb.append(num)\n",
    "    num = txt.find(symb, num+1) # Продолжает поиск со следующей после найденного символа позиции\n",
    "\n",
    "if len(list_index_symb) == 0:\n",
    "    print('Такого символа нет в тексте')\n",
    "else:\n",
    "    print(f'Позиции  символа {symb} в тексте - {list_index_symb}')"
   ]
  },
  {
   "cell_type": "markdown",
   "id": "803e11ab-d8b2-4f12-800e-46d9d6009c87",
   "metadata": {},
   "source": [
    "#### Замена подстрок в тексте"
   ]
  },
  {
   "cell_type": "code",
   "execution_count": 65,
   "id": "2427ea25-51f3-424a-a3cf-2161bd36cd31",
   "metadata": {},
   "outputs": [
    {
     "name": "stdout",
     "output_type": "stream",
     "text": [
      "МЫ изучаем язык PYTHON\n",
      "\n",
      "МЫ_*_изучаем_*_язык_*_PYTHON\n",
      "\n",
      "МЫ\n",
      "изучаем\n",
      "язык\n",
      "PYTHON\n",
      "\n",
      "МЫ не изучаем язык JAVA\n",
      "\n",
      "МЫ изучаем PYTHON\n"
     ]
    }
   ],
   "source": [
    "txt = 'МЫ изучаем язык PYTHON'\n",
    "print(txt)\n",
    "print()\n",
    "txt_1 = txt.replace(' ', '_*_')\n",
    "print(txt_1)\n",
    "print()\n",
    "txt_1 = txt.replace(' ', '\\n') # Каждоне слово в новой строки\n",
    "print(txt_1)\n",
    "print()\n",
    "txt_1 = txt.replace(' ', ' не ', 1).replace('PYTHON', 'JAVA') # Замена первого пробела на \"НЕ\" и \"PYTHON\" на \"JAVA\" \n",
    "print(txt_1)\n",
    "print()\n",
    "txt_1 = txt.replace('язык ', '') # Удажение слова \"язык \"\n",
    "print(txt_1)"
   ]
  },
  {
   "cell_type": "markdown",
   "id": "f7f6eeb0-748e-470c-a013-1f1682359383",
   "metadata": {},
   "source": [
    "### Методы форматирования текста"
   ]
  },
  {
   "cell_type": "markdown",
   "id": "893bbde0-9a99-4d1e-8a6f-5202bcbed616",
   "metadata": {},
   "source": [
    "##### join() - позволяет создать строку на основе итерируемой последовательности (например, списка)\n",
    "###### \"<Разделитель>\".join(<Список>)\n",
    "##### partition() - позволяет разбить исходный тектс на три части. Результатом метод возвращает кортеж, который состоит из трех текстовых строк: текст до разделителя, разделитель, текст после разделителя. Разделитель первый раз встречается в тексте\n",
    "##### rpartition() - разделитель последний раз встречается в тексте\n",
    "##### split() - возвращает список слов из текста\n",
    "##### splitlines() - возвращает список подстрок\n",
    "##### center() - выравнивание по центру\n",
    "##### ljust() - выравнивание по левому краю\n",
    "##### rjust() - выравнивание по правому краю"
   ]
  },
  {
   "cell_type": "code",
   "execution_count": 109,
   "id": "23c4b493-3f93-4d62-9c40-6cc7f233506b",
   "metadata": {},
   "outputs": [
    {
     "name": "stdout",
     "output_type": "stream",
     "text": [
      "\"_\".join(lst)\n",
      "ADB_SDF_BNM\n",
      "\n",
      "str_.split(\"_\")\n",
      "['ADB', 'SDF', 'BNM']\n",
      "\n",
      "\"\".join(lst)\n",
      "ADBSDFBNM\n",
      "\n",
      "str_.split()\n",
      "['ADBSDFBNM']\n",
      "\n",
      "list(str_)\n",
      "['A', 'D', 'B', 'S', 'D', 'F', 'B', 'N', 'M']\n",
      "\n",
      "txt.splitlines()\n",
      "[' Прошли года,', 'И в свете лет,', 'Есть мудрость', 'А вот счастья нет']\n",
      "\n",
      "txt.partition(separator)\n",
      "('aaaaaaa', 'DDDDD', 'ssssss')\n",
      "\n",
      "Выравнивание текста\n",
      "------------PYTHON------------\n",
      "            PYTHON            \n",
      "PYTHON************************\n",
      "________________________PYTHON\n"
     ]
    }
   ],
   "source": [
    "lst = ['ADB', 'SDF', 'BNM']\n",
    "print('\"_\".join(lst)')\n",
    "str_ = \"_\".join(lst)\n",
    "print(str_)\n",
    "print()\n",
    "print('str_.split(\"_\")')\n",
    "lst_1 = str_.split(\"_\")\n",
    "print(lst_1)\n",
    "print()\n",
    "print('\"\".join(lst)')\n",
    "str_ = \"\".join(lst) \n",
    "print(str_)\n",
    "print()\n",
    "print('str_.split()')\n",
    "lst_1 = str_.split()\n",
    "print(lst_1)\n",
    "print()\n",
    "print('list(str_)')\n",
    "lst_1 = list(str_)\n",
    "print(lst_1)\n",
    "print()\n",
    "txt = ''' Прошли года,\n",
    "И в свете лет,\n",
    "Есть мудрость\n",
    "А вот счастья нет\n",
    "'''\n",
    "print('txt.splitlines()')\n",
    "print(txt.splitlines())\n",
    "print()\n",
    "txt = 'aaaaaaaDDDDDssssss'\n",
    "separator = 'DDDDD'\n",
    "print('txt.partition(separator)')\n",
    "print(txt.partition(separator))\n",
    "print()\n",
    "\n",
    "print('Выравнивание текста')\n",
    "num = 30 \n",
    "txt = 'PYTHON'\n",
    "print(txt.center(num, '-')) # Указывается ширина заполнения и заполнитель\n",
    "print(txt.center(num))\n",
    "print(txt.ljust(num, '*'))\n",
    "print(txt.rjust(num, '_'))"
   ]
  },
  {
   "cell_type": "markdown",
   "id": "f474836a-f94e-4abe-8feb-d85b3f022ceb",
   "metadata": {},
   "source": [
    "## Примеры работы с текстом                                                                                                             "
   ]
  },
  {
   "cell_type": "markdown",
   "id": "8071d589-83c6-4413-a610-be29c2494424",
   "metadata": {},
   "source": [
    "#### Попарный обмен символов"
   ]
  },
  {
   "cell_type": "code",
   "execution_count": 2,
   "id": "04e156ef-dc15-4c82-859e-78ee47860da8",
   "metadata": {},
   "outputs": [
    {
     "name": "stdin",
     "output_type": "stream",
     "text": [
      "Введите текст 123456789\n"
     ]
    },
    {
     "name": "stdout",
     "output_type": "stream",
     "text": [
      "214365879\n"
     ]
    }
   ],
   "source": [
    "txt = input('Введите текст')\n",
    "new_txt = ''\n",
    "i = 0 # Индекс символа\n",
    "while i < len(txt)-1:\n",
    "    new_txt += txt[i+1] + txt[i]\n",
    "    i += 2\n",
    "\n",
    "if i < len(txt):\n",
    "    new_txt += txt[i]\n",
    "\n",
    "print(new_txt)\n",
    "    "
   ]
  },
  {
   "cell_type": "markdown",
   "id": "c51d75d8-680b-41a7-91b0-56d8b06f384d",
   "metadata": {},
   "source": [
    "#### Шифрование текста"
   ]
  },
  {
   "cell_type": "code",
   "execution_count": 6,
   "id": "5b9b502f-b981-4c82-9988-163eedc13005",
   "metadata": {},
   "outputs": [
    {
     "name": "stdin",
     "output_type": "stream",
     "text": [
      "Введите текст АаЯяБб\n"
     ]
    },
    {
     "name": "stdout",
     "output_type": "stream",
     "text": [
      "БбАаВв\n"
     ]
    }
   ],
   "source": [
    "txt = input('Введите текст')\n",
    "new_txt = ''\n",
    "m = ord('а')\n",
    "n = ord('я')\n",
    "M = ord('А')\n",
    "N = ord('Я')\n",
    "\n",
    "for i in txt:\n",
    "    k = ord(i)\n",
    "    if (k >= m and k < n) or (k >= M and k < N):\n",
    "        i = chr(k+1)\n",
    "    elif k == n:\n",
    "        i = chr(m)\n",
    "    elif k == N:\n",
    "        i = chr(M)\n",
    "    new_txt += i\n",
    "print(new_txt)\n",
    "        "
   ]
  },
  {
   "cell_type": "markdown",
   "id": "ab4ca02f-e14a-4fb7-b123-ada023a821c0",
   "metadata": {},
   "source": [
    "## Задания для самостоятельной работы"
   ]
  },
  {
   "cell_type": "markdown",
   "id": "df0bf51e-43a0-49c7-9721-bbf47b186ce7",
   "metadata": {},
   "source": [
    "#### № 1"
   ]
  },
  {
   "cell_type": "raw",
   "id": "27eab5bd-1c5c-4a05-9983-34affc9ba821",
   "metadata": {},
   "source": [
    "Напишите программу в которой с использованием текстовых литералов (например, используя текстовый литерал, заключенный в тройные кавычки) символом * в области вывода отображается фраза \"Hello Python\""
   ]
  },
  {
   "cell_type": "code",
   "execution_count": 11,
   "id": "c4a3c58d-46a0-405d-a1bb-16649defae5c",
   "metadata": {},
   "outputs": [
    {
     "name": "stdout",
     "output_type": "stream",
     "text": [
      "\n",
      "----------------\n",
      "| Hello Python |\n",
      "----------------\n",
      "\n"
     ]
    }
   ],
   "source": [
    "print('''\n",
    "----------------\n",
    "| Hello Python |\n",
    "----------------\n",
    "''')"
   ]
  },
  {
   "cell_type": "markdown",
   "id": "0b439bf7-c7b6-47fd-81c7-5267ee1016cb",
   "metadata": {},
   "source": [
    "#### № 2"
   ]
  },
  {
   "cell_type": "raw",
   "id": "9e517062-a1ea-46d4-8899-ae2325fad271",
   "metadata": {},
   "source": [
    "Напишите программу, в которой с использованием операторов цикла и форматированных литералов, символом \"*\", в облати вывода отображается буква \"А\""
   ]
  },
  {
   "cell_type": "code",
   "execution_count": 44,
   "id": "30fee46f-6a47-43f7-8d85-490fa52a48f1",
   "metadata": {},
   "outputs": [
    {
     "name": "stdout",
     "output_type": "stream",
     "text": [
      "  *  \n",
      "          \n",
      "  *    *    *  \n",
      "                    \n"
     ]
    }
   ],
   "source": [
    "txt = '*'\n",
    "k = 0\n",
    "b = '{0:_{2}{1}s}'\n",
    "num = 5\n",
    "for i in range(1, num):\n",
    "    if i%2 == 0:\n",
    "        ch = ' '\n",
    "    else: ch = '*'\n",
    "    print(ch.center(5)*i)\n",
    "    \n",
    "    \n"
   ]
  },
  {
   "cell_type": "markdown",
   "id": "93d643ca-dfe8-4ce4-8b3c-1e9e7b6d8379",
   "metadata": {},
   "source": [
    "#### № 3"
   ]
  },
  {
   "cell_type": "markdown",
   "id": "32e0ce9f-9202-425a-a80c-440139f846b8",
   "metadata": {},
   "source": [
    "Напишите программу, в которой пользователю предлагается ввести текст, а затем в этом тектсе, без применения специальных методов (не используя метод swapcase()), все большие буквы замениить на маленькие, а маленькие на большие"
   ]
  },
  {
   "cell_type": "code",
   "execution_count": 49,
   "id": "343b45b4-c320-43f3-a300-56b1407a00a6",
   "metadata": {},
   "outputs": [
    {
     "name": "stdin",
     "output_type": "stream",
     "text": [
      "Введите текст AbCd\n"
     ]
    },
    {
     "name": "stdout",
     "output_type": "stream",
     "text": [
      "aBcD\n"
     ]
    }
   ],
   "source": [
    "txt = input('Введите текст')\n",
    "\n",
    "new_txt = ''\n",
    "for i in txt:\n",
    "    if i.islower():\n",
    "        i = i.upper()\n",
    "    else:\n",
    "        i = i.lower()\n",
    "    new_txt += i\n",
    "print(new_txt)\n"
   ]
  },
  {
   "cell_type": "markdown",
   "id": "e3d30390-a1dc-4ac1-96a4-1d50b1ef1f14",
   "metadata": {},
   "source": [
    "#### № 4"
   ]
  },
  {
   "cell_type": "raw",
   "id": "2bbc751c-03d1-4220-b895-08ba9bb7ac8e",
   "metadata": {},
   "source": [
    "Напишите программу, в которой на основе введенноо пользователем текста создается новая текстовая строка. В этой строке по ставнению с исходной символы меняются местами \"через один\", пекрвый символ меняется с третьим, четвертый с шестым и т.д."
   ]
  },
  {
   "cell_type": "code",
   "execution_count": 58,
   "id": "ecd9f8c6-e936-4a6f-8c08-df89cb4e39ce",
   "metadata": {},
   "outputs": [
    {
     "name": "stdin",
     "output_type": "stream",
     "text": [
      "Введите текст 1n34n67n9\n"
     ]
    },
    {
     "name": "stdout",
     "output_type": "stream",
     "text": [
      "3n16n49n7\n"
     ]
    }
   ],
   "source": [
    "txt = input('Введите текст')\n",
    "new_txt = ''\n",
    "i = 0\n",
    "while i < len(txt) - 2:\n",
    "    new_txt += txt[i+2] + txt[i+1] + txt[i]\n",
    "    i += 3\n",
    "print(new_txt)\n",
    "    "
   ]
  },
  {
   "cell_type": "markdown",
   "id": "b3903c5c-e974-4469-9bf9-d31e5f7ccbe0",
   "metadata": {},
   "source": [
    "#### № 5"
   ]
  },
  {
   "cell_type": "raw",
   "id": "99a50221-7032-47af-b3e0-c819092a0a20",
   "metadata": {},
   "source": [
    "Напишите программу, в которой пользователь вводит два текстовых значения, и на их основе создается новый текст. В этот новый текст поочередно включаются буквы из текстов, введенных пользователем. Когда один из текстов заканчивается, в качестве символов из этого текста используется \"*\""
   ]
  },
  {
   "cell_type": "code",
   "execution_count": 68,
   "id": "b01f6103-8d7e-465e-a2df-b89015c96d27",
   "metadata": {},
   "outputs": [
    {
     "name": "stdin",
     "output_type": "stream",
     "text": [
      "Введите первый текст прычоывп\n",
      "Введите второй текст ИРЫОПЫОРПОЫРВПЫОР\n"
     ]
    },
    {
     "name": "stdout",
     "output_type": "stream",
     "text": [
      "пИрРыЫчОоПыЫвОпР*П*О*Ы*Р*В*П*Ы*О*Р\n"
     ]
    }
   ],
   "source": [
    "txt_1 = input('Введите первый текст')\n",
    "txt_2 = input('Введите второй текст')\n",
    "new_txt = ''\n",
    "\n",
    "if len(txt_1) >= len(txt_2):\n",
    "    num = len(txt_1)\n",
    "    for i in range(num - len(txt_2)):\n",
    "        txt_2 += '*'\n",
    "else:\n",
    "    num = len(txt_2)\n",
    "    for i in range(num - len(txt_1)):\n",
    "        txt_1 += '*'\n",
    "\n",
    "for i in range(num):\n",
    "    new_txt +=  txt_1[i] + txt_2[i]\n",
    "\n",
    "print(new_txt)\n",
    "    \n"
   ]
  },
  {
   "cell_type": "markdown",
   "id": "c5ba8d95-ab70-463e-988c-3873a611d44f",
   "metadata": {},
   "source": [
    "#### № 6"
   ]
  },
  {
   "cell_type": "markdown",
   "id": "68351694-4dbe-49fb-9014-390b17a65a5a",
   "metadata": {},
   "source": [
    "Напишите программу для расшифровкм текста. Зашиврованного в соответствии с таким алгоритмом: каждая буква заменяетсяна следующую, а последняя в алфавите на первую"
   ]
  },
  {
   "cell_type": "code",
   "execution_count": 10,
   "id": "a70f47e0-4c6a-4d9a-8f27-f4b11fa8fd9b",
   "metadata": {},
   "outputs": [
    {
     "name": "stdin",
     "output_type": "stream",
     "text": [
      "Введите текст БбАаВв\n"
     ]
    },
    {
     "name": "stdout",
     "output_type": "stream",
     "text": [
      "АаЯяБб\n"
     ]
    }
   ],
   "source": [
    "first_letter_lower = ord('а')\n",
    "first_letter_upper = ord('А')\n",
    "last_letter_lower = ord('я')\n",
    "last_letter_upper = ord('Я')\n",
    "\n",
    "txt = input('Введите текст')\n",
    "new_txt = ''\n",
    "\n",
    "for letter in txt:\n",
    "    ch = ord(letter)    \n",
    "    if (ch > first_letter_lower and ch <= last_letter_lower) or (ch > first_letter_upper and ch <= last_letter_upper):\n",
    "        letter = chr(ch - 1)\n",
    "    elif ch == first_letter_lower:\n",
    "        letter = chr(last_letter_lower)\n",
    "    elif ch == first_letter_upper:\n",
    "        letter = chr(last_letter_upper)\n",
    "    new_txt += letter        \n",
    "    \n",
    "print(new_txt)"
   ]
  },
  {
   "cell_type": "markdown",
   "id": "6c3f96d2-f18a-46e7-98cc-793b4c4345fa",
   "metadata": {},
   "source": [
    "#### № 7"
   ]
  },
  {
   "cell_type": "markdown",
   "id": "f2c4fb3e-48af-4d7d-9dff-ae9b562a1977",
   "metadata": {},
   "source": [
    "Напишите программу для шифрования и дешифрования текста. Текст шифруется так: каждая буква заменяется на ту, что размещена от нее на две позиции влево. Вторая буква в алфавите заменяется на последнюю, первая - на предпоследнюю"
   ]
  },
  {
   "cell_type": "code",
   "execution_count": 25,
   "id": "36ca1271-8567-4f44-8df3-eb2d34df0a11",
   "metadata": {},
   "outputs": [
    {
     "name": "stdin",
     "output_type": "stream",
     "text": [
      "Введите\n",
      "1 - для шифрования текста\n",
      "2 - для расшифровки текста\n",
      " 1\n",
      "Введите текст для шифрования sssdfd ddd \n"
     ]
    },
    {
     "name": "stdout",
     "output_type": "stream",
     "text": [
      "sssdfd ddd \n"
     ]
    }
   ],
   "source": [
    "FIRST_LETTER_LOWER = ord('а')\n",
    "LAST_LETTER_LOWER = ord('я')\n",
    "FIRST_LETTER_UPPER = ord('А')\n",
    "LAST_LETTER_UPPER = ord('Я')\n",
    "\n",
    "def coding():\n",
    "    '''Шифрование текста'''\n",
    "    txt = input('Введите текст для шифрования')\n",
    "    new_txt = ''\n",
    "    for letter in txt:\n",
    "        ch = ord(letter)\n",
    "        if (ch > FIRST_LETTER_LOWER+1 and ch <= LAST_LETTER_LOWER) or (ch > FIRST_LETTER_UPPER+1 and ch <= LAST_LETTER_UPPER):\n",
    "            letter = chr(ch - 2)\n",
    "        elif ch == FIRST_LETTER_LOWER+1:\n",
    "            letter = chr(LAST_LETTER_LOWER)\n",
    "        elif ch == FIRST_LETTER_UPPER+1:\n",
    "            letter = chr(LAST_LETTER_UPPER)    \n",
    "        elif ch == FIRST_LETTER_LOWER:\n",
    "            letter = chr(LAST_LETTER_LOWER - 1)\n",
    "        elif ch == FIRST_LETTER_UPPER:\n",
    "            letter = chr(LAST_LETTER_UPPER - 1)\n",
    "        new_txt += letter\n",
    "    return new_txt\n",
    "\n",
    "def decoding():\n",
    "    '''Расшифровка текста'''\n",
    "    txt = input('Введите текст для расшифровки')\n",
    "    new_txt = ''\n",
    "    for letter in txt:\n",
    "        ch = ord(letter)\n",
    "        if (ch >= FIRST_LETTER_LOWER and ch < LAST_LETTER_LOWER-1) or (ch >= FIRST_LETTER_UPPER and ch < LAST_LETTER_UPPER-1):\n",
    "            letter = chr(ch + 2)\n",
    "        elif ch == LAST_LETTER_LOWER:\n",
    "            letter = chr(FIRST_LETTER_LOWER+1)\n",
    "        elif ch == LAST_LETTER_UPPER:\n",
    "            letter = chr(FIRST_LETTER_UPPER+1)    \n",
    "        elif ch == LAST_LETTER_LOWER - 1:\n",
    "            letter = chr(FIRST_LETTER_LOWER)\n",
    "        elif ch == LAST_LETTER_UPPER - 1:\n",
    "            letter = chr(FIRST_LETTER_UPPER)\n",
    "        new_txt += letter\n",
    "    return new_txt\n",
    "\n",
    "num = int(input('''Введите\n",
    "1 - для шифрования текста\n",
    "2 - для расшифровки текста\n",
    "'''))\n",
    "if num == 1:\n",
    "    print(coding())\n",
    "else:\n",
    "    print(decoding())"
   ]
  },
  {
   "cell_type": "markdown",
   "id": "4d9adec6-f298-40cb-b1d4-d8168e7a4d42",
   "metadata": {},
   "source": [
    "#### № 8"
   ]
  },
  {
   "cell_type": "markdown",
   "id": "0e6c3779-d723-4d8f-9b41-12c26ecc6fd2",
   "metadata": {},
   "source": [
    "Напишите программу, в которой шифруется и дешифруется введенный пользователем текст. При шифровании каждая буква заменяется на следующую (а последняя на первую), но только эта операция отдельно выполняется для гласных букв и согласных букв. Для этого нужно сформировать списки гласных и согласных букв и шифрование и дешифрование выполнять на основе этих списков"
   ]
  },
  {
   "cell_type": "code",
   "execution_count": 6,
   "id": "2bfaf1cb-d382-49b5-8c1d-a46344dbdb3a",
   "metadata": {},
   "outputs": [
    {
     "name": "stdin",
     "output_type": "stream",
     "text": [
      "Введите текст для шифрования -  аобьяревк\n"
     ]
    },
    {
     "name": "stdout",
     "output_type": "stream",
     "text": [
      "еувБАсёгл\n"
     ]
    }
   ],
   "source": [
    "vowels = ['А', 'Е', 'Ё', 'И', 'О', 'У', 'Ы', 'Э', 'Ю', 'Я', 'а', 'е', 'ё', 'и', 'о', 'у', 'ы', 'э', 'ю', 'я']\n",
    "consonants = ['Б','В','Г','Д','Ж','З','Й','К', 'Л','М','Н','П','Р','С','Т','Ф','Х','Ц','Ч','Ш','Щ','Ъ','Ь',\n",
    "              'б','в','г','д','ж','з','й','к','л','м','н','п','р','с','т','ф','х','ц','ч','ш','щ','ъ','ь']\n",
    "\n",
    "FIRST_VOWELS = ord(vowels[0])\n",
    "LAST_VOWELS = ord(vowels[-1])\n",
    "FIRST_CONSONANTS = ord(consonants[0])\n",
    "LAST_CONSONANTS = ord(consonants[-1])\n",
    "\n",
    "# for letter in vowels:\n",
    "#     print(ord(letter))\n",
    "\n",
    "txt = input('Введите текст для шифрования - ')\n",
    "new_txt = ''\n",
    "i = 0\n",
    "for letter in txt:\n",
    "    ch = ord(letter)\n",
    "    if letter in vowels:\n",
    "        idx = vowels.index(letter)\n",
    "        if ch >= FIRST_VOWELS and ch < LAST_VOWELS:\n",
    "            letter = vowels[idx+1]\n",
    "        if ch == LAST_VOWELS:\n",
    "            letter = vowels[0]\n",
    "        new_txt += letter\n",
    "    if letter in consonants:\n",
    "        idx = consonants.index(letter)\n",
    "        if ch >= FIRST_CONSONANTS and ch < LAST_CONSONANTS:\n",
    "            letter = consonants[idx+1]\n",
    "        if ch == LAST_CONSONANTS:\n",
    "            letter = consonants[0]\n",
    "        new_txt += letter\n",
    "\n",
    "print(new_txt)"
   ]
  },
  {
   "cell_type": "markdown",
   "id": "e13295e2-5bae-417f-97d8-31732d645b1b",
   "metadata": {},
   "source": [
    "#### № 9"
   ]
  },
  {
   "cell_type": "markdown",
   "id": "89a43303-5d29-4e9c-82f8-fecfd38c936b",
   "metadata": {},
   "source": [
    "Напишите программу, в которой на основе текста, введенного пользователем, создается новый текст, в котором по сравнению с исходным удалено самое длинное и самое коороткое слово. Если таких слов несколько, то удалается первое из них. Под словами подразумевать блоки текста, разделенные пробелом"
   ]
  },
  {
   "cell_type": "code",
   "execution_count": 20,
   "id": "b37570d5-443a-4d92-9f94-e56ea6af8869",
   "metadata": {},
   "outputs": [
    {
     "name": "stdin",
     "output_type": "stream",
     "text": [
      "Введите текст 22 1 333 4444 55555\n"
     ]
    },
    {
     "name": "stdout",
     "output_type": "stream",
     "text": [
      "22 333 4444\n"
     ]
    }
   ],
   "source": [
    "txt = input('Введите текст')\n",
    "lst = txt.split(' ')\n",
    "# print(lst)\n",
    "min_len_word = len(lst[0])\n",
    "max_len_word = len(lst[0])\n",
    "min_word = lst[0]\n",
    "max_word = lst[0]\n",
    "\n",
    "for word in lst:\n",
    "    if len(word) < min_len_word:\n",
    "        min_len_word = len(word)\n",
    "        min_word = word\n",
    "    elif len(word) > max_len_word:\n",
    "        max_len_word = len(word)\n",
    "        max_word = word\n",
    "\n",
    "lst.remove(min_word)\n",
    "lst.remove(max_word)\n",
    "\n",
    "txt = ' '.join(lst)\n",
    "print(txt)"
   ]
  },
  {
   "cell_type": "markdown",
   "id": "4f9826fb-2fe6-44d0-88f2-fb55fc39cfd8",
   "metadata": {},
   "source": [
    "#### № 10"
   ]
  },
  {
   "cell_type": "markdown",
   "id": "2345ffb8-c195-439d-8a0d-61d56b98af74",
   "metadata": {},
   "source": [
    "Напишите программу, в которой на основе текста, введенного пользователем, создается новй текст. По сравнению с исходным в нем слова расположенны в обратном порядке. Под словами подразумеваются бюлоки текста разделенные пробелами"
   ]
  },
  {
   "cell_type": "code",
   "execution_count": 31,
   "id": "05be663c-6cce-499e-af76-79b746bd02e9",
   "metadata": {},
   "outputs": [
    {
     "name": "stdin",
     "output_type": "stream",
     "text": [
      "Введите текст 11 22 33 44 55\n"
     ]
    },
    {
     "name": "stdout",
     "output_type": "stream",
     "text": [
      "55 44 33 22 11\n"
     ]
    }
   ],
   "source": [
    "txt = input('Введите текст: ')\n",
    "lst = txt.split(' ')\n",
    "lst.reverse()\n",
    "new_txt = ' '.join(lst)\n",
    "print(new_txt)"
   ]
  },
  {
   "cell_type": "code",
   "execution_count": null,
   "id": "4e753ffd-2f3e-4bca-b1b4-80777a97b46f",
   "metadata": {},
   "outputs": [],
   "source": []
  }
 ],
 "metadata": {
  "kernelspec": {
   "display_name": "Python 3 (ipykernel)",
   "language": "python",
   "name": "python3"
  },
  "language_info": {
   "codemirror_mode": {
    "name": "ipython",
    "version": 3
   },
   "file_extension": ".py",
   "mimetype": "text/x-python",
   "name": "python",
   "nbconvert_exporter": "python",
   "pygments_lexer": "ipython3",
   "version": "3.11.2"
  }
 },
 "nbformat": 4,
 "nbformat_minor": 5
}
