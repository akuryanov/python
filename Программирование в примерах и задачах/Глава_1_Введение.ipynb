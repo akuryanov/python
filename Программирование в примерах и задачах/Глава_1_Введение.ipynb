{
 "cells": [
  {
   "cell_type": "markdown",
   "id": "73d0ec35-1bf0-4bdd-9cc5-4a51125d792f",
   "metadata": {},
   "source": [
    "# Глава 1"
   ]
  },
  {
   "cell_type": "markdown",
   "id": "f7801db4-4d07-48b3-8117-3b865e2baa60",
   "metadata": {},
   "source": [
    "## Списки (list)"
   ]
  },
  {
   "cell_type": "markdown",
   "id": "a3a2cd8a-44c0-4944-a347-3976de2cb46b",
   "metadata": {},
   "source": [
    "Списки - упорядоченный набор значений. Значение формирующие список могут быть разных типов."
   ]
  },
  {
   "cell_type": "code",
   "execution_count": 9,
   "id": "723daf21-96cc-4ee7-8054-8dda3e15e64b",
   "metadata": {},
   "outputs": [
    {
     "name": "stdout",
     "output_type": "stream",
     "text": [
      "[1, 2, 3, 'apple', True]\n"
     ]
    }
   ],
   "source": [
    "list_ = [1, 2, 3, 'apple', True]\n",
    "print(list_)"
   ]
  },
  {
   "cell_type": "code",
   "execution_count": 10,
   "id": "6a1f9e0c-c1ef-486e-bacd-2f74461bff41",
   "metadata": {},
   "outputs": [
    {
     "name": "stdout",
     "output_type": "stream",
     "text": [
      "5\n"
     ]
    }
   ],
   "source": [
    "print(len(list_)) # Определение длины списка (количество его значений)"
   ]
  },
  {
   "cell_type": "markdown",
   "id": "6dc36352-e797-4db3-bbc3-253b0e30cf93",
   "metadata": {},
   "source": [
    "### Индексация списков"
   ]
  },
  {
   "cell_type": "code",
   "execution_count": 11,
   "id": "fb0a8731-9882-4a52-adc3-4a8daae1da57",
   "metadata": {},
   "outputs": [
    {
     "name": "stdout",
     "output_type": "stream",
     "text": [
      "3\n"
     ]
    }
   ],
   "source": [
    "print(list_[2])"
   ]
  },
  {
   "cell_type": "code",
   "execution_count": 12,
   "id": "f0125d75-36c1-423a-b7f0-35aab24a828c",
   "metadata": {},
   "outputs": [
    {
     "name": "stdout",
     "output_type": "stream",
     "text": [
      "[2, 3, 'apple']\n"
     ]
    }
   ],
   "source": [
    "print(list_[1:4]) # Вывод элементов с 2 по 4"
   ]
  },
  {
   "cell_type": "code",
   "execution_count": 14,
   "id": "faf65873-0d7c-4128-8f89-32ee1ab06bd1",
   "metadata": {},
   "outputs": [
    {
     "name": "stdout",
     "output_type": "stream",
     "text": [
      "[1, 2, 3, 'apple']\n"
     ]
    }
   ],
   "source": [
    "print(list_[:4]) # Вывод элементов с 0 по 4"
   ]
  },
  {
   "cell_type": "code",
   "execution_count": 16,
   "id": "919b5c45-9462-4e2d-913d-99cc637617a9",
   "metadata": {},
   "outputs": [
    {
     "name": "stdout",
     "output_type": "stream",
     "text": [
      "[3, 'apple', True]\n"
     ]
    }
   ],
   "source": [
    "print(list_[2:]) # Вывод элементов с 2 по последний"
   ]
  },
  {
   "cell_type": "code",
   "execution_count": 17,
   "id": "09c90d55-9bbc-48aa-8b35-494ea0e392fb",
   "metadata": {},
   "outputs": [
    {
     "name": "stdout",
     "output_type": "stream",
     "text": [
      "True\n"
     ]
    }
   ],
   "source": [
    "print(list_[-1]) # Вывод последнего элемента"
   ]
  },
  {
   "cell_type": "code",
   "execution_count": 20,
   "id": "bc4fbe1d-d739-49be-908d-7d4baffc7c90",
   "metadata": {},
   "outputs": [
    {
     "name": "stdout",
     "output_type": "stream",
     "text": [
      "[1, 2, 3, 'apple']\n"
     ]
    }
   ],
   "source": [
    "print(list_[:-1]) # Вывод всех элементов, кроме последнего"
   ]
  },
  {
   "cell_type": "markdown",
   "id": "1935484b-d2d2-4cc4-9b82-7f8e9b7c4276",
   "metadata": {},
   "source": [
    "### Операции над списками"
   ]
  },
  {
   "cell_type": "code",
   "execution_count": 21,
   "id": "19422a9d-f009-4d7a-86eb-5b91686e9729",
   "metadata": {},
   "outputs": [],
   "source": [
    "list_ = [5, 10, 1 ,7 ,6, 9]"
   ]
  },
  {
   "cell_type": "code",
   "execution_count": 26,
   "id": "22f4ee25-5492-42f3-8c56-507ddb297876",
   "metadata": {},
   "outputs": [
    {
     "name": "stdout",
     "output_type": "stream",
     "text": [
      "Максимальное значение:  10\n"
     ]
    }
   ],
   "source": [
    "print('Максимальное значение: ', max(list_))"
   ]
  },
  {
   "cell_type": "code",
   "execution_count": 25,
   "id": "e1f8d5d6-0f9e-4143-bf61-3db29ee65d9b",
   "metadata": {},
   "outputs": [
    {
     "name": "stdout",
     "output_type": "stream",
     "text": [
      "Минимальное значение:  1\n"
     ]
    }
   ],
   "source": [
    "print('Минимальное значение: ', min(list_))"
   ]
  },
  {
   "cell_type": "code",
   "execution_count": 28,
   "id": "a7bc6f70-638f-406f-85f6-d302d5a56086",
   "metadata": {},
   "outputs": [
    {
     "name": "stdout",
     "output_type": "stream",
     "text": [
      "Сумма значеий списка:  38\n"
     ]
    }
   ],
   "source": [
    "print('Сумма значеий списка: ', sum(list_))"
   ]
  },
  {
   "cell_type": "code",
   "execution_count": 32,
   "id": "5046c1ec-d01c-4db1-a884-394f432a4142",
   "metadata": {},
   "outputs": [
    {
     "name": "stdout",
     "output_type": "stream",
     "text": [
      "Список в обратнов порядке:  [9, 6, 7, 1, 10, 5]\n"
     ]
    }
   ],
   "source": [
    "print('Список в обратнов порядке: ', list(reversed(list_)))"
   ]
  },
  {
   "cell_type": "code",
   "execution_count": 33,
   "id": "2ca01be5-3bb8-4ed7-bd27-413212fd86e2",
   "metadata": {},
   "outputs": [
    {
     "name": "stdout",
     "output_type": "stream",
     "text": [
      "Сортировка по возрастанию:  [1, 5, 6, 7, 9, 10]\n"
     ]
    }
   ],
   "source": [
    "print('Сортировка по возрастанию: ', sorted(list_))"
   ]
  },
  {
   "cell_type": "code",
   "execution_count": 34,
   "id": "c8013361-0442-4e1a-b28b-05709b0184a4",
   "metadata": {},
   "outputs": [
    {
     "name": "stdout",
     "output_type": "stream",
     "text": [
      "Сортировка по убыванию:  [10, 9, 7, 6, 5, 1]\n"
     ]
    }
   ],
   "source": [
    "print('Сортировка по убыванию: ', sorted(list_, reverse=True))"
   ]
  },
  {
   "cell_type": "code",
   "execution_count": 35,
   "id": "c729519f-185e-4ab8-b3a2-9d991155e990",
   "metadata": {},
   "outputs": [],
   "source": [
    "list_[1] = 'text' # Замена второго элемента списка другим значением"
   ]
  },
  {
   "cell_type": "code",
   "execution_count": 37,
   "id": "7437ab89-a68d-495c-89d0-4ce4acea90cb",
   "metadata": {},
   "outputs": [
    {
     "name": "stdout",
     "output_type": "stream",
     "text": [
      "Список после изменения:  [5, 'text', 1, 7, 6, 9]\n"
     ]
    }
   ],
   "source": [
    "print('Список после изменения: ', list_)"
   ]
  },
  {
   "cell_type": "code",
   "execution_count": 38,
   "id": "9a11e060-5513-45f0-ae5c-65260014f04e",
   "metadata": {},
   "outputs": [],
   "source": [
    "list_[1:-1] = ['A', 'B']"
   ]
  },
  {
   "cell_type": "code",
   "execution_count": 39,
   "id": "a9a451d6-ac07-48cb-a8d4-a2057e454c1f",
   "metadata": {},
   "outputs": [
    {
     "name": "stdout",
     "output_type": "stream",
     "text": [
      "Список после изменения:  [5, 'A', 'B', 9]\n"
     ]
    }
   ],
   "source": [
    "print('Список после изменения: ', list_)"
   ]
  },
  {
   "cell_type": "code",
   "execution_count": 99,
   "id": "31e09b18-c7cf-4bc8-82d7-15f8972abdfb",
   "metadata": {},
   "outputs": [],
   "source": [
    "nums = list(range(4, 11))"
   ]
  },
  {
   "cell_type": "code",
   "execution_count": 100,
   "id": "f8762d5a-98c9-43c9-a12e-536d5b560774",
   "metadata": {},
   "outputs": [
    {
     "name": "stdout",
     "output_type": "stream",
     "text": [
      "Список чисел от 4 до 10:  [4, 5, 6, 7, 8, 9, 10]\n"
     ]
    }
   ],
   "source": [
    "print('Список чисел от 4 до 10: ', nums)"
   ]
  },
  {
   "cell_type": "code",
   "execution_count": 101,
   "id": "8874e686-067d-42c8-8c50-a9a902daa3b6",
   "metadata": {},
   "outputs": [],
   "source": [
    "del nums[-1]"
   ]
  },
  {
   "cell_type": "code",
   "execution_count": 102,
   "id": "b2c57685-80b7-4512-8030-a0a70560e49e",
   "metadata": {},
   "outputs": [
    {
     "name": "stdout",
     "output_type": "stream",
     "text": [
      "Удаление последнего элемента:  [4, 5, 6, 7, 8, 9]\n"
     ]
    }
   ],
   "source": [
    "print('Удаление последнего элемента: ', nums)"
   ]
  },
  {
   "cell_type": "code",
   "execution_count": 113,
   "id": "fe51b95c-5590-4bb3-8f73-e394b9c7f36c",
   "metadata": {},
   "outputs": [],
   "source": [
    "nums_1 = [2*k+1 for k in range(10)] # Геннератор списка"
   ]
  },
  {
   "cell_type": "code",
   "execution_count": 114,
   "id": "5b29e189-8bfd-468b-ade3-8ec2c4a1ce12",
   "metadata": {},
   "outputs": [
    {
     "name": "stdout",
     "output_type": "stream",
     "text": [
      "Список нечетных чисел:  [1, 3, 5, 7, 9, 11, 13, 15, 17, 19]\n"
     ]
    }
   ],
   "source": [
    "print('Список нечетных чисел: ', nums_1)"
   ]
  },
  {
   "cell_type": "code",
   "execution_count": 117,
   "id": "a5b3da0c-6c1e-4bc7-86e6-e4f81916ecb0",
   "metadata": {},
   "outputs": [],
   "source": [
    "nums_2 = [2*k for k in range(10)] # Геннератор списка"
   ]
  },
  {
   "cell_type": "code",
   "execution_count": 118,
   "id": "492a746e-8839-497c-85f2-25af2b0b7af4",
   "metadata": {},
   "outputs": [
    {
     "name": "stdout",
     "output_type": "stream",
     "text": [
      "Список четных чисел:  [0, 2, 4, 6, 8, 10, 12, 14, 16, 18]\n"
     ]
    }
   ],
   "source": [
    "print('Список четных чисел: ', nums_2)"
   ]
  },
  {
   "cell_type": "code",
   "execution_count": 119,
   "id": "3831b7ac-b3bc-4a4b-a86e-a052c267abfe",
   "metadata": {},
   "outputs": [],
   "source": [
    "symbs = 'Python'"
   ]
  },
  {
   "cell_type": "code",
   "execution_count": 120,
   "id": "9ba871fb-eeb9-4e18-8fd0-0a0d06934ecd",
   "metadata": {},
   "outputs": [
    {
     "name": "stdout",
     "output_type": "stream",
     "text": [
      "Список из символов строки ['P', 'y', 't', 'h', 'o', 'n']\n"
     ]
    }
   ],
   "source": [
    "print('Список из символов строки', list(symbs))"
   ]
  },
  {
   "cell_type": "markdown",
   "id": "3a404dae-12f6-41c7-9850-d2c32f541d6f",
   "metadata": {},
   "source": [
    "## Функции"
   ]
  },
  {
   "cell_type": "code",
   "execution_count": 96,
   "id": "69507ade-1a73-426e-85e1-9437f30fe7e3",
   "metadata": {},
   "outputs": [
    {
     "data": {
      "text/plain": [
       "'Сумма чисел от 1 до 10 = 55'"
      ]
     },
     "execution_count": 96,
     "metadata": {},
     "output_type": "execute_result"
    }
   ],
   "source": [
    "def sum_(n):\n",
    "    nums = [k for k in range(1, n+1)]\n",
    "    return f'Сумма чисел от {nums[0]} до {nums[-1]} = {sum(nums)}'\n",
    "sum_(10)"
   ]
  },
  {
   "cell_type": "markdown",
   "id": "6e386e05-9378-41ce-92a2-16444b85c32a",
   "metadata": {},
   "source": [
    "## Задания для самостоятельной работы"
   ]
  },
  {
   "cell_type": "markdown",
   "id": "12dd7ef6-4b6e-4948-8358-5c7f591065b7",
   "metadata": {},
   "source": [
    "#### № 4"
   ]
  },
  {
   "cell_type": "markdown",
   "id": "868b334a-5bf7-4461-9681-f2dedeed0c28",
   "metadata": {},
   "source": [
    "Напишите программу, в которой создается и отображается список, содержащий степени числа 2. Зазмер списка вводится пользователем"
   ]
  },
  {
   "cell_type": "code",
   "execution_count": 15,
   "id": "fca6f8f6-133e-458f-b117-8d5e129a3d37",
   "metadata": {},
   "outputs": [
    {
     "name": "stdin",
     "output_type": "stream",
     "text": [
      "Введите количество элементов списка: 15\n"
     ]
    },
    {
     "data": {
      "text/plain": [
       "[1, 2, 4, 8, 16, 32, 64, 128, 256, 512, 1024, 2048, 4096, 8192, 16384]"
      ]
     },
     "execution_count": 15,
     "metadata": {},
     "output_type": "execute_result"
    }
   ],
   "source": [
    "def sum_sq_2(n):\n",
    "    sum_sq = [2**i for i in range(0, n)]\n",
    "    return sum_sq  \n",
    "n = int(input('Введите количество элементов списка:'))\n",
    "sum_sq_2(n)\n",
    "    "
   ]
  },
  {
   "cell_type": "markdown",
   "id": "d3f2b958-1570-4233-be30-33fe4de5c4f0",
   "metadata": {},
   "source": [
    "#### № 5"
   ]
  },
  {
   "cell_type": "markdown",
   "id": "92d764d8-b4b4-46f7-a3a1-fd47dbe154bf",
   "metadata": {},
   "source": [
    "Напишите программу, создающую список из чисел, которые при делении на 5 дают остаток 3. Отобразить этот список в прямом и обратном порядке"
   ]
  },
  {
   "cell_type": "code",
   "execution_count": 18,
   "id": "a2f4b914-e166-4f9b-917d-5278e2f0f58a",
   "metadata": {},
   "outputs": [
    {
     "name": "stdin",
     "output_type": "stream",
     "text": [
      "Введите количество элементов списка: 10\n"
     ]
    },
    {
     "name": "stdout",
     "output_type": "stream",
     "text": [
      "Список чисел дающий в остатке отделения на 5 число 3: [3, 8, 13, 18, 23, 28, 33, 38, 43, 48]\n"
     ]
    }
   ],
   "source": [
    "def result(k):\n",
    "    nums = [5*i+3 for i in range(0, k)]\n",
    "    return nums\n",
    "print(f'Список чисел дающий в остатке отделения на 5 число 3: {result(k)}')"
   ]
  },
  {
   "cell_type": "markdown",
   "id": "66abb647-84b7-4b65-bbc0-4f1e5ac78634",
   "metadata": {},
   "source": [
    "#### № 6"
   ]
  },
  {
   "cell_type": "markdown",
   "id": "11351ee4-d24c-4561-b2b9-a43af5c651b4",
   "metadata": {},
   "source": [
    "Напишите программу, в которой проверяется, делится ли введенное число на 3"
   ]
  },
  {
   "cell_type": "code",
   "execution_count": 24,
   "id": "fcfc8c5c-1fc6-4c8e-ae61-fa1270714016",
   "metadata": {},
   "outputs": [
    {
     "name": "stdin",
     "output_type": "stream",
     "text": [
      "Введите число : 122\n"
     ]
    },
    {
     "name": "stdout",
     "output_type": "stream",
     "text": [
      "Число 122 не делится на 3 без остатка\n"
     ]
    }
   ],
   "source": [
    "def result(n):\n",
    "    if n % 3 == 0:\n",
    "        return f'Число {n} делится на 3 без остатка'\n",
    "    else:\n",
    "        return f'Число {n} не делится на 3 без остатка'\n",
    "n = int(input('Введите число :'))\n",
    "print(result(n))"
   ]
  },
  {
   "cell_type": "markdown",
   "id": "1fdd4358-399b-4de5-a7c8-d98e44b8f1d0",
   "metadata": {},
   "source": [
    "#### №7"
   ]
  },
  {
   "cell_type": "markdown",
   "id": "b94cd0a1-1c13-4107-87b9-a3fc54f6eafc",
   "metadata": {},
   "source": [
    "Напишите программу вычисляющую факториал числа, число для которого вычисляется факториал вводится пользователем"
   ]
  },
  {
   "cell_type": "code",
   "execution_count": 34,
   "id": "eaf17271-95f5-48a0-b20b-37ff257f5aed",
   "metadata": {},
   "outputs": [
    {
     "name": "stdin",
     "output_type": "stream",
     "text": [
      "Введите число : 10\n"
     ]
    },
    {
     "name": "stdout",
     "output_type": "stream",
     "text": [
      "362880\n"
     ]
    }
   ],
   "source": [
    "def factorial(n):\n",
    "    ''' Вычисление факториала через цикл for'''\n",
    "    fact = 1\n",
    "    for i in range (1, n):\n",
    "        fact = fact * i\n",
    "    return fact\n",
    "\n",
    "n = int(input('Введите число :'))\n",
    "print(factorial(n))    "
   ]
  },
  {
   "cell_type": "code",
   "execution_count": 36,
   "id": "63405a65-c917-4637-af00-48f3b70c3d79",
   "metadata": {},
   "outputs": [
    {
     "name": "stdin",
     "output_type": "stream",
     "text": [
      "Введите число : 10\n"
     ]
    },
    {
     "name": "stdout",
     "output_type": "stream",
     "text": [
      "3628800\n"
     ]
    }
   ],
   "source": [
    "def factorial(n):\n",
    "    ''' Вычисление факториала через рекурсию'''\n",
    "    if n == 1: \n",
    "        return n\n",
    "    else:\n",
    "        return n*factorial(n-1)\n",
    "\n",
    "n = int(input('Введите число :'))\n",
    "print(factorial(n)) "
   ]
  },
  {
   "cell_type": "markdown",
   "id": "9cbe3141-0657-4e05-a266-9eaf2a751ff9",
   "metadata": {},
   "source": [
    "#### № 8"
   ]
  },
  {
   "cell_type": "markdown",
   "id": "14fe1f2d-fa0f-4f56-911a-27ee4eac6087",
   "metadata": {},
   "source": [
    "Напишите программу в которой отображаются числа Фибоначчи, количестыо чисел вводится пользователем"
   ]
  },
  {
   "cell_type": "code",
   "execution_count": 68,
   "id": "cf5dfe22-a37d-43be-97d2-a71d82dbc888",
   "metadata": {},
   "outputs": [
    {
     "name": "stdin",
     "output_type": "stream",
     "text": [
      "Введите число : 10\n"
     ]
    },
    {
     "name": "stdout",
     "output_type": "stream",
     "text": [
      "[1, 1, 2, 3, 5, 8, 13, 21, 34, 55]\n"
     ]
    }
   ],
   "source": [
    "def fibonacci(n):\n",
    "     '''Получение списка чисел Фибоначчи через цикл for'''\n",
    "    a = 0\n",
    "    b = 1\n",
    "    list_fib = [b]\n",
    "    for i in range(2, n+1):\n",
    "        a,b = b, a+b\n",
    "        list_fib.append(b)    \n",
    "    return list_fib\n",
    "    \n",
    "n = int(input('Введите число :'))\n",
    "print(fibonacci(n))"
   ]
  },
  {
   "cell_type": "code",
   "execution_count": 76,
   "id": "83ee35d3-b72a-445f-aaf2-628661ec0992",
   "metadata": {},
   "outputs": [
    {
     "name": "stdin",
     "output_type": "stream",
     "text": [
      "Введите число : 10\n"
     ]
    },
    {
     "name": "stdout",
     "output_type": "stream",
     "text": [
      "55\n"
     ]
    }
   ],
   "source": [
    "def fibonacci(n):\n",
    "    '''Получение списка чисел Фибоначчи через рекурсию'''\n",
    "    if n <= 0:\n",
    "        return 0\n",
    "    elif n == 1:\n",
    "        return 1\n",
    "    # list_fib = [1]\n",
    "    fib = fibonacci(n-1) + fibonacci(n-2)\n",
    "    # list_fib.append(fib)\n",
    "    return fib\n",
    "\n",
    "n = int(input('Введите число :'))\n",
    "print(fibonacci(n))"
   ]
  },
  {
   "cell_type": "markdown",
   "id": "af0aeb88-4912-4643-a012-542efb95f6fd",
   "metadata": {},
   "source": [
    "#### № 9"
   ]
  },
  {
   "cell_type": "markdown",
   "id": "0921c4d6-dcbf-4ea0-b6e7-f21b90953b08",
   "metadata": {},
   "source": [
    "Напишите программу, в которой описана функция, возвращающая результатом второе по величине число в списке, переданном функции в качестве аргумента"
   ]
  },
  {
   "cell_type": "code",
   "execution_count": 90,
   "id": "e8e9ba27-64b4-4be4-944f-673f41771985",
   "metadata": {},
   "outputs": [
    {
     "name": "stdout",
     "output_type": "stream",
     "text": [
      "[10, 12, 7, 15, 4, 4, 4, 4]\n",
      "Второе по величине число в списке list_num = 7\n"
     ]
    }
   ],
   "source": [
    "def number_two(list_num):\n",
    "    list_num = list(set(list_num))\n",
    "    return list_num[1]\n",
    "\n",
    "list_num = [10, 12, 7, 15, 4, 4, 4, 4]\n",
    "print(list_num)\n",
    "print(f'Второе по величине число в списке list_num = {number_two(list_num)}')"
   ]
  },
  {
   "cell_type": "markdown",
   "id": "e0ae589f-a67b-4ada-adfd-6399aad841f2",
   "metadata": {},
   "source": [
    "#### № 10"
   ]
  },
  {
   "cell_type": "markdown",
   "id": "bc864ac8-a692-4b20-b5db-2b11ab0a3d96",
   "metadata": {},
   "source": [
    "Напишите программу, в которой описана функция, возвращающая сумму нечетных чисел, в последовательности, количество чисел передается аргументов функции"
   ]
  },
  {
   "cell_type": "code",
   "execution_count": 99,
   "id": "3e9735b5-8ed0-4c87-aee8-46c293788e73",
   "metadata": {},
   "outputs": [
    {
     "name": "stdin",
     "output_type": "stream",
     "text": [
      "Введите число : 10\n"
     ]
    },
    {
     "name": "stdout",
     "output_type": "stream",
     "text": [
      "Сумма чисел [1, 3, 5, 7, 9] равна 25\n"
     ]
    }
   ],
   "source": [
    "def sum_nechet(n):\n",
    "    s = 0\n",
    "    k = []\n",
    "    for i in range(1, n+1):\n",
    "        if i%2 != 0:\n",
    "            k.append(i)\n",
    "            s = s + i\n",
    "    return f'Сумма чисел {k} равна {s}'\n",
    "n = int(input('Введите число :'))\n",
    "print(sum_nechet(n))"
   ]
  },
  {
   "cell_type": "code",
   "execution_count": 101,
   "id": "63f2e874-fb89-4b99-bcf8-fc541222695d",
   "metadata": {},
   "outputs": [
    {
     "name": "stdin",
     "output_type": "stream",
     "text": [
      "Введите число : 10\n"
     ]
    },
    {
     "name": "stdout",
     "output_type": "stream",
     "text": [
      "Сумма чисел [True, False, True, False, True, False, True, False, True, False]\n"
     ]
    }
   ],
   "source": [
    "def sum_nechet(n):\n",
    "    s = [i%2!=0 for i in range(1, n+1)]\n",
    "        \n",
    "    return f'Сумма чисел {s}'\n",
    "n = int(input('Введите число :'))\n",
    "print(sum_nechet(n))"
   ]
  },
  {
   "cell_type": "code",
   "execution_count": null,
   "id": "0bbdcf8a-169e-4301-9ad5-ef4c9a0ee61a",
   "metadata": {},
   "outputs": [],
   "source": []
  }
 ],
 "metadata": {
  "kernelspec": {
   "display_name": "Python 3 (ipykernel)",
   "language": "python",
   "name": "python3"
  },
  "language_info": {
   "codemirror_mode": {
    "name": "ipython",
    "version": 3
   },
   "file_extension": ".py",
   "mimetype": "text/x-python",
   "name": "python",
   "nbconvert_exporter": "python",
   "pygments_lexer": "ipython3",
   "version": "3.11.2"
  }
 },
 "nbformat": 4,
 "nbformat_minor": 5
}
